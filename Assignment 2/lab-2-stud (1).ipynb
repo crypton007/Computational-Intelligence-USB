{
 "cells": [
  {
   "cell_type": "markdown",
   "metadata": {
    "id": "IHqZjrHhorSI"
   },
   "source": [
    "# Tensorflow basis"
   ]
  },
  {
   "cell_type": "markdown",
   "metadata": {
    "id": "p0X8ywdNpQRf"
   },
   "source": [
    "## Example 1\n",
    "\n",
    "Eager calculations in tensorflow\n",
    "\n",
    "Add two variables a = 1 and b = 10\n"
   ]
  },
  {
   "cell_type": "code",
   "execution_count": null,
   "metadata": {
    "colab": {
     "base_uri": "https://localhost:8080/"
    },
    "executionInfo": {
     "elapsed": 379,
     "status": "ok",
     "timestamp": 1635105415938,
     "user": {
      "displayName": "Miroslav Skrbek",
      "photoUrl": "https://lh3.googleusercontent.com/a/default-user=s64",
      "userId": "09090339778048681694"
     },
     "user_tz": -120
    },
    "id": "X049bV9WorSR",
    "outputId": "621c25e6-dcbd-4a25-9cad-d6b38b8e25f0"
   },
   "outputs": [],
   "source": [
    "# Example\n",
    "import numpy as np\n",
    "import tensorflow as tf\n",
    "\n",
    "print(tf.executing_eagerly())\n",
    "\n",
    "a = tf.Variable(1)\n",
    "b = tf.Variable(10)\n",
    "c = a + b\n",
    "print(c.numpy())"
   ]
  },
  {
   "cell_type": "markdown",
   "metadata": {
    "id": "7KkZe5r4p-hU"
   },
   "source": [
    "## Example 2\n"
   ]
  },
  {
   "cell_type": "code",
   "execution_count": null,
   "metadata": {
    "colab": {
     "base_uri": "https://localhost:8080/"
    },
    "executionInfo": {
     "elapsed": 16,
     "status": "ok",
     "timestamp": 1635105416565,
     "user": {
      "displayName": "Miroslav Skrbek",
      "photoUrl": "https://lh3.googleusercontent.com/a/default-user=s64",
      "userId": "09090339778048681694"
     },
     "user_tz": -120
    },
    "id": "yqgGl1bOvNvK",
    "outputId": "bd4b3761-1715-4790-8f3e-1236f2ad9918"
   },
   "outputs": [],
   "source": [
    "# Example\n",
    "\n",
    "@tf.function \n",
    "def add(a,b): \n",
    "  return a + b\n",
    "\n",
    "def sub(a,b):\n",
    "  return a - b  \n",
    "\n",
    "a = tf.Variable(5) \n",
    "b = tf.Variable(6)\n",
    "c = tf.Variable(1)\n",
    "\n",
    "x = add(a,sub(b,c))\n",
    "print(x.numpy())\n"
   ]
  },
  {
   "cell_type": "markdown",
   "metadata": {
    "id": "C8Wkt72q1od2"
   },
   "source": [
    "# Task 1\n",
    "\n",
    "Calculate by Tensorflow folowing expression $y = a * b + c$.\n",
    "\n",
    "a,b, and c are 2x2 matrixes. Numbers in matrixes depends on your choice.\n",
    "Multiplication is elementwise.\n"
   ]
  },
  {
   "cell_type": "code",
   "execution_count": null,
   "metadata": {
    "colab": {
     "base_uri": "https://localhost:8080/"
    },
    "executionInfo": {
     "elapsed": 15,
     "status": "ok",
     "timestamp": 1635105416567,
     "user": {
      "displayName": "Miroslav Skrbek",
      "photoUrl": "https://lh3.googleusercontent.com/a/default-user=s64",
      "userId": "09090339778048681694"
     },
     "user_tz": -120
    },
    "id": "eQKqnVCcorST",
    "outputId": "e547829d-9255-408b-a2ff-9ee7c2562d36"
   },
   "outputs": [],
   "source": [
    "Write your code here"
   ]
  },
  {
   "cell_type": "markdown",
   "metadata": {
    "id": "FfwIYjWT1tjU"
   },
   "source": [
    "# Example 3\n",
    "\n",
    "Draw a graf of the function $y=f(x)=x^2$ and its derivatice $y'=f'(x). Use Tensoflow for derivative calculation."
   ]
  },
  {
   "cell_type": "code",
   "execution_count": null,
   "metadata": {
    "colab": {
     "base_uri": "https://localhost:8080/",
     "height": 320
    },
    "executionInfo": {
     "elapsed": 477,
     "status": "ok",
     "timestamp": 1635106211562,
     "user": {
      "displayName": "Miroslav Skrbek",
      "photoUrl": "https://lh3.googleusercontent.com/a/default-user=s64",
      "userId": "09090339778048681694"
     },
     "user_tz": -120
    },
    "id": "XMIJkPiC4Zq3",
    "outputId": "4ade5a6c-402d-4cb4-cf78-8b6810386143"
   },
   "outputs": [],
   "source": [
    "# Example\n",
    "import tensorflow as tf\n",
    "import numpy as np\n",
    "import matplotlib.pyplot as plt\n",
    "\n",
    "tf.config.run_functions_eagerly(False)\n",
    "\n",
    "@tf.function\n",
    "def f(x):\n",
    "  y = x*x\n",
    "  return y\n",
    "\n",
    "@tf.function\n",
    "def dfdx(x):\n",
    "  y = f(x)\n",
    "  return tf.gradients(y, x)[0]\n",
    "\n",
    "x = tf.Variable([-3.,-2.,-1.,0.,1.,2.,3.])\n",
    "print(f(x).numpy())\n",
    "print(dfdx(x).numpy())\n",
    "\n",
    "plt.plot(f(x))\n",
    "plt.plot(dfdx(x))       "
   ]
  },
  {
   "cell_type": "markdown",
   "metadata": {
    "id": "RsoyoR_97wRL"
   },
   "source": [
    "# Task 2\n",
    "\n",
    "Draw a graf of the function $y=\\sigma(x)=\\frac{1}{1+e^{-x}}$ and its derivative $y'=s'(x)$. Use Tensoflow for derivative calculation."
   ]
  },
  {
   "cell_type": "code",
   "execution_count": null,
   "metadata": {
    "colab": {
     "base_uri": "https://localhost:8080/",
     "height": 283
    },
    "executionInfo": {
     "elapsed": 455,
     "status": "ok",
     "timestamp": 1635106557135,
     "user": {
      "displayName": "Miroslav Skrbek",
      "photoUrl": "https://lh3.googleusercontent.com/a/default-user=s64",
      "userId": "09090339778048681694"
     },
     "user_tz": -120
    },
    "id": "JdLkmdNmorSU",
    "outputId": "65b66963-4c70-4762-aa91-16c20133cd5f"
   },
   "outputs": [],
   "source": [
    "Write your code here"
   ]
  },
  {
   "cell_type": "markdown",
   "metadata": {
    "id": "cLwKB6Si7kwS"
   },
   "source": [
    "# Task 3\n",
    "\n",
    "Calculate the gradient of function $y=g(x,y)=e^{-\\frac{x^2+y^2}{2\\sigma^2}}$ for $\\sigma^2 = 0.5\\;\\mbox{and}\\;x = 1\\;\\mbox{and}\\;y = 1$"
   ]
  },
  {
   "cell_type": "code",
   "execution_count": null,
   "metadata": {
    "colab": {
     "base_uri": "https://localhost:8080/"
    },
    "executionInfo": {
     "elapsed": 405,
     "status": "ok",
     "timestamp": 1635107819785,
     "user": {
      "displayName": "Miroslav Skrbek",
      "photoUrl": "https://lh3.googleusercontent.com/a/default-user=s64",
      "userId": "09090339778048681694"
     },
     "user_tz": -120
    },
    "id": "WYcL7uk2orSV",
    "outputId": "2299fb4f-07ff-4ae2-b746-0af61bf4e8d3"
   },
   "outputs": [],
   "source": [
    "Write your code here"
   ]
  },
  {
   "cell_type": "markdown",
   "metadata": {
    "id": "A2LslzJfBpxg"
   },
   "source": [
    "# Task 4\n",
    "\n",
    "Create a simple neural feed forward neural network using Tensorflow.\n",
    "\n",
    "Input layer -> hidden layer -> output layer\n",
    "\n",
    "for IRIS dataset"
   ]
  },
  {
   "cell_type": "code",
   "execution_count": null,
   "metadata": {
    "colab": {
     "base_uri": "https://localhost:8080/",
     "height": 595
    },
    "executionInfo": {
     "elapsed": 393,
     "status": "error",
     "timestamp": 1635109151980,
     "user": {
      "displayName": "Miroslav Skrbek",
      "photoUrl": "https://lh3.googleusercontent.com/a/default-user=s64",
      "userId": "09090339778048681694"
     },
     "user_tz": -120
    },
    "id": "YrLz_TkB-bfT",
    "outputId": "83b0207c-7bcb-4787-97ff-f4efaf21e19d"
   },
   "outputs": [],
   "source": [
    "Write your code here"
   ]
  },
  {
   "cell_type": "code",
   "execution_count": null,
   "metadata": {
    "id": "s1I_7TDwC437"
   },
   "outputs": [],
   "source": [
    "Write your code here"
   ]
  }
 ],
 "metadata": {
  "colab": {
   "collapsed_sections": [],
   "name": "lab-2.ipynb",
   "provenance": []
  },
  "kernelspec": {
   "display_name": "Python 3",
   "language": "python",
   "name": "python3"
  },
  "language_info": {
   "codemirror_mode": {
    "name": "ipython",
    "version": 3
   },
   "file_extension": ".py",
   "mimetype": "text/x-python",
   "name": "python",
   "nbconvert_exporter": "python",
   "pygments_lexer": "ipython3",
   "version": "3.7.7"
  }
 },
 "nbformat": 4,
 "nbformat_minor": 1
}
