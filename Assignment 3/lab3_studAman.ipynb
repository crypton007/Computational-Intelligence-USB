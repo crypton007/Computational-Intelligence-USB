{
 "cells": [
  {
   "cell_type": "markdown",
   "metadata": {
    "id": "uGHCiLHJ6GWg"
   },
   "source": [
    "# Task 1\n",
    "\n",
    "Extract a subset of traning samples from the MNIST handwriten signatures. Create a small convolution neural network with two convolution layers, two pool layers, flatten, dense layer and softmax layer to classify the images. Find out classification error for learning set and testing set.\n",
    "\n"
   ]
  },
  {
   "cell_type": "code",
   "execution_count": null,
   "metadata": {
    "colab": {
     "base_uri": "https://localhost:8080/"
    },
    "id": "SLPBCZhXkw5H",
    "outputId": "7e6e648a-b469-4cb6-b0d0-e5e9966c1cb9"
   },
   "outputs": [
    {
     "name": "stdout",
     "output_type": "stream",
     "text": [
      "Downloading data from https://storage.googleapis.com/tensorflow/tf-keras-datasets/mnist.npz\n",
      "11490434/11490434 [==============================] - 1s 0us/step\n",
      "X_train shape:  (1000, 28, 28, 1)\n",
      "X_test shape:  (100, 28, 28, 1)\n",
      "y_train shape:  (1000,)\n",
      "y_test shape:  (100,)\n",
      "(1000, 10)\n",
      "(100, 10)\n",
      "float64\n",
      "float32\n"
     ]
    }
   ],
   "source": [
    "import numpy as np\n",
    "from keras.datasets import mnist\n",
    "import pandas as pd\n",
    "\n",
    "(X_train, y_train), (X_test, y_test) = mnist.load_data()\n",
    "X_train = X_train / 255\n",
    "X_test = X_test / 255\n",
    "X_train = X_train.reshape(-1,28,28,1) \n",
    "\n",
    "X_train = X_train[:1000,:,:]\n",
    "\n",
    "X_test = X_test[:100,:,:]\n",
    "y_train = y_train[:1000]\n",
    "y_test  = y_test[:100]\n",
    "X_test = np.array(X_test)\n",
    "X_test = X_test.reshape(-1,28,28,1) \n",
    "\n",
    "print('X_train shape: ',X_train.shape)\n",
    "print('X_test shape: ',np.shape(X_test ))\n",
    "print('y_train shape: ',y_train.shape)\n",
    "print('y_test shape: ',np.shape(y_test ))\n",
    "\n",
    "y_train = pd.get_dummies(y_train)\n",
    "y_test = pd.get_dummies(y_test)\n",
    "\n",
    "print(y_train.shape)\n",
    "print(y_test.shape)\n",
    "\n",
    "print(X_train.dtype)\n",
    "r=np.ptp(X_train,axis=1)\n",
    "#print(r)\n",
    "#Normalising data\n",
    "X_train = X_train.astype('float32')/255\n",
    "X_test = X_test.astype('float32')/255\n",
    "print(X_train.dtype)"
   ]
  },
  {
   "cell_type": "code",
   "execution_count": null,
   "metadata": {
    "colab": {
     "base_uri": "https://localhost:8080/"
    },
    "id": "ieacfdR2k6O2",
    "outputId": "f4ec15d9-78aa-41d3-8901-70041d3e97af"
   },
   "outputs": [
    {
     "name": "stdout",
     "output_type": "stream",
     "text": [
      "Model: \"sequential\"\n",
      "_________________________________________________________________\n",
      " Layer (type)                Output Shape              Param #   \n",
      "=================================================================\n",
      " conv2d (Conv2D)             (None, 26, 26, 32)        320       \n",
      "                                                                 \n",
      " max_pooling2d (MaxPooling2D  (None, 13, 13, 32)       0         \n",
      " )                                                               \n",
      "                                                                 \n",
      " conv2d_1 (Conv2D)           (None, 11, 11, 32)        9248      \n",
      "                                                                 \n",
      " max_pooling2d_1 (MaxPooling  (None, 5, 5, 32)         0         \n",
      " 2D)                                                             \n",
      "                                                                 \n",
      " flatten (Flatten)           (None, 800)               0         \n",
      "                                                                 \n",
      " dense (Dense)               (None, 100)               80100     \n",
      "                                                                 \n",
      " dense_1 (Dense)             (None, 10)                1010      \n",
      "                                                                 \n",
      "=================================================================\n",
      "Total params: 90,678\n",
      "Trainable params: 90,678\n",
      "Non-trainable params: 0\n",
      "_________________________________________________________________\n"
     ]
    }
   ],
   "source": [
    "#Creating model\n",
    "import tensorflow as tf\n",
    "import numpy as np\n",
    "import csv\n",
    "from datetime import datetime\n",
    "\n",
    "model = tf.keras.Sequential()\n",
    "model.add(tf.keras.layers.Input(shape=(28,28,1)))\n",
    "model.add(tf.keras.layers.Conv2D(32, (3, 3), activation='relu'))\n",
    "model.add(tf.keras.layers.MaxPooling2D((2, 2)))\n",
    "model.add(tf.keras.layers.Conv2D(32, (3, 3), activation='relu'))\n",
    "model.add(tf.keras.layers.MaxPooling2D((2, 2)))\n",
    "model.add(tf.keras.layers.Flatten())\n",
    "model.add(tf.keras.layers.Dense(100, activation=tf.keras.activations.relu))\n",
    "model.add(tf.keras.layers.Dense(10, activation='softmax'))\n",
    "model.summary()\n",
    "model.compile(optimizer=tf.keras.optimizers.Adam(learning_rate=0.001),\n",
    "              loss=\"mean_squared_error\", metrics=['accuracy'])"
   ]
  },
  {
   "cell_type": "code",
   "execution_count": null,
   "metadata": {
    "colab": {
     "base_uri": "https://localhost:8080/"
    },
    "id": "k0ND4iYIYhpa",
    "outputId": "77726703-6e75-4431-d280-41bee365f4e4"
   },
   "outputs": [
    {
     "name": "stdout",
     "output_type": "stream",
     "text": [
      "Epoch 1/50\n",
      "29/29 - 3s - loss: 0.0900 - accuracy: 0.0900 - val_loss: 0.0900 - val_accuracy: 0.1000 - 3s/epoch - 116ms/step\n",
      "Epoch 2/50\n",
      "29/29 - 1s - loss: 0.0900 - accuracy: 0.1178 - val_loss: 0.0899 - val_accuracy: 0.1000 - 1s/epoch - 51ms/step\n",
      "Epoch 3/50\n",
      "29/29 - 1s - loss: 0.0900 - accuracy: 0.1178 - val_loss: 0.0899 - val_accuracy: 0.1000 - 1s/epoch - 49ms/step\n",
      "Epoch 4/50\n",
      "29/29 - 1s - loss: 0.0900 - accuracy: 0.1178 - val_loss: 0.0899 - val_accuracy: 0.1000 - 1s/epoch - 50ms/step\n",
      "Epoch 5/50\n",
      "29/29 - 2s - loss: 0.0899 - accuracy: 0.1178 - val_loss: 0.0899 - val_accuracy: 0.1000 - 2s/epoch - 55ms/step\n",
      "Epoch 6/50\n",
      "29/29 - 2s - loss: 0.0898 - accuracy: 0.1178 - val_loss: 0.0897 - val_accuracy: 0.1000 - 2s/epoch - 56ms/step\n",
      "Epoch 7/50\n",
      "29/29 - 1s - loss: 0.0894 - accuracy: 0.2333 - val_loss: 0.0892 - val_accuracy: 0.1000 - 1s/epoch - 49ms/step\n",
      "Epoch 8/50\n",
      "29/29 - 1s - loss: 0.0876 - accuracy: 0.2533 - val_loss: 0.0861 - val_accuracy: 0.2800 - 1s/epoch - 51ms/step\n",
      "Epoch 9/50\n",
      "29/29 - 1s - loss: 0.0827 - accuracy: 0.2900 - val_loss: 0.0807 - val_accuracy: 0.4300 - 1s/epoch - 41ms/step\n",
      "Epoch 10/50\n",
      "29/29 - 1s - loss: 0.0738 - accuracy: 0.4356 - val_loss: 0.0692 - val_accuracy: 0.5400 - 1s/epoch - 49ms/step\n",
      "Epoch 11/50\n",
      "29/29 - 2s - loss: 0.0638 - accuracy: 0.5389 - val_loss: 0.0601 - val_accuracy: 0.6000 - 2s/epoch - 56ms/step\n",
      "Epoch 12/50\n",
      "29/29 - 1s - loss: 0.0553 - accuracy: 0.6144 - val_loss: 0.0554 - val_accuracy: 0.6000 - 1s/epoch - 51ms/step\n",
      "Epoch 13/50\n",
      "29/29 - 1s - loss: 0.0472 - accuracy: 0.6978 - val_loss: 0.0487 - val_accuracy: 0.7100 - 773ms/epoch - 27ms/step\n",
      "Epoch 14/50\n",
      "29/29 - 1s - loss: 0.0411 - accuracy: 0.7456 - val_loss: 0.0485 - val_accuracy: 0.6100 - 733ms/epoch - 25ms/step\n",
      "Epoch 15/50\n",
      "29/29 - 1s - loss: 0.0392 - accuracy: 0.7433 - val_loss: 0.0446 - val_accuracy: 0.7000 - 740ms/epoch - 26ms/step\n",
      "Epoch 16/50\n",
      "29/29 - 1s - loss: 0.0342 - accuracy: 0.7878 - val_loss: 0.0430 - val_accuracy: 0.6700 - 741ms/epoch - 26ms/step\n",
      "Epoch 17/50\n",
      "29/29 - 1s - loss: 0.0321 - accuracy: 0.7933 - val_loss: 0.0416 - val_accuracy: 0.7000 - 717ms/epoch - 25ms/step\n",
      "Epoch 18/50\n",
      "29/29 - 1s - loss: 0.0304 - accuracy: 0.8011 - val_loss: 0.0382 - val_accuracy: 0.7200 - 731ms/epoch - 25ms/step\n",
      "Epoch 19/50\n",
      "29/29 - 1s - loss: 0.0285 - accuracy: 0.8167 - val_loss: 0.0358 - val_accuracy: 0.7300 - 747ms/epoch - 26ms/step\n",
      "Epoch 20/50\n",
      "29/29 - 1s - loss: 0.0268 - accuracy: 0.8322 - val_loss: 0.0360 - val_accuracy: 0.7200 - 733ms/epoch - 25ms/step\n",
      "Epoch 21/50\n",
      "29/29 - 1s - loss: 0.0262 - accuracy: 0.8256 - val_loss: 0.0361 - val_accuracy: 0.7500 - 717ms/epoch - 25ms/step\n",
      "Epoch 22/50\n",
      "29/29 - 1s - loss: 0.0248 - accuracy: 0.8411 - val_loss: 0.0347 - val_accuracy: 0.7500 - 738ms/epoch - 25ms/step\n",
      "Epoch 23/50\n",
      "29/29 - 1s - loss: 0.0239 - accuracy: 0.8444 - val_loss: 0.0349 - val_accuracy: 0.7400 - 757ms/epoch - 26ms/step\n",
      "Epoch 24/50\n",
      "29/29 - 1s - loss: 0.0234 - accuracy: 0.8422 - val_loss: 0.0337 - val_accuracy: 0.7300 - 729ms/epoch - 25ms/step\n",
      "Epoch 25/50\n",
      "29/29 - 1s - loss: 0.0233 - accuracy: 0.8444 - val_loss: 0.0334 - val_accuracy: 0.7400 - 762ms/epoch - 26ms/step\n",
      "Epoch 26/50\n",
      "29/29 - 1s - loss: 0.0228 - accuracy: 0.8444 - val_loss: 0.0330 - val_accuracy: 0.7500 - 778ms/epoch - 27ms/step\n",
      "Epoch 27/50\n",
      "29/29 - 1s - loss: 0.0217 - accuracy: 0.8567 - val_loss: 0.0346 - val_accuracy: 0.7600 - 756ms/epoch - 26ms/step\n",
      "Epoch 28/50\n",
      "29/29 - 1s - loss: 0.0218 - accuracy: 0.8522 - val_loss: 0.0326 - val_accuracy: 0.7400 - 737ms/epoch - 25ms/step\n",
      "Epoch 29/50\n",
      "29/29 - 1s - loss: 0.0203 - accuracy: 0.8711 - val_loss: 0.0321 - val_accuracy: 0.7800 - 748ms/epoch - 26ms/step\n",
      "Epoch 30/50\n",
      "29/29 - 1s - loss: 0.0197 - accuracy: 0.8689 - val_loss: 0.0291 - val_accuracy: 0.8100 - 757ms/epoch - 26ms/step\n",
      "Epoch 31/50\n",
      "29/29 - 1s - loss: 0.0193 - accuracy: 0.8767 - val_loss: 0.0291 - val_accuracy: 0.7900 - 738ms/epoch - 25ms/step\n",
      "Epoch 32/50\n",
      "29/29 - 1s - loss: 0.0192 - accuracy: 0.8789 - val_loss: 0.0291 - val_accuracy: 0.8100 - 736ms/epoch - 25ms/step\n",
      "Epoch 33/50\n",
      "29/29 - 1s - loss: 0.0189 - accuracy: 0.8811 - val_loss: 0.0283 - val_accuracy: 0.8200 - 742ms/epoch - 26ms/step\n",
      "Epoch 34/50\n",
      "29/29 - 1s - loss: 0.0180 - accuracy: 0.8844 - val_loss: 0.0274 - val_accuracy: 0.8200 - 749ms/epoch - 26ms/step\n",
      "Epoch 35/50\n",
      "29/29 - 1s - loss: 0.0179 - accuracy: 0.8878 - val_loss: 0.0278 - val_accuracy: 0.8100 - 727ms/epoch - 25ms/step\n",
      "Epoch 36/50\n",
      "29/29 - 1s - loss: 0.0175 - accuracy: 0.8922 - val_loss: 0.0282 - val_accuracy: 0.8300 - 755ms/epoch - 26ms/step\n",
      "Epoch 37/50\n",
      "29/29 - 1s - loss: 0.0169 - accuracy: 0.8911 - val_loss: 0.0247 - val_accuracy: 0.8500 - 731ms/epoch - 25ms/step\n",
      "Epoch 38/50\n",
      "29/29 - 1s - loss: 0.0168 - accuracy: 0.8956 - val_loss: 0.0252 - val_accuracy: 0.8700 - 732ms/epoch - 25ms/step\n",
      "Epoch 39/50\n",
      "29/29 - 1s - loss: 0.0156 - accuracy: 0.9044 - val_loss: 0.0251 - val_accuracy: 0.8400 - 721ms/epoch - 25ms/step\n",
      "Epoch 40/50\n",
      "29/29 - 1s - loss: 0.0154 - accuracy: 0.9056 - val_loss: 0.0239 - val_accuracy: 0.8500 - 758ms/epoch - 26ms/step\n",
      "Epoch 41/50\n",
      "29/29 - 1s - loss: 0.0157 - accuracy: 0.9000 - val_loss: 0.0236 - val_accuracy: 0.8700 - 732ms/epoch - 25ms/step\n",
      "Epoch 42/50\n",
      "29/29 - 1s - loss: 0.0149 - accuracy: 0.9056 - val_loss: 0.0225 - val_accuracy: 0.8600 - 729ms/epoch - 25ms/step\n",
      "Epoch 43/50\n",
      "29/29 - 1s - loss: 0.0147 - accuracy: 0.9133 - val_loss: 0.0236 - val_accuracy: 0.8400 - 752ms/epoch - 26ms/step\n",
      "Epoch 44/50\n",
      "29/29 - 1s - loss: 0.0144 - accuracy: 0.9100 - val_loss: 0.0239 - val_accuracy: 0.8600 - 744ms/epoch - 26ms/step\n",
      "Epoch 45/50\n",
      "29/29 - 1s - loss: 0.0141 - accuracy: 0.9156 - val_loss: 0.0242 - val_accuracy: 0.8600 - 735ms/epoch - 25ms/step\n",
      "Epoch 46/50\n",
      "29/29 - 1s - loss: 0.0137 - accuracy: 0.9167 - val_loss: 0.0219 - val_accuracy: 0.8800 - 744ms/epoch - 26ms/step\n",
      "Epoch 47/50\n",
      "29/29 - 1s - loss: 0.0143 - accuracy: 0.9122 - val_loss: 0.0229 - val_accuracy: 0.8400 - 751ms/epoch - 26ms/step\n",
      "Epoch 48/50\n",
      "29/29 - 1s - loss: 0.0132 - accuracy: 0.9200 - val_loss: 0.0218 - val_accuracy: 0.8500 - 760ms/epoch - 26ms/step\n",
      "Epoch 49/50\n",
      "29/29 - 1s - loss: 0.0132 - accuracy: 0.9167 - val_loss: 0.0236 - val_accuracy: 0.8500 - 757ms/epoch - 26ms/step\n",
      "Epoch 50/50\n",
      "29/29 - 1s - loss: 0.0133 - accuracy: 0.9144 - val_loss: 0.0210 - val_accuracy: 0.8700 - 785ms/epoch - 27ms/step\n"
     ]
    },
    {
     "data": {
      "text/plain": [
       "<keras.callbacks.History at 0x7f1526f6acd0>"
      ]
     },
     "execution_count": 4,
     "metadata": {},
     "output_type": "execute_result"
    }
   ],
   "source": [
    "# model training with tensorboard visualization\n",
    "\n",
    "\n",
    "model.fit(X_train, y_train, shuffle=True, validation_split=0.1,\n",
    "          batch_size=32, epochs= 50, verbose=2)\n"
   ]
  },
  {
   "cell_type": "code",
   "execution_count": null,
   "metadata": {
    "colab": {
     "base_uri": "https://localhost:8080/"
    },
    "id": "PQfC7fWZZ9eB",
    "outputId": "dc1c31f9-66af-4661-9269-66e18abbf2ec"
   },
   "outputs": [
    {
     "name": "stdout",
     "output_type": "stream",
     "text": [
      "4/4 [==============================] - 0s 9ms/step - loss: 0.0230 - accuracy: 0.8100\n",
      "[0.023037351667881012, 0.8100000023841858]\n"
     ]
    }
   ],
   "source": [
    "eval = model.evaluate(X_test,y_test)\n",
    "print(eval)"
   ]
  },
  {
   "cell_type": "code",
   "execution_count": null,
   "metadata": {
    "colab": {
     "base_uri": "https://localhost:8080/",
     "height": 235
    },
    "id": "wb6gaqhSnUGJ",
    "outputId": "3fcb52c4-22c5-4d5d-a19a-c393ccce4059"
   },
   "outputs": [
    {
     "ename": "NameError",
     "evalue": "ignored",
     "output_type": "error",
     "traceback": [
      "\u001b[0;31m---------------------------------------------------------------------------\u001b[0m",
      "\u001b[0;31mNameError\u001b[0m                                 Traceback (most recent call last)",
      "\u001b[0;32m<ipython-input-6-33ab597bebc2>\u001b[0m in \u001b[0;36m<module>\u001b[0;34m\u001b[0m\n\u001b[1;32m      8\u001b[0m \u001b[0mimage\u001b[0m \u001b[0;34m=\u001b[0m \u001b[0;36m255\u001b[0m\u001b[0;34m-\u001b[0m\u001b[0mimage\u001b[0m\u001b[0;34m\u001b[0m\u001b[0;34m\u001b[0m\u001b[0m\n\u001b[1;32m      9\u001b[0m \u001b[0mimage\u001b[0m \u001b[0;34m/=\u001b[0m \u001b[0;36m255\u001b[0m\u001b[0;34m\u001b[0m\u001b[0;34m\u001b[0m\u001b[0m\n\u001b[0;32m---> 10\u001b[0;31m \u001b[0mplt\u001b[0m\u001b[0;34m.\u001b[0m\u001b[0mimshow\u001b[0m\u001b[0;34m(\u001b[0m\u001b[0mimage\u001b[0m\u001b[0;34m.\u001b[0m\u001b[0mreshape\u001b[0m\u001b[0;34m(\u001b[0m\u001b[0;36m28\u001b[0m\u001b[0;34m,\u001b[0m \u001b[0;36m28\u001b[0m\u001b[0;34m)\u001b[0m\u001b[0;34m,\u001b[0m\u001b[0mcmap\u001b[0m\u001b[0;34m=\u001b[0m\u001b[0;34m'Greys'\u001b[0m\u001b[0;34m)\u001b[0m\u001b[0;34m\u001b[0m\u001b[0;34m\u001b[0m\u001b[0m\n\u001b[0m\u001b[1;32m     11\u001b[0m \u001b[0mplt\u001b[0m\u001b[0;34m.\u001b[0m\u001b[0mshow\u001b[0m\u001b[0;34m(\u001b[0m\u001b[0;34m)\u001b[0m\u001b[0;34m\u001b[0m\u001b[0;34m\u001b[0m\u001b[0m\n\u001b[1;32m     12\u001b[0m \u001b[0mpred\u001b[0m \u001b[0;34m=\u001b[0m \u001b[0mmodel\u001b[0m\u001b[0;34m.\u001b[0m\u001b[0mpredict\u001b[0m\u001b[0;34m(\u001b[0m\u001b[0mimage\u001b[0m\u001b[0;34m.\u001b[0m\u001b[0mreshape\u001b[0m\u001b[0;34m(\u001b[0m\u001b[0;36m1\u001b[0m\u001b[0;34m,\u001b[0m \u001b[0;36m28\u001b[0m\u001b[0;34m,\u001b[0m \u001b[0;36m28\u001b[0m\u001b[0;34m,\u001b[0m \u001b[0;36m1\u001b[0m\u001b[0;34m)\u001b[0m\u001b[0;34m,\u001b[0m \u001b[0mbatch_size\u001b[0m\u001b[0;34m=\u001b[0m\u001b[0;36m1\u001b[0m\u001b[0;34m)\u001b[0m\u001b[0;34m\u001b[0m\u001b[0;34m\u001b[0m\u001b[0m\n",
      "\u001b[0;31mNameError\u001b[0m: name 'plt' is not defined"
     ]
    }
   ],
   "source": [
    "import cv2 as cv\n",
    "from matplotlib.pyplot import *\n",
    "file=\"mnistTest.png\"\n",
    "image = np.array(cv.imread(file, cv.IMREAD_GRAYSCALE))\n",
    "#image = cv.resize(file, (28, 28))\n",
    "image = image.astype('float32')\n",
    "#image = image.reshape(1, 28, 28, 1)\n",
    "image = 255-image\n",
    "image /= 255\n",
    "plt.imshow(image.reshape(28, 28),cmap='Greys')\n",
    "plt.show()\n",
    "pred = model.predict(image.reshape(1, 28, 28, 1), batch_size=1)\n",
    "\n",
    "print(pred.argmax())"
   ]
  },
  {
   "cell_type": "code",
   "execution_count": null,
   "metadata": {
    "id": "-Bb1e2HmadDe"
   },
   "outputs": [],
   "source": []
  },
  {
   "cell_type": "code",
   "execution_count": null,
   "metadata": {
    "id": "xC7DG8Ag7i0I"
   },
   "outputs": [],
   "source": [
    "from keras.datasets import mnist\n",
    "import numpy as np\n",
    "\n",
    "(x_train, y_train), (x_test, y_test) = mnist.load_data()\n",
    "\n",
    "def filter_num(x, y, num):\n",
    "    keep = (y == num)\n",
    "    x, y = x[keep], y[keep]\n",
    "    return x[:100,:,:],y[:100]\n",
    "\n",
    "x1_train, y1_train = filter_num(x_train, y_train,5)\n",
    "print(\"Number of filtered training examples:\", len(x1_train))\n",
    "print(y1_train[55])\n",
    "\n",
    "x2_train, y2_train = filter_num(x_train, y_train,6)\n",
    "print(\"Number of filtered training examples:\", len(x2_train))\n",
    "print(y2_train[55])\n",
    "\n",
    "xtrain = np.empty(x_train.shape)\n",
    "ytrain = np.empty(y_train.shape)\n",
    "\n",
    "for i in range(0,9):\n",
    "  xtrain , ytrain = np.concatenate(xtrain, ytrain,filter_num(x_train,y_train,i))\n",
    "\n",
    "print(len(xtrain))\n"
   ]
  },
  {
   "cell_type": "code",
   "execution_count": null,
   "metadata": {
    "id": "IRtlGEc-cIyZ"
   },
   "outputs": [],
   "source": [
    "#class 10/11 thingy\n",
    "#try to generate random data with repeatition\n",
    "#def hypergeom_version(x, y, z, data):\n",
    "#    s = sample(z, data)\n",
    "#    result = np.repeat(np.arange(x, y), s)\n",
    "#    return result\n",
    "\n",
    "#prof example\n",
    "import numpy as np\n",
    "import random\n",
    "\n",
    "data1=[]\n",
    "#comm=[]\n",
    "for i in range(5):\n",
    "  patt=[]\n",
    "  for j in range(4):\n",
    "    x=random.random()\n",
    "    patt.append(x)\n",
    "  if i>0:\n",
    "    p=patt+comm\n",
    "    data1.append(p)\n",
    "  else:\n",
    "    comm=patt\n",
    "print(data1)\n",
    "\n",
    "data2=[]\n",
    "for i in range(100):\n",
    "  r = random.randint(0,3)\n",
    "  data2.append(data1[r])\n",
    "data=np.array(data2)\n",
    "print(data.shape)\n"
   ]
  },
  {
   "cell_type": "code",
   "execution_count": null,
   "metadata": {
    "id": "E2xLj60-hePp"
   },
   "outputs": [],
   "source": [
    "import tensorflow as tf\n",
    "import numpy as np\n",
    "\n",
    "model = tf.keras.models.Sequential()\n",
    "model.add(tf.keras.layers.Input(8,))\n",
    "model.add(tf.keras.layers.Dense(2,activation=\"relu\"))\n",
    "model.add(tf.keras.layers.Dense(8,activation=\"sigmoid\"))\n",
    "\n",
    "model.summary()\n",
    "\n",
    "model.compile(optimizer=tf.keras.optimizers.Adam(learning_rate=0.05),loss=\"mse\",metrics=[\"accuracy\"])\n",
    "\n",
    "hist=model.fit(data,data,epochs=50,batch_size=5)\n",
    "model.save('aeSimpleModel.h5')"
   ]
  },
  {
   "cell_type": "code",
   "execution_count": null,
   "metadata": {
    "id": "iYC89-8xiNg9"
   },
   "outputs": [],
   "source": [
    "eval = model.evaluate(data,data)\n",
    "print(eval)"
   ]
  },
  {
   "cell_type": "code",
   "execution_count": null,
   "metadata": {
    "id": "Kk4FG7r2kZVx"
   },
   "outputs": [],
   "source": [
    "import matplotlib.pyplot as plt\n",
    "\n",
    "plt.plot(hist.history['accuracy'])\n"
   ]
  },
  {
   "cell_type": "code",
   "execution_count": null,
   "metadata": {
    "id": "VffhQGuklIxp"
   },
   "outputs": [],
   "source": [
    "plt.plot(hist.history['loss'])"
   ]
  },
  {
   "cell_type": "code",
   "execution_count": null,
   "metadata": {
    "id": "Uao6z8IvlL_G"
   },
   "outputs": [],
   "source": [
    "#encoder\n",
    "\n",
    "enc_model = tf.keras.models.Model(name='enc',inputs=model.input,outputs=model.layers[0].output)\n",
    "enc_model.summary()\n",
    "\n",
    "dec_model = tf.keras.models.Model(name='dec',inputs=model.layers[1].input, outputs=model.output)\n",
    "dec_model.summary()\n",
    "\n",
    "def l_space(d,o,m):\n",
    "  ev=m.predict(d)\n",
    "  print(ev.shape)\n",
    "  plt.scatter(ev[:,0],ev[:,1])\n",
    "  plt.show()\n",
    "\n",
    "l_space(data,data,enc_model)"
   ]
  },
  {
   "cell_type": "code",
   "execution_count": null,
   "metadata": {
    "id": "VyuzuF6emlUU"
   },
   "outputs": [],
   "source": [
    "l_space(data,data,dec_model)"
   ]
  },
  {
   "cell_type": "markdown",
   "metadata": {
    "id": "wQPdK-QLnUGp"
   },
   "source": [
    "# Task 2\n",
    "\n",
    "Create an autoencoder for MNIST fashion dataset. The input and the output is the same image of a number 28x28 pixels.\n",
    "\n"
   ]
  },
  {
   "cell_type": "code",
   "execution_count": 22,
   "metadata": {
    "colab": {
     "base_uri": "https://localhost:8080/"
    },
    "id": "mhlcVaeTfczu",
    "outputId": "05925eb2-0765-431e-9e77-75e46674ee78"
   },
   "outputs": [],
   "source": [
    "# Example\n",
    "from keras.layers import *\n",
    "from keras.models import Model, load_model\n",
    "from keras.datasets import mnist\n",
    "from keras.callbacks import ReduceLROnPlateau\n",
    "from keras import regularizers\n",
    "from keras import optimizers\n",
    "from keras import backend as K\n",
    "import scipy\n",
    "import matplotlib.pyplot as plt\n",
    "from matplotlib.offsetbox import OffsetImage, AnnotationBbox, TextArea\n",
    "import pandas as pd\n",
    "import numpy as np\n",
    "fashion_mnist = tf.keras.datasets.fashion_mnist\n",
    "(x_train, y_train), (x_test, y_test) = fashion_mnist.load_data()"
   ]
  },
  {
   "cell_type": "code",
   "execution_count": 23,
   "metadata": {
    "colab": {
     "base_uri": "https://localhost:8080/"
    },
    "id": "pnEG4QgNnTHP",
    "outputId": "f33e2de9-6685-42a9-d650-de07b74f46ad"
   },
   "outputs": [
    {
     "name": "stdout",
     "output_type": "stream",
     "text": [
      "(60000, 28, 28, 1)\n"
     ]
    }
   ],
   "source": [
    "x_train = x_train.reshape(-1, 28, 28, 1)\n",
    "x_test = x_test.reshape(-1, 28, 28, 1)\n",
    "print(x_train.shape)"
   ]
  },
  {
   "cell_type": "code",
   "execution_count": 24,
   "metadata": {},
   "outputs": [
    {
     "name": "stdout",
     "output_type": "stream",
     "text": [
      "Model: \"model\"\n",
      "_________________________________________________________________\n",
      " Layer (type)                Output Shape              Param #   \n",
      "=================================================================\n",
      " input_13 (InputLayer)       [(None, 28, 28, 1)]       0         \n",
      "                                                                 \n",
      " conv2d (Conv2D)             (None, 28, 28, 32)        320       \n",
      "                                                                 \n",
      " conv2d_1 (Conv2D)           (None, 28, 28, 32)        9248      \n",
      "                                                                 \n",
      " max_pooling2d (MaxPooling2D  (None, 14, 14, 32)       0         \n",
      " )                                                               \n",
      "                                                                 \n",
      " batch_normalization (BatchN  (None, 14, 14, 32)       128       \n",
      " ormalization)                                                   \n",
      "                                                                 \n",
      " conv2d_2 (Conv2D)           (None, 14, 14, 32)        9248      \n",
      "                                                                 \n",
      " conv2d_3 (Conv2D)           (None, 14, 14, 32)        9248      \n",
      "                                                                 \n",
      " conv2d_4 (Conv2D)           (None, 14, 14, 32)        4128      \n",
      "                                                                 \n",
      " max_pooling2d_1 (MaxPooling  (None, 7, 7, 32)         0         \n",
      " 2D)                                                             \n",
      "                                                                 \n",
      " batch_normalization_1 (Batc  (None, 7, 7, 32)         128       \n",
      " hNormalization)                                                 \n",
      "                                                                 \n",
      " conv2d_5 (Conv2D)           (None, 7, 7, 16)          2064      \n",
      "                                                                 \n",
      " conv2d_6 (Conv2D)           (None, 7, 7, 4)           260       \n",
      "                                                                 \n",
      " conv2d_7 (Conv2D)           (None, 7, 7, 1)           17        \n",
      "                                                                 \n",
      " flatten (Flatten)           (None, 49)                0         \n",
      "                                                                 \n",
      " dense_18 (Dense)            (None, 2)                 100       \n",
      "                                                                 \n",
      "=================================================================\n",
      "Total params: 34,889\n",
      "Trainable params: 34,761\n",
      "Non-trainable params: 128\n",
      "_________________________________________________________________\n"
     ]
    }
   ],
   "source": [
    "inputs = Input(shape=(28, 28, 1))\n",
    "\n",
    "x = Conv2D(32, (3, 3), activation='relu', padding='same')(inputs)\n",
    "x = Conv2D(32, (3, 3), activation='relu', padding='same')(x)\n",
    "x = MaxPooling2D((2, 2))(x)\n",
    "x = BatchNormalization()(x)\n",
    "x = Conv2D(32, (3, 3), activation='relu', padding='same')(x)\n",
    "x = Conv2D(32, (3, 3), activation='relu', padding='same')(x)\n",
    "x = Conv2D(32, (2, 2), activation='relu', padding='same')(x)\n",
    "x = MaxPooling2D((2, 2))(x)\n",
    "x = BatchNormalization()(x)\n",
    "x = Conv2D(16, (2, 2), activation='relu', padding='same')(x)\n",
    "x = Conv2D(4, (2, 2), activation='relu', padding='same')(x)\n",
    "x = Conv2D(1, (2, 2), activation='relu', padding='same')(x)\n",
    "x = Flatten()(x)\n",
    "encoded = Dense(2, activation='relu')(x)\n",
    "\n",
    "encoder = Model(inputs=inputs, outputs=encoded)\n",
    "encoder.summary()"
   ]
  },
  {
   "cell_type": "code",
   "execution_count": 27,
   "metadata": {},
   "outputs": [
    {
     "name": "stdout",
     "output_type": "stream",
     "text": [
      "Epoch 1/5\n",
      "235/235 [==============================] - 98s 408ms/step - loss: 2.0881 - accuracy: 0.1195\n",
      "Epoch 2/5\n",
      "235/235 [==============================] - 96s 407ms/step - loss: 1.3915 - accuracy: 0.1213\n",
      "Epoch 3/5\n",
      "235/235 [==============================] - 95s 404ms/step - loss: 1.3050 - accuracy: 0.1302\n",
      "Epoch 4/5\n",
      "235/235 [==============================] - 96s 408ms/step - loss: 1.2473 - accuracy: 0.1235\n",
      "Epoch 5/5\n",
      "235/235 [==============================] - 95s 404ms/step - loss: 1.2249 - accuracy: 0.1277\n"
     ]
    },
    {
     "data": {
      "text/plain": [
       "<keras.callbacks.History at 0x2b18e192688>"
      ]
     },
     "execution_count": 27,
     "metadata": {},
     "output_type": "execute_result"
    }
   ],
   "source": [
    "\n",
    "encoder.compile(optimizer=tf.keras.optimizers.Adam(learning_rate=0.05),loss=\"mse\",metrics=[\"accuracy\"])\n",
    "encoder.fit(x_train, y_train,\n",
    "                epochs=5,\n",
    "                batch_size=256)"
   ]
  },
  {
   "cell_type": "markdown",
   "metadata": {
    "id": "-vfUQsjVw89j"
   },
   "source": [
    "\n",
    "## Subtask 1\n",
    "\n",
    " Use two dense layers (hidden and output). Hidden layer with 2 neurons, output layer with 784 neurons. Plot the response of hidden neurons in scatter plot, number categories distinquish by colors.\n"
   ]
  },
  {
   "cell_type": "code",
   "execution_count": 23,
   "metadata": {},
   "outputs": [],
   "source": [
    "import matplotlib.pyplot as plt\n",
    "import tensorflow as tf\n",
    "from keras.datasets import mnist\n",
    "import numpy as np\n",
    "\n",
    "(x_train, y_train), (x_test, y_test) = mnist.load_data()"
   ]
  },
  {
   "cell_type": "code",
   "execution_count": 24,
   "metadata": {},
   "outputs": [
    {
     "name": "stdout",
     "output_type": "stream",
     "text": [
      "(784,)\n"
     ]
    }
   ],
   "source": [
    "x_train = x_train.reshape((len(x_train), np.prod(x_train.shape[1:])))\n",
    "x_test = x_test.reshape((len(x_test), np.prod(x_test.shape[1:])))\n",
    "shapee=x_train.shape[1:]\n",
    "print(shapee)\n",
    "#Rescale  dataset\n",
    "\n",
    "x_train = x_train.astype('float32') / 255.\n",
    "x_test = x_test.astype('float32') / 255."
   ]
  },
  {
   "cell_type": "code",
   "execution_count": 32,
   "metadata": {},
   "outputs": [
    {
     "name": "stdout",
     "output_type": "stream",
     "text": [
      "Model: \"enc\"\n",
      "_________________________________________________________________\n",
      " Layer (type)                Output Shape              Param #   \n",
      "=================================================================\n",
      " input_13 (InputLayer)       [(None, 784)]             0         \n",
      "                                                                 \n",
      " dense_36 (Dense)            (None, 2)                 1570      \n",
      "                                                                 \n",
      " dense_37 (Dense)            (None, 784)               2352      \n",
      "                                                                 \n",
      "=================================================================\n",
      "Total params: 3,922\n",
      "Trainable params: 3,922\n",
      "Non-trainable params: 0\n",
      "_________________________________________________________________\n"
     ]
    }
   ],
   "source": [
    "model1 = tf.keras.models.Sequential()\n",
    "model1.add(tf.keras.layers.Input(shape=(784,)))\n",
    "model1.add(tf.keras.layers.Dense(2,activation=\"relu\"))\n",
    "model1.add(tf.keras.layers.Dense(784,activation=\"sigmoid\"))\n",
    "autoencoder1 = tf.keras.models.Model(name='enc',inputs=model1.input,outputs=model1.layers[1].output)\n",
    "autoencoder1.compile(loss = 'binary_crossentropy',\n",
    "                    optimizer = 'adam',\n",
    "                    metrics = ['accuracy'])\n",
    "autoencoder1.summary()"
   ]
  },
  {
   "cell_type": "code",
   "execution_count": 34,
   "metadata": {},
   "outputs": [
    {
     "name": "stdout",
     "output_type": "stream",
     "text": [
      "Epoch 1/5\n",
      "1875/1875 [==============================] - 4s 2ms/step - loss: 0.2738 - accuracy: 0.0157\n",
      "Epoch 2/5\n",
      "1875/1875 [==============================] - 4s 2ms/step - loss: 0.2413 - accuracy: 0.0151\n",
      "Epoch 3/5\n",
      "1875/1875 [==============================] - 4s 2ms/step - loss: 0.2370 - accuracy: 0.0132\n",
      "Epoch 4/5\n",
      "1875/1875 [==============================] - 4s 2ms/step - loss: 0.2344 - accuracy: 0.0130\n",
      "Epoch 5/5\n",
      "1875/1875 [==============================] - 4s 2ms/step - loss: 0.2322 - accuracy: 0.0125\n"
     ]
    },
    {
     "data": {
      "text/plain": [
       "<keras.callbacks.History at 0x28d8ca16088>"
      ]
     },
     "execution_count": 34,
     "metadata": {},
     "output_type": "execute_result"
    }
   ],
   "source": [
    "autoencoder1.fit(x_train, x_train,\n",
    "                epochs=5,\n",
    "                batch_size=32,\n",
    "                )"
   ]
  },
  {
   "cell_type": "code",
   "execution_count": 29,
   "metadata": {},
   "outputs": [],
   "source": [
    "def plot_response(model_encoder, images,labels):\n",
    "    # just for the encoder\n",
    "    encoded_images = model_encoder.predict(images)\n",
    "    model_encoder.summary()\n",
    "\n",
    "    X = encoded_images[:,0]\n",
    "    Y = encoded_images[:,1]\n",
    "\n",
    "    print(encoded_images.shape)\n",
    "    colors = [\"red\",\"green\",\"blue\",\"yellow\",\"orange\",\"lightblue\", \"grey\", \"black\", \"lightgreen\", \"darkred\"]\n",
    "    color_of_label = []\n",
    "    for i in range(len(labels[:])):\n",
    "        color_of_label.append(colors[labels[i]])\n",
    "\n",
    "\n",
    "    fig = plt.figure()\n",
    "    ax = fig.add_subplot()\n",
    "    ax.scatter(X,Y,c=color_of_label)\n",
    "\n",
    "def extract_layers(model, idx_start_layer, idx_end_layer):\n",
    "    sub_model = tf.keras.Sequential()\n",
    "    for idx in range(idx_start_layer, idx_end_layer+1):\n",
    "        layer = model.get_layer(index = idx)\n",
    "        sub_model.add(layer)\n",
    "    return sub_model"
   ]
  },
  {
   "cell_type": "code",
   "execution_count": 51,
   "metadata": {},
   "outputs": [
    {
     "name": "stdout",
     "output_type": "stream",
     "text": [
      "1875/1875 [==============================] - 2s 982us/step\n",
      "Model: \"sequential_23\"\n",
      "_________________________________________________________________\n",
      " Layer (type)                Output Shape              Param #   \n",
      "=================================================================\n",
      " dense_36 (Dense)            (None, 2)                 1570      \n",
      "                                                                 \n",
      "=================================================================\n",
      "Total params: 1,570\n",
      "Trainable params: 1,570\n",
      "Non-trainable params: 0\n",
      "_________________________________________________________________\n",
      "(60000, 2)\n"
     ]
    },
    {
     "data": {
      "image/png": "[encoded data removed]",
      "text/plain": [
       "<Figure size 432x288 with 1 Axes>"
      ]
     },
     "metadata": {
      "needs_background": "light"
     },
     "output_type": "display_data"
    }
   ],
   "source": [
    "encoder = extract_layers(autoencoder1,0,1)\n",
    "plot_response(encoder,x_train,y_train)"
   ]
  },
  {
   "cell_type": "code",
   "execution_count": 26,
   "metadata": {
    "colab": {
     "base_uri": "https://localhost:8080/"
    },
    "id": "jmpwHjbxzHYG",
    "outputId": "314b10a8-3336-4cdc-c2fe-67f3bd1763bf"
   },
   "outputs": [
    {
     "name": "stdout",
     "output_type": "stream",
     "text": [
      "(60000, 784)\n",
      "(10000, 784)\n"
     ]
    }
   ],
   "source": [
    "import matplotlib.pyplot as plt\n",
    "import tensorflow as tf\n",
    "from keras.datasets import mnist\n",
    "\n",
    "(x_train, y_train), (x_test, y_test) = mnist.load_data()\n",
    "\n",
    "x_train = x_train.astype('float32') / 255.\n",
    "x_test = x_test.astype('float32') / 255.\n",
    "x_train = x_train.reshape((len(x_train), np.prod(x_train.shape[1:])))\n",
    "x_test = x_test.reshape((len(x_test), np.prod(x_test.shape[1:])))\n",
    "#x_train = x_train[:10000]\n",
    "#x_test = x_test[:1000]\n",
    "#y_train = y_train[:10000]\n",
    "#y_test = y_test[:1000]\n",
    "print(x_train.shape)\n",
    "print(x_test.shape)\n"
   ]
  },
  {
   "cell_type": "code",
   "execution_count": null,
   "metadata": {
    "colab": {
     "base_uri": "https://localhost:8080/"
    },
    "id": "ZO7NIilZztK-",
    "outputId": "7ec53fc7-1b2f-4386-b1e6-f319438dc811"
   },
   "outputs": [
    {
     "name": "stdout",
     "output_type": "stream",
     "text": [
      "Model: \"model\"\n",
      "_________________________________________________________________\n",
      " Layer (type)                Output Shape              Param #   \n",
      "=================================================================\n",
      " input_2 (InputLayer)        [(None, 784)]             0         \n",
      "                                                                 \n",
      " dense_2 (Dense)             (None, 2)                 1570      \n",
      "                                                                 \n",
      " dense_3 (Dense)             (None, 784)               2352      \n",
      "                                                                 \n",
      "=================================================================\n",
      "Total params: 3,922\n",
      "Trainable params: 3,922\n",
      "Non-trainable params: 0\n",
      "_________________________________________________________________\n"
     ]
    }
   ],
   "source": [
    "import keras\n",
    "from keras import layers\n",
    "\n",
    "encoding_dim = 2 \n",
    "\n",
    "\n",
    "input_img = keras.Input(shape=(784,))\n",
    "\n",
    "encoded = layers.Dense(encoding_dim, activation='relu')(input_img)\n",
    "\n",
    "decoded = layers.Dense(784, activation='sigmoid')(encoded)\n",
    "\n",
    "autoencoder = keras.Model(input_img, decoded)\n",
    "\n",
    "encoder = keras.Model(input_img, encoded)\n",
    "autoencoder.compile(optimizer='adam', loss='mse',metrics = ['accuracy'])\n",
    "\n",
    "autoencoder.summary()"
   ]
  },
  {
   "cell_type": "code",
   "execution_count": null,
   "metadata": {
    "colab": {
     "base_uri": "https://localhost:8080/"
    },
    "id": "qgq_sgkG1TQz",
    "outputId": "13c076a4-454c-41c3-9c89-6f91bfa21ea8"
   },
   "outputs": [
    {
     "name": "stdout",
     "output_type": "stream",
     "text": [
      "Epoch 1/5\n",
      "1200/1200 [==============================] - 6s 5ms/step - loss: 20.2774 - accuracy: 0.0847\n",
      "Epoch 2/5\n",
      "1200/1200 [==============================] - 4s 4ms/step - loss: 20.2774 - accuracy: 0.0912\n",
      "Epoch 3/5\n",
      "1200/1200 [==============================] - 4s 4ms/step - loss: 20.2774 - accuracy: 0.0945\n",
      "Epoch 4/5\n",
      "1200/1200 [==============================] - 4s 3ms/step - loss: 20.2774 - accuracy: 0.0964\n",
      "Epoch 5/5\n",
      "1200/1200 [==============================] - 4s 3ms/step - loss: 20.2774 - accuracy: 0.0984\n"
     ]
    },
    {
     "data": {
      "text/plain": [
       "<keras.callbacks.History at 0x7f152686c9d0>"
      ]
     },
     "execution_count": 14,
     "metadata": {},
     "output_type": "execute_result"
    }
   ],
   "source": [
    "autoencoder.fit(x_train, x_train,\n",
    "                epochs=5,\n",
    "                batch_size=50,\n",
    "                )"
   ]
  },
  {
   "cell_type": "code",
   "execution_count": 52,
   "metadata": {
    "colab": {
     "base_uri": "https://localhost:8080/",
     "height": 300
    },
    "id": "sjdrqC0x257A",
    "outputId": "87248038-a839-4dbb-d7a6-8d6544b387d2"
   },
   "outputs": [
    {
     "name": "stdout",
     "output_type": "stream",
     "text": [
      "1875/1875 [==============================] - 2s 1ms/step\n",
      "(60000, 784)\n"
     ]
    },
    {
     "data": {
      "image/png": "[encoded data removed]",
      "text/plain": [
       "<Figure size 432x288 with 1 Axes>"
      ]
     },
     "metadata": {
      "needs_background": "light"
     },
     "output_type": "display_data"
    }
   ],
   "source": [
    "def l_space(d,o,m):\n",
    "  ev=m.predict(d)\n",
    "  print(ev.shape)\n",
    "  plt.scatter(ev[:,1],ev[:,1],c=y_train)\n",
    "  plt.show()\n",
    "\n",
    "l_space(x_train,y_train,autoencoder1)"
   ]
  },
  {
   "cell_type": "code",
   "execution_count": 1,
   "metadata": {
    "colab": {
     "base_uri": "https://localhost:8080/",
     "height": 235
    },
    "id": "ewO09nXcxN2i",
    "outputId": "f0b77b9b-9358-40ca-d722-d267b65b661e"
   },
   "outputs": [
    {
     "ename": "NameError",
     "evalue": "ignored",
     "output_type": "error",
     "traceback": [
      "\u001b[0;31m---------------------------------------------------------------------------\u001b[0m",
      "\u001b[0;31mNameError\u001b[0m                                 Traceback (most recent call last)",
      "\u001b[0;32m<ipython-input-1-fd6e3347551f>\u001b[0m in \u001b[0;36m<module>\u001b[0;34m\u001b[0m\n\u001b[1;32m      4\u001b[0m \u001b[0;34m\u001b[0m\u001b[0m\n\u001b[1;32m      5\u001b[0m \u001b[0mmodel\u001b[0m \u001b[0;34m=\u001b[0m \u001b[0mtf\u001b[0m\u001b[0;34m.\u001b[0m\u001b[0mkeras\u001b[0m\u001b[0;34m.\u001b[0m\u001b[0mmodels\u001b[0m\u001b[0;34m.\u001b[0m\u001b[0mSequential\u001b[0m\u001b[0;34m(\u001b[0m\u001b[0;34m)\u001b[0m\u001b[0;34m\u001b[0m\u001b[0;34m\u001b[0m\u001b[0m\n\u001b[0;32m----> 6\u001b[0;31m \u001b[0mmodel\u001b[0m\u001b[0;34m.\u001b[0m\u001b[0madd\u001b[0m\u001b[0;34m(\u001b[0m\u001b[0mtf\u001b[0m\u001b[0;34m.\u001b[0m\u001b[0mkeras\u001b[0m\u001b[0;34m.\u001b[0m\u001b[0mlayers\u001b[0m\u001b[0;34m.\u001b[0m\u001b[0mInput\u001b[0m\u001b[0;34m(\u001b[0m\u001b[0mt_x\u001b[0m\u001b[0;34m[\u001b[0m\u001b[0;36m0\u001b[0m\u001b[0;34m]\u001b[0m\u001b[0;34m.\u001b[0m\u001b[0mshape\u001b[0m\u001b[0;34m,\u001b[0m\u001b[0;34m)\u001b[0m\u001b[0;34m)\u001b[0m\u001b[0;34m\u001b[0m\u001b[0;34m\u001b[0m\u001b[0m\n\u001b[0m\u001b[1;32m      7\u001b[0m \u001b[0mmodel\u001b[0m\u001b[0;34m.\u001b[0m\u001b[0madd\u001b[0m\u001b[0;34m(\u001b[0m\u001b[0mtf\u001b[0m\u001b[0;34m.\u001b[0m\u001b[0mkeras\u001b[0m\u001b[0;34m.\u001b[0m\u001b[0mlayers\u001b[0m\u001b[0;34m.\u001b[0m\u001b[0mDense\u001b[0m\u001b[0;34m(\u001b[0m\u001b[0;36m2\u001b[0m\u001b[0;34m,\u001b[0m\u001b[0mactivation\u001b[0m\u001b[0;34m=\u001b[0m\u001b[0;34m\"relu\"\u001b[0m\u001b[0;34m)\u001b[0m\u001b[0;34m)\u001b[0m\u001b[0;34m\u001b[0m\u001b[0;34m\u001b[0m\u001b[0m\n\u001b[1;32m      8\u001b[0m \u001b[0mmodel\u001b[0m\u001b[0;34m.\u001b[0m\u001b[0madd\u001b[0m\u001b[0;34m(\u001b[0m\u001b[0mtf\u001b[0m\u001b[0;34m.\u001b[0m\u001b[0mkeras\u001b[0m\u001b[0;34m.\u001b[0m\u001b[0mlayers\u001b[0m\u001b[0;34m.\u001b[0m\u001b[0mDense\u001b[0m\u001b[0;34m(\u001b[0m\u001b[0;36m784\u001b[0m\u001b[0;34m,\u001b[0m\u001b[0mactivation\u001b[0m\u001b[0;34m=\u001b[0m\u001b[0;34m\"sigmoid\"\u001b[0m\u001b[0;34m)\u001b[0m\u001b[0;34m)\u001b[0m\u001b[0;34m\u001b[0m\u001b[0;34m\u001b[0m\u001b[0m\n",
      "\u001b[0;31mNameError\u001b[0m: name 't_x' is not defined"
     ]
    }
   ],
   "source": [
    "#Write your code here\n",
    "import matplotlib.pyplot as plt\n",
    "import tensorflow as tf\n",
    "\n",
    "model = tf.keras.models.Sequential()\n",
    "model.add(tf.keras.layers.Input(t_x[0].shape,))\n",
    "model.add(tf.keras.layers.Dense(2,activation=\"relu\"))\n",
    "model.add(tf.keras.layers.Dense(784,activation=\"sigmoid\"))\n",
    "model.compile(optimizer=tf.keras.optimizers.Adam(learning_rate=0.05),loss=\"mse\",metrics=[\"accuracy\"])\n",
    "\n",
    "\n",
    "#hist=model.fit(t_x,t_y,epochs=100,batch_size=5)\n",
    "\n",
    "# filters, biases = enc_model.layers[1].get_weights()\n",
    "# print(enc_model.layers[1].name,filters.shape)\n",
    "\n",
    "# f = filters[:, 0]\n",
    "# ax = pyplot.imshow(f[:], cmap='gray')\n",
    "# ax.set_xticks([])\n",
    "# ax.set_yticks([])\n",
    "# pyplot.show()"
   ]
  },
  {
   "cell_type": "code",
   "execution_count": null,
   "metadata": {
    "colab": {
     "base_uri": "https://localhost:8080/",
     "height": 560
    },
    "id": "fMrVSC78wsia",
    "outputId": "5a193b34-8cb4-4eae-ab84-bb09ebfbdc4d"
   },
   "outputs": [
    {
     "name": "stdout",
     "output_type": "stream",
     "text": [
      "Model: \"enc\"\n",
      "_________________________________________________________________\n",
      " Layer (type)                Output Shape              Param #   \n",
      "=================================================================\n",
      " input_1 (InputLayer)        [(None, 784)]             0         \n",
      "                                                                 \n",
      " dense (Dense)               (None, 2)                 1570      \n",
      "                                                                 \n",
      " dense_1 (Dense)             (None, 784)               2352      \n",
      "                                                                 \n",
      "=================================================================\n",
      "Total params: 3,922\n",
      "Trainable params: 3,922\n",
      "Non-trainable params: 0\n",
      "_________________________________________________________________\n",
      "32/32 [==============================] - 0s 2ms/step\n",
      "(1000, 784)\n"
     ]
    },
    {
     "data": {
      "image/png": "[encoded data removed]",
      "text/plain": [
       "<Figure size 432x288 with 1 Axes>"
      ]
     },
     "metadata": {
      "needs_background": "light"
     },
     "output_type": "display_data"
    }
   ],
   "source": [
    "enc_model = tf.keras.models.Model(name='enc',inputs=model.input,outputs=model.layers[1].output)\n",
    "enc_model.summary()\n",
    "def l_space(d,o,m):\n",
    "  ev=m.predict(d)\n",
    "  print(ev.shape)\n",
    "  plt.scatter(ev[:,1],ev[:,1])\n",
    "  plt.show()\n",
    "\n",
    "l_space(t_x,t_y,enc_model)\n"
   ]
  },
  {
   "cell_type": "code",
   "execution_count": 41,
   "metadata": {},
   "outputs": [
    {
     "name": "stdout",
     "output_type": "stream",
     "text": [
      "(784,)\n",
      "Model: \"model_4\"\n",
      "_________________________________________________________________\n",
      " Layer (type)                Output Shape              Param #   \n",
      "=================================================================\n",
      " input_17 (InputLayer)       [(None, 784)]             0         \n",
      "                                                                 \n",
      " dense_31 (Dense)            (None, 2)                 1570      \n",
      "                                                                 \n",
      " dense_32 (Dense)            (None, 784)               2352      \n",
      "                                                                 \n",
      "=================================================================\n",
      "Total params: 3,922\n",
      "Trainable params: 3,922\n",
      "Non-trainable params: 0\n",
      "_________________________________________________________________\n"
     ]
    }
   ],
   "source": [
    "import tensorflow as tf\n",
    "import numpy as np\n",
    "fashion_mnist = tf.keras.datasets.fashion_mnist\n",
    "\n",
    "(train_X_1, train_Y_1), (test_X_1, test_Y_1) = fashion_mnist.load_data()\n",
    "\n",
    "\n",
    "\n",
    "train_X_1 = train_X_1.reshape((len(train_X_1), np.prod(train_X_1.shape[1:])))\n",
    "test_X_1 = test_X_1.reshape((len(test_X_1), np.prod(test_X_1.shape[1:])))\n",
    "S=train_X_1.shape[1:]\n",
    "\n",
    "print(S)\n",
    "\n",
    "\n",
    "\n",
    "train_X_1 = train_X_1.astype('float32') / 255.\n",
    "test_X_1 = test_X_1.astype('float32') / 255.\n",
    "\n",
    "\n",
    "\n",
    "\n",
    "input_dataset_image = keras.Input(shape=(784,))\n",
    "\n",
    "\n",
    "\n",
    "encoded = keras.layers.Dense(2, activation='relu')(input_dataset_image)\n",
    "\n",
    "\n",
    "\n",
    "Dec = keras.layers.Dense(784, activation='sigmoid')(encoded)\n",
    "\n",
    "Encoder = keras.Model(input_dataset_image, Dec)\n",
    "\n",
    "\n",
    "Encoder.compile(loss = 'binary_crossentropy',\n",
    "                    optimizer = 'adam')\n",
    "Encoder.summary()"
   ]
  },
  {
   "cell_type": "code",
   "execution_count": 42,
   "metadata": {},
   "outputs": [
    {
     "name": "stdout",
     "output_type": "stream",
     "text": [
      "Epoch 1/5\n",
      "1875/1875 [==============================] - 10s 5ms/step - loss: 0.4347\n",
      "Epoch 2/5\n",
      "1875/1875 [==============================] - 9s 5ms/step - loss: 0.3999\n",
      "Epoch 3/5\n",
      "1875/1875 [==============================] - 9s 5ms/step - loss: 0.3894\n",
      "Epoch 4/5\n",
      "1875/1875 [==============================] - 8s 4ms/step - loss: 0.3819\n",
      "Epoch 5/5\n",
      "1875/1875 [==============================] - 9s 5ms/step - loss: 0.3780\n"
     ]
    },
    {
     "data": {
      "text/plain": [
       "<keras.callbacks.History at 0x1ea53840188>"
      ]
     },
     "execution_count": 42,
     "metadata": {},
     "output_type": "execute_result"
    }
   ],
   "source": [
    "Encoder.fit(train_X_1, train_X_1, epochs=5, batch_size=32)"
   ]
  },
  {
   "cell_type": "code",
   "execution_count": 44,
   "metadata": {},
   "outputs": [
    {
     "name": "stdout",
     "output_type": "stream",
     "text": [
      "1875/1875 [==============================] - 7s 4ms/step\n"
     ]
    },
    {
     "data": {
      "image/png": "[encoded data removed]",
      "text/plain": [
       "<Figure size 432x288 with 1 Axes>"
      ]
     },
     "metadata": {
      "needs_background": "light"
     },
     "output_type": "display_data"
    }
   ],
   "source": [
    "output=Encoder.predict(train_X_1)\n",
    "plt.scatter(output[:,0],output[:,1] , c=train_Y_1)\n",
    "plt.show()"
   ]
  },
  {
   "cell_type": "code",
   "execution_count": 53,
   "metadata": {},
   "outputs": [
    {
     "name": "stdout",
     "output_type": "stream",
     "text": [
      "Epoch 1/10\n",
      "235/235 [==============================] - 4s 12ms/step - loss: 0.6212 - val_loss: 0.5331\n",
      "Epoch 2/10\n",
      "235/235 [==============================] - 2s 11ms/step - loss: 0.4348 - val_loss: 0.3390\n",
      "Epoch 3/10\n",
      "235/235 [==============================] - 3s 11ms/step - loss: 0.2628 - val_loss: 0.1970\n",
      "Epoch 4/10\n",
      "235/235 [==============================] - 2s 11ms/step - loss: 0.1522 - val_loss: 0.1152\n",
      "Epoch 5/10\n",
      "235/235 [==============================] - 3s 12ms/step - loss: 0.0909 - val_loss: 0.0708\n",
      "Epoch 6/10\n",
      "235/235 [==============================] - 2s 11ms/step - loss: 0.0574 - val_loss: 0.0461\n",
      "Epoch 7/10\n",
      "235/235 [==============================] - 3s 12ms/step - loss: 0.0383 - val_loss: 0.0316\n",
      "Epoch 8/10\n",
      "235/235 [==============================] - 2s 10ms/step - loss: 0.0267 - val_loss: 0.0225\n",
      "Epoch 9/10\n",
      "235/235 [==============================] - 3s 11ms/step - loss: 0.0194 - val_loss: 0.0166\n",
      "Epoch 10/10\n",
      "235/235 [==============================] - 3s 13ms/step - loss: 0.0145 - val_loss: 0.0126\n"
     ]
    },
    {
     "data": {
      "text/plain": [
       "<keras.callbacks.History at 0x1ea53840688>"
      ]
     },
     "execution_count": 53,
     "metadata": {},
     "output_type": "execute_result"
    }
   ],
   "source": [
    "import keras\n",
    "from keras import layers\n",
    "\n",
    "# This is the size of our encoded representations\n",
    "encoding_dim = 2  # 32 floats -> compression of factor 24.5, assuming the input is 784 floats\n",
    "\n",
    "# This is our input image\n",
    "input_img = keras.Input(shape=(784,))\n",
    "# \"encoded\" is the encoded representation of the input\n",
    "encoded = layers.Dense(encoding_dim, activation='relu')(input_img)\n",
    "# \"decoded\" is the lossy reconstruction of the input\n",
    "decoded = layers.Dense(784, activation='sigmoid')(encoded)\n",
    "\n",
    "# This model maps an input to its reconstruction\n",
    "autoencoder = keras.Model(input_img, decoded)\n",
    "#encoder = keras.Model(input_img, encoded)\n",
    "autoencoder.compile(optimizer='adam', loss='binary_crossentropy')\n",
    "x_train = x_train.astype('float32') / 255.\n",
    "x_test = x_test.astype('float32') / 255.\n",
    "x_train = x_train.reshape((len(x_train), np.prod(x_train.shape[1:])))\n",
    "x_test = x_test.reshape((len(x_test), np.prod(x_test.shape[1:])))\n",
    "autoencoder.fit(x_train, x_train,\n",
    "                epochs=10,\n",
    "                batch_size=256,\n",
    "                shuffle=True,\n",
    "                validation_data=(x_test, x_test))"
   ]
  },
  {
   "cell_type": "code",
   "execution_count": 51,
   "metadata": {},
   "outputs": [
    {
     "name": "stdout",
     "output_type": "stream",
     "text": [
      "Model: \"model_8\"\n",
      "_________________________________________________________________\n",
      " Layer (type)                Output Shape              Param #   \n",
      "=================================================================\n",
      " input_21 (InputLayer)       [(None, 784)]             0         \n",
      "                                                                 \n",
      " dense_39 (Dense)            (None, 2)                 1570      \n",
      "                                                                 \n",
      " dense_40 (Dense)            (None, 784)               2352      \n",
      "                                                                 \n",
      "=================================================================\n",
      "Total params: 3,922\n",
      "Trainable params: 3,922\n",
      "Non-trainable params: 0\n",
      "_________________________________________________________________\n",
      "1875/1875 [==============================] - 6s 3ms/step\n",
      "Model: \"sequential_16\"\n",
      "_________________________________________________________________\n",
      " Layer (type)                Output Shape              Param #   \n",
      "=================================================================\n",
      " dense_39 (Dense)            (None, 2)                 1570      \n",
      "                                                                 \n",
      "=================================================================\n",
      "Total params: 1,570\n",
      "Trainable params: 1,570\n",
      "Non-trainable params: 0\n",
      "_________________________________________________________________\n",
      "(60000, 2)\n"
     ]
    },
    {
     "data": {
      "image/png": "[encoded data removed]",
      "text/plain": [
       "<Figure size 432x288 with 1 Axes>"
      ]
     },
     "metadata": {
      "needs_background": "light"
     },
     "output_type": "display_data"
    }
   ],
   "source": [
    "autoencoder.summary()\n",
    "encoder = extract_layers(autoencoder,0,1)\n",
    "plot_response(encoder,x_train,y_train)"
   ]
  },
  {
   "cell_type": "code",
   "execution_count": 54,
   "metadata": {},
   "outputs": [
    {
     "name": "stdout",
     "output_type": "stream",
     "text": [
      "Model: \"model_11\"\n",
      "_________________________________________________________________\n",
      " Layer (type)                Output Shape              Param #   \n",
      "=================================================================\n",
      " input_24 (InputLayer)       [(None, 28, 28, 1)]       0         \n",
      "                                                                 \n",
      " dense_45 (Dense)            (None, 28, 28, 2)         4         \n",
      "                                                                 \n",
      " dense_46 (Dense)            (None, 28, 28, 784)       2352      \n",
      "                                                                 \n",
      "=================================================================\n",
      "Total params: 2,356\n",
      "Trainable params: 2,356\n",
      "Non-trainable params: 0\n",
      "_________________________________________________________________\n",
      "None\n",
      "Epoch 1/5\n"
     ]
    },
    {
     "ename": "ValueError",
     "evalue": "in user code:\n\n    File \"C:\\Users\\aman0\\Anaconda3\\lib\\site-packages\\keras\\engine\\training.py\", line 1160, in train_function  *\n        return step_function(self, iterator)\n    File \"C:\\Users\\aman0\\Anaconda3\\lib\\site-packages\\keras\\engine\\training.py\", line 1146, in step_function  **\n        outputs = model.distribute_strategy.run(run_step, args=(data,))\n    File \"C:\\Users\\aman0\\Anaconda3\\lib\\site-packages\\keras\\engine\\training.py\", line 1135, in run_step  **\n        outputs = model.train_step(data)\n    File \"C:\\Users\\aman0\\Anaconda3\\lib\\site-packages\\keras\\engine\\training.py\", line 994, in train_step\n        loss = self.compute_loss(x, y, y_pred, sample_weight)\n    File \"C:\\Users\\aman0\\Anaconda3\\lib\\site-packages\\keras\\engine\\training.py\", line 1053, in compute_loss\n        y, y_pred, sample_weight, regularization_losses=self.losses\n    File \"C:\\Users\\aman0\\Anaconda3\\lib\\site-packages\\keras\\engine\\compile_utils.py\", line 265, in __call__\n        loss_value = loss_obj(y_t, y_p, sample_weight=sw)\n    File \"C:\\Users\\aman0\\Anaconda3\\lib\\site-packages\\keras\\losses.py\", line 152, in __call__\n        losses = call_fn(y_true, y_pred)\n    File \"C:\\Users\\aman0\\Anaconda3\\lib\\site-packages\\keras\\losses.py\", line 272, in call  **\n        return ag_fn(y_true, y_pred, **self._fn_kwargs)\n    File \"C:\\Users\\aman0\\Anaconda3\\lib\\site-packages\\keras\\losses.py\", line 1486, in mean_squared_error\n        return backend.mean(tf.math.squared_difference(y_pred, y_true), axis=-1)\n\n    ValueError: Dimensions must be equal, but are 784 and 28 for '{{node mean_squared_error/SquaredDifference}} = SquaredDifference[T=DT_FLOAT](model_11/dense_46/Sigmoid, IteratorGetNext:1)' with input shapes: [?,28,28,784], [?,28,28].\n",
     "output_type": "error",
     "traceback": [
      "\u001b[1;31m---------------------------------------------------------------------------\u001b[0m",
      "\u001b[1;31mValueError\u001b[0m                                Traceback (most recent call last)",
      "\u001b[1;32m<ipython-input-54-6f51c55a8ae2>\u001b[0m in \u001b[0;36m<module>\u001b[1;34m\u001b[0m\n\u001b[0;32m     22\u001b[0m     \u001b[0mbatch_size\u001b[0m\u001b[1;33m=\u001b[0m\u001b[1;36m128\u001b[0m\u001b[1;33m,\u001b[0m\u001b[1;33m\u001b[0m\u001b[1;33m\u001b[0m\u001b[0m\n\u001b[0;32m     23\u001b[0m     \u001b[0mepochs\u001b[0m\u001b[1;33m=\u001b[0m\u001b[1;36m5\u001b[0m\u001b[1;33m,\u001b[0m\u001b[1;33m\u001b[0m\u001b[1;33m\u001b[0m\u001b[0m\n\u001b[1;32m---> 24\u001b[1;33m     \u001b[0mverbose\u001b[0m\u001b[1;33m=\u001b[0m\u001b[1;36m1\u001b[0m\u001b[1;33m\u001b[0m\u001b[1;33m\u001b[0m\u001b[0m\n\u001b[0m\u001b[0;32m     25\u001b[0m )\n",
      "\u001b[1;32m~\\Anaconda3\\lib\\site-packages\\keras\\utils\\traceback_utils.py\u001b[0m in \u001b[0;36merror_handler\u001b[1;34m(*args, **kwargs)\u001b[0m\n\u001b[0;32m     68\u001b[0m             \u001b[1;31m# To get the full stack trace, call:\u001b[0m\u001b[1;33m\u001b[0m\u001b[1;33m\u001b[0m\u001b[1;33m\u001b[0m\u001b[0m\n\u001b[0;32m     69\u001b[0m             \u001b[1;31m# `tf.debugging.disable_traceback_filtering()`\u001b[0m\u001b[1;33m\u001b[0m\u001b[1;33m\u001b[0m\u001b[1;33m\u001b[0m\u001b[0m\n\u001b[1;32m---> 70\u001b[1;33m             \u001b[1;32mraise\u001b[0m \u001b[0me\u001b[0m\u001b[1;33m.\u001b[0m\u001b[0mwith_traceback\u001b[0m\u001b[1;33m(\u001b[0m\u001b[0mfiltered_tb\u001b[0m\u001b[1;33m)\u001b[0m \u001b[1;32mfrom\u001b[0m \u001b[1;32mNone\u001b[0m\u001b[1;33m\u001b[0m\u001b[1;33m\u001b[0m\u001b[0m\n\u001b[0m\u001b[0;32m     71\u001b[0m         \u001b[1;32mfinally\u001b[0m\u001b[1;33m:\u001b[0m\u001b[1;33m\u001b[0m\u001b[1;33m\u001b[0m\u001b[0m\n\u001b[0;32m     72\u001b[0m             \u001b[1;32mdel\u001b[0m \u001b[0mfiltered_tb\u001b[0m\u001b[1;33m\u001b[0m\u001b[1;33m\u001b[0m\u001b[0m\n",
      "\u001b[1;32m~\\Anaconda3\\lib\\site-packages\\keras\\engine\\training.py\u001b[0m in \u001b[0;36mtf__train_function\u001b[1;34m(iterator)\u001b[0m\n\u001b[0;32m     13\u001b[0m                 \u001b[1;32mtry\u001b[0m\u001b[1;33m:\u001b[0m\u001b[1;33m\u001b[0m\u001b[1;33m\u001b[0m\u001b[0m\n\u001b[0;32m     14\u001b[0m                     \u001b[0mdo_return\u001b[0m \u001b[1;33m=\u001b[0m \u001b[1;32mTrue\u001b[0m\u001b[1;33m\u001b[0m\u001b[1;33m\u001b[0m\u001b[0m\n\u001b[1;32m---> 15\u001b[1;33m                     \u001b[0mretval_\u001b[0m \u001b[1;33m=\u001b[0m \u001b[0mag__\u001b[0m\u001b[1;33m.\u001b[0m\u001b[0mconverted_call\u001b[0m\u001b[1;33m(\u001b[0m\u001b[0mag__\u001b[0m\u001b[1;33m.\u001b[0m\u001b[0mld\u001b[0m\u001b[1;33m(\u001b[0m\u001b[0mstep_function\u001b[0m\u001b[1;33m)\u001b[0m\u001b[1;33m,\u001b[0m \u001b[1;33m(\u001b[0m\u001b[0mag__\u001b[0m\u001b[1;33m.\u001b[0m\u001b[0mld\u001b[0m\u001b[1;33m(\u001b[0m\u001b[0mself\u001b[0m\u001b[1;33m)\u001b[0m\u001b[1;33m,\u001b[0m \u001b[0mag__\u001b[0m\u001b[1;33m.\u001b[0m\u001b[0mld\u001b[0m\u001b[1;33m(\u001b[0m\u001b[0miterator\u001b[0m\u001b[1;33m)\u001b[0m\u001b[1;33m)\u001b[0m\u001b[1;33m,\u001b[0m \u001b[1;32mNone\u001b[0m\u001b[1;33m,\u001b[0m \u001b[0mfscope\u001b[0m\u001b[1;33m)\u001b[0m\u001b[1;33m\u001b[0m\u001b[1;33m\u001b[0m\u001b[0m\n\u001b[0m\u001b[0;32m     16\u001b[0m                 \u001b[1;32mexcept\u001b[0m\u001b[1;33m:\u001b[0m\u001b[1;33m\u001b[0m\u001b[1;33m\u001b[0m\u001b[0m\n\u001b[0;32m     17\u001b[0m                     \u001b[0mdo_return\u001b[0m \u001b[1;33m=\u001b[0m \u001b[1;32mFalse\u001b[0m\u001b[1;33m\u001b[0m\u001b[1;33m\u001b[0m\u001b[0m\n",
      "\u001b[1;31mValueError\u001b[0m: in user code:\n\n    File \"C:\\Users\\aman0\\Anaconda3\\lib\\site-packages\\keras\\engine\\training.py\", line 1160, in train_function  *\n        return step_function(self, iterator)\n    File \"C:\\Users\\aman0\\Anaconda3\\lib\\site-packages\\keras\\engine\\training.py\", line 1146, in step_function  **\n        outputs = model.distribute_strategy.run(run_step, args=(data,))\n    File \"C:\\Users\\aman0\\Anaconda3\\lib\\site-packages\\keras\\engine\\training.py\", line 1135, in run_step  **\n        outputs = model.train_step(data)\n    File \"C:\\Users\\aman0\\Anaconda3\\lib\\site-packages\\keras\\engine\\training.py\", line 994, in train_step\n        loss = self.compute_loss(x, y, y_pred, sample_weight)\n    File \"C:\\Users\\aman0\\Anaconda3\\lib\\site-packages\\keras\\engine\\training.py\", line 1053, in compute_loss\n        y, y_pred, sample_weight, regularization_losses=self.losses\n    File \"C:\\Users\\aman0\\Anaconda3\\lib\\site-packages\\keras\\engine\\compile_utils.py\", line 265, in __call__\n        loss_value = loss_obj(y_t, y_p, sample_weight=sw)\n    File \"C:\\Users\\aman0\\Anaconda3\\lib\\site-packages\\keras\\losses.py\", line 152, in __call__\n        losses = call_fn(y_true, y_pred)\n    File \"C:\\Users\\aman0\\Anaconda3\\lib\\site-packages\\keras\\losses.py\", line 272, in call  **\n        return ag_fn(y_true, y_pred, **self._fn_kwargs)\n    File \"C:\\Users\\aman0\\Anaconda3\\lib\\site-packages\\keras\\losses.py\", line 1486, in mean_squared_error\n        return backend.mean(tf.math.squared_difference(y_pred, y_true), axis=-1)\n\n    ValueError: Dimensions must be equal, but are 784 and 28 for '{{node mean_squared_error/SquaredDifference}} = SquaredDifference[T=DT_FLOAT](model_11/dense_46/Sigmoid, IteratorGetNext:1)' with input shapes: [?,28,28,784], [?,28,28].\n"
     ]
    }
   ],
   "source": [
    "fashion_mnist = tf.keras.datasets.fashion_mnist\n",
    "(train_images, train_labels), (test_images, test_labels) = fashion_mnist.load_data()\n",
    "\n",
    "train_images = train_images[:5000].astype('float32')/255\n",
    "train_labels = train_labels[:5000].astype('float32')/255\n",
    "\n",
    "import keras\n",
    "from keras import layers\n",
    "\n",
    "input_img = keras.Input(shape=(28, 28, 1))\n",
    "\n",
    "x = layers.Dense(2,activation='relu')(input_img)\n",
    "decoded = layers.Dense(784,activation='sigmoid')(x)\n",
    "\n",
    "autoencoder = keras.Model(input_img, decoded)\n",
    "autoencoder.compile(optimizer='adam', loss='mse')\n",
    "\n",
    "print(autoencoder.summary())\n",
    "\n",
    "autoencoder.fit(\n",
    "    train_images, train_images,\n",
    "    batch_size=128,\n",
    "    epochs=5,\n",
    "    verbose=1\n",
    ")"
   ]
  },
  {
   "cell_type": "code",
   "execution_count": 34,
   "metadata": {},
   "outputs": [
    {
     "name": "stdout",
     "output_type": "stream",
     "text": [
      "(60000, 784)\n",
      "(10000, 784)\n",
      "Epoch 1/10\n",
      "938/938 [==============================] - 7s 7ms/step - loss: 0.0898\n",
      "Epoch 2/10\n",
      "938/938 [==============================] - 5s 5ms/step - loss: 0.0592\n",
      "Epoch 3/10\n",
      "938/938 [==============================] - 7s 7ms/step - loss: 0.0522\n",
      "Epoch 4/10\n",
      "938/938 [==============================] - 7s 7ms/step - loss: 0.0480\n",
      "Epoch 5/10\n",
      "938/938 [==============================] - 5s 6ms/step - loss: 0.0460\n",
      "Epoch 6/10\n",
      "938/938 [==============================] - 5s 6ms/step - loss: 0.0452\n",
      "Epoch 7/10\n",
      "938/938 [==============================] - 6s 7ms/step - loss: 0.0449\n",
      "Epoch 8/10\n",
      "938/938 [==============================] - 5s 6ms/step - loss: 0.0447\n",
      "Epoch 9/10\n",
      "938/938 [==============================] - 5s 5ms/step - loss: 0.0446\n",
      "Epoch 10/10\n",
      "938/938 [==============================] - 6s 6ms/step - loss: 0.0446\n",
      "Model: \"model3\"\n",
      "_________________________________________________________________\n",
      " Layer (type)                Output Shape              Param #   \n",
      "=================================================================\n",
      " input_19 (InputLayer)       [(None, 784)]             0         \n",
      "                                                                 \n",
      " dense_27 (Dense)            (None, 2)                 1570      \n",
      "                                                                 \n",
      "=================================================================\n",
      "Total params: 1,570\n",
      "Trainable params: 1,570\n",
      "Non-trainable params: 0\n",
      "_________________________________________________________________\n",
      "1875/1875 [==============================] - 8s 4ms/step\n"
     ]
    },
    {
     "data": {
      "image/png": "[encoded data removed]",
      "text/plain": [
       "<Figure size 432x288 with 1 Axes>"
      ]
     },
     "metadata": {
      "needs_background": "light"
     },
     "output_type": "display_data"
    }
   ],
   "source": [
    "import matplotlib.pyplot as plt\n",
    "import tensorflow as tf\n",
    "from keras.datasets import mnist\n",
    "import keras\n",
    "import matplotlib.pyplot as plt\n",
    "import tensorflow as tf\n",
    "from keras.datasets import mnist\n",
    "import numpy as np\n",
    "\n",
    "fashion_mnist = tf.keras.datasets.fashion_mnist\n",
    "(x_train, y_train), (x_test, y_test) = fashion_mnist.load_data()\n",
    "\n",
    "x_train = x_train.astype('float32') / 255.\n",
    "x_test = x_test.astype('float32') / 255.\n",
    "x_train = x_train.reshape((len(x_train), np.prod(x_train.shape[1:])))\n",
    "x_test = x_test.reshape((len(x_test), np.prod(x_test.shape[1:])))\n",
    "#x_train = x_train[:10000]\n",
    "#x_test = x_test[:1000]\n",
    "#y_train = y_train[:10000]\n",
    "#y_test = y_test[:1000]\n",
    "print(x_train.shape)\n",
    "print(x_test.shape)\n",
    "\n",
    "\n",
    "\n",
    "\n",
    "model3 = keras.Sequential()\n",
    "model3.add(keras.Input(shape=(784,)))\n",
    "model3.add(keras.layers.Dense(2, activation = 'relu'),) #Hidden layer 1\n",
    "model3.add(keras.layers.Dense(784, activation='sigmoid')) #Output layer\n",
    "\n",
    "\n",
    "\n",
    "model3.compile(optimizer = \"adam\", loss = \"mse\")\n",
    "\n",
    "model3.fit(x = x_train, y = x_train, epochs = 10,shuffle=True, batch_size=64)\n",
    "\n",
    "# print(model3.layers[0].output)\n",
    "# print(model3.input)\n",
    "\n",
    "\n",
    "\n",
    "autoencoder=keras.Model(name='model3',inputs=model3.input,outputs=model3.layers[0].output)\n",
    "autoencoder.summary()\n",
    "\n",
    "autoencoder.compile(optimizer = \"adam\", loss = \"mse\")\n",
    "\n",
    "\n",
    "def plot(model_no):\n",
    "    m=model_no.predict(x_train)\n",
    "    plt.scatter(m[:,0],m[:,1],c=y_train)\n",
    "    plt.show()\n",
    "\n",
    "\n",
    "#autoencoder.fit(x = x_train, y = x_train, epochs = 10,shuffle=True, batch_size=64)\n",
    "#AFTER TRAINING THE MODEL RESPONSE OF HIDDEN LAYER IN SCATTER PLOT\n",
    "plot(autoencoder)"
   ]
  },
  {
   "cell_type": "code",
   "execution_count": null,
   "metadata": {},
   "outputs": [],
   "source": []
  },
  {
   "cell_type": "markdown",
   "metadata": {
    "id": "LKNSfYaixevV"
   },
   "source": [
    "\n",
    "## Subtask 2\n",
    "\n",
    "Modify Subtask 1 so that you add three hidden layers and 2 latent features, i.e.\n",
    "784-10-2-10-784 neurons. Observe differences.\n",
    "\n"
   ]
  },
  {
   "cell_type": "code",
   "execution_count": 37,
   "metadata": {},
   "outputs": [
    {
     "name": "stdout",
     "output_type": "stream",
     "text": [
      "(60000, 784)\n",
      "(10000, 784)\n",
      "Epoch 1/10\n",
      "938/938 [==============================] - 6s 6ms/step - loss: 0.0629\n",
      "Epoch 2/10\n",
      "938/938 [==============================] - 6s 6ms/step - loss: 0.0457\n",
      "Epoch 3/10\n",
      "938/938 [==============================] - 6s 6ms/step - loss: 0.0411\n",
      "Epoch 4/10\n",
      "938/938 [==============================] - 6s 6ms/step - loss: 0.0393\n",
      "Epoch 5/10\n",
      "938/938 [==============================] - 7s 8ms/step - loss: 0.0384\n",
      "Epoch 6/10\n",
      "938/938 [==============================] - 7s 7ms/step - loss: 0.0377\n",
      "Epoch 7/10\n",
      "938/938 [==============================] - 6s 6ms/step - loss: 0.0372\n",
      "Epoch 8/10\n",
      "938/938 [==============================] - 6s 6ms/step - loss: 0.0368\n",
      "Epoch 9/10\n",
      "938/938 [==============================] - 8s 8ms/step - loss: 0.0364\n",
      "Epoch 10/10\n",
      "938/938 [==============================] - 8s 9ms/step - loss: 0.0362\n",
      "Model: \"model4\"\n",
      "_________________________________________________________________\n",
      " Layer (type)                Output Shape              Param #   \n",
      "=================================================================\n",
      " input_22 (InputLayer)       [(None, 784)]             0         \n",
      "                                                                 \n",
      " dense_37 (Dense)            (None, 10)                7850      \n",
      "                                                                 \n",
      " dense_38 (Dense)            (None, 2)                 22        \n",
      "                                                                 \n",
      " dense_39 (Dense)            (None, 10)                30        \n",
      "                                                                 \n",
      " dense_40 (Dense)            (None, 784)               8624      \n",
      "                                                                 \n",
      "=================================================================\n",
      "Total params: 16,526\n",
      "Trainable params: 16,526\n",
      "Non-trainable params: 0\n",
      "_________________________________________________________________\n",
      "1875/1875 [==============================] - 9s 5ms/step\n"
     ]
    },
    {
     "data": {
      "image/png": "[encoded data removed]",
      "text/plain": [
       "<Figure size 432x288 with 1 Axes>"
      ]
     },
     "metadata": {
      "needs_background": "light"
     },
     "output_type": "display_data"
    }
   ],
   "source": [
    "import matplotlib.pyplot as plt\n",
    "import tensorflow as tf\n",
    "from keras.datasets import mnist\n",
    "import keras\n",
    "import matplotlib.pyplot as plt\n",
    "import tensorflow as tf\n",
    "from keras.datasets import mnist\n",
    "import numpy as np\n",
    "\n",
    "fashion_mnist = tf.keras.datasets.fashion_mnist\n",
    "(x_train, y_train), (x_test, y_test) = fashion_mnist.load_data()\n",
    "\n",
    "x_train = x_train.astype('float32') / 255.\n",
    "x_test = x_test.astype('float32') / 255.\n",
    "x_train = x_train.reshape((len(x_train), np.prod(x_train.shape[1:])))\n",
    "x_test = x_test.reshape((len(x_test), np.prod(x_test.shape[1:])))\n",
    "\n",
    "print(x_train.shape)\n",
    "print(x_test.shape)\n",
    "\n",
    "\n",
    "\n",
    "\n",
    "model4 = keras.Sequential()\n",
    "model4.add(keras.Input(shape=(784,)))\n",
    "model4.add(keras.layers.Dense(10, activation = 'relu'))\n",
    "model4.add(keras.layers.Dense(2, activation = 'relu'))\n",
    "model4.add(keras.layers.Dense(10, activation = 'relu')) #Hidden layer 1\n",
    "model4.add(keras.layers.Dense(784, activation='sigmoid')) #Output layer\n",
    "\n",
    "\n",
    "\n",
    "model4.compile(optimizer = \"adam\", loss = \"mse\")\n",
    "model4.fit(x = x_train, y = x_train, epochs = 10,shuffle=True, batch_size=64)\n",
    "\n",
    "\n",
    "# print(model3.layers[0].output)\n",
    "# print(model3.input)\n",
    "\n",
    "\n",
    "\n",
    "autoencoder1=keras.Model(name='model4',inputs=model4.input,outputs=model4.layers[-1].output)\n",
    "autoencoder1.summary()\n",
    "\n",
    "#autoencoder.compile(optimizer = \"adam\", loss = \"mse\")\n",
    "\n",
    "\n",
    "def plot(model_no):\n",
    "    m=model_no.predict(x_train)\n",
    "    plt.scatter(m[:,0],m[:,1],c=y_train)\n",
    "    plt.show()\n",
    "\n",
    "\n",
    "#autoencoder.fit(x = x_train, y = x_train, epochs = 10,shuffle=True, batch_size=64)\n",
    "#AFTER TRAINING THE MODEL RESPONSE OF HIDDEN LAYER IN SCATTER PLOT\n",
    "plot(autoencoder1)"
   ]
  },
  {
   "cell_type": "code",
   "execution_count": 27,
   "metadata": {
    "colab": {
     "base_uri": "https://localhost:8080/"
    },
    "id": "gMHVdjwhxkxF",
    "outputId": "4c37df21-676e-4f20-f4d7-fc917624157c"
   },
   "outputs": [
    {
     "name": "stdout",
     "output_type": "stream",
     "text": [
      "Model: \"enc\"\n",
      "_________________________________________________________________\n",
      " Layer (type)                Output Shape              Param #   \n",
      "=================================================================\n",
      " input_11 (InputLayer)       [(None, 784)]             0         \n",
      "                                                                 \n",
      " dense_24 (Dense)            (None, 10)                7850      \n",
      "                                                                 \n",
      " dense_25 (Dense)            (None, 2)                 22        \n",
      "                                                                 \n",
      " dense_26 (Dense)            (None, 10)                30        \n",
      "                                                                 \n",
      " dense_27 (Dense)            (None, 784)               8624      \n",
      "                                                                 \n",
      "=================================================================\n",
      "Total params: 16,526\n",
      "Trainable params: 16,526\n",
      "Non-trainable params: 0\n",
      "_________________________________________________________________\n"
     ]
    }
   ],
   "source": [
    "#Write your code here\n",
    "import matplotlib.pyplot as plt\n",
    "import tensorflow as tf\n",
    "import keras\n",
    "from keras import layers\n",
    "\n",
    "latent_dim = 10\n",
    "\n",
    "\n",
    "\n",
    "model2 = tf.keras.models.Sequential()\n",
    "model2.add(tf.keras.layers.Input(shape=(784,)))\n",
    "model2.add(tf.keras.layers.Dense(latent_dim,activation=\"relu\"))\n",
    "model2.add(tf.keras.layers.Dense(2,activation=\"relu\"))\n",
    "model2.add(tf.keras.layers.Dense(latent_dim,activation=\"relu\"))\n",
    "model2.add(tf.keras.layers.Dense(784,activation=\"sigmoid\"))\n",
    "autoencoder2 = tf.keras.models.Model(name='enc',inputs=model2.input,outputs=model2.layers[3].output)\n",
    "autoencoder2.compile(loss = 'binary_crossentropy',\n",
    "                    optimizer = 'adam',\n",
    "                    metrics = ['accuracy'])\n",
    "autoencoder2.summary()\n",
    "\n",
    "#autoencoder2 = keras.Model(input_img, output)\n",
    "autoencoder2.compile(optimizer='adam', loss='mse',metrics = ['accuracy'])\n",
    "\n",
    "#autoencoder2.summary()\n",
    "\n",
    "\n"
   ]
  },
  {
   "cell_type": "code",
   "execution_count": null,
   "metadata": {},
   "outputs": [],
   "source": []
  },
  {
   "cell_type": "code",
   "execution_count": 32,
   "metadata": {
    "colab": {
     "base_uri": "https://localhost:8080/"
    },
    "id": "O0uA7KZs6Z8P",
    "outputId": "99221a40-4fc5-43b5-f03b-ae04a710c3a8"
   },
   "outputs": [
    {
     "name": "stdout",
     "output_type": "stream",
     "text": [
      "Epoch 1/5\n",
      "1200/1200 [==============================] - 8s 7ms/step - loss: 20.2774 - accuracy: 0.0970\n",
      "Epoch 2/5\n",
      "1200/1200 [==============================] - 7s 6ms/step - loss: 20.2774 - accuracy: 0.0982\n",
      "Epoch 3/5\n",
      "1200/1200 [==============================] - 6s 5ms/step - loss: 20.2774 - accuracy: 0.0987\n",
      "Epoch 4/5\n",
      "1200/1200 [==============================] - 6s 5ms/step - loss: 20.2774 - accuracy: 0.0990\n",
      "Epoch 5/5\n",
      "1200/1200 [==============================] - 6s 5ms/step - loss: 20.2774 - accuracy: 0.0992\n"
     ]
    }
   ],
   "source": [
    "hist=autoencoder2.fit(x_train,y_train,epochs=5,batch_size=50)"
   ]
  },
  {
   "cell_type": "code",
   "execution_count": 34,
   "metadata": {
    "colab": {
     "base_uri": "https://localhost:8080/",
     "height": 300
    },
    "id": "wXGjRS8b9I1h",
    "outputId": "410d6f0b-b08f-4e93-837d-a1431fe61039"
   },
   "outputs": [
    {
     "name": "stdout",
     "output_type": "stream",
     "text": [
      "1875/1875 [==============================] - 5s 2ms/step\n",
      "Model: \"sequential_13\"\n",
      "_________________________________________________________________\n",
      " Layer (type)                Output Shape              Param #   \n",
      "=================================================================\n",
      " dense_24 (Dense)            (None, 10)                7850      \n",
      "                                                                 \n",
      " dense_25 (Dense)            (None, 2)                 22        \n",
      "                                                                 \n",
      " dense_26 (Dense)            (None, 10)                30        \n",
      "                                                                 \n",
      "=================================================================\n",
      "Total params: 7,902\n",
      "Trainable params: 7,902\n",
      "Non-trainable params: 0\n",
      "_________________________________________________________________\n",
      "(60000, 10)\n"
     ]
    },
    {
     "data": {
      "image/png": "[encoded data removed]",
      "text/plain": [
       "<Figure size 432x288 with 1 Axes>"
      ]
     },
     "metadata": {
      "needs_background": "light"
     },
     "output_type": "display_data"
    }
   ],
   "source": [
    "encoder1 = extract_layers(autoencoder2,0,3)\n",
    "plot_response(encoder1,x_train,y_train)"
   ]
  },
  {
   "cell_type": "code",
   "execution_count": null,
   "metadata": {},
   "outputs": [],
   "source": []
  },
  {
   "cell_type": "markdown",
   "metadata": {
    "id": "YXRS8WDQxrhi"
   },
   "source": [
    "## Subtask 3\n",
    "\n",
    "Modify Subtask 1 so that you add convolution layers, pooling layers, ... for the autoencoder and observe differences.\n"
   ]
  },
  {
   "cell_type": "code",
   "execution_count": 30,
   "metadata": {},
   "outputs": [
    {
     "name": "stdout",
     "output_type": "stream",
     "text": [
      "Model: \"model_2\"\n",
      "_________________________________________________________________\n",
      " Layer (type)                Output Shape              Param #   \n",
      "=================================================================\n",
      " input_16 (InputLayer)       [(None, 28, 28, 1)]       0         \n",
      "                                                                 \n",
      " conv2d_17 (Conv2D)          (None, 28, 28, 32)        320       \n",
      "                                                                 \n",
      " conv2d_18 (Conv2D)          (None, 28, 28, 32)        9248      \n",
      "                                                                 \n",
      " max_pooling2d_4 (MaxPooling  (None, 14, 14, 32)       0         \n",
      " 2D)                                                             \n",
      "                                                                 \n",
      " batch_normalization_4 (Batc  (None, 14, 14, 32)       128       \n",
      " hNormalization)                                                 \n",
      "                                                                 \n",
      " conv2d_19 (Conv2D)          (None, 14, 14, 32)        9248      \n",
      "                                                                 \n",
      " conv2d_20 (Conv2D)          (None, 14, 14, 32)        9248      \n",
      "                                                                 \n",
      " conv2d_21 (Conv2D)          (None, 14, 14, 32)        4128      \n",
      "                                                                 \n",
      " max_pooling2d_5 (MaxPooling  (None, 7, 7, 32)         0         \n",
      " 2D)                                                             \n",
      "                                                                 \n",
      " batch_normalization_5 (Batc  (None, 7, 7, 32)         128       \n",
      " hNormalization)                                                 \n",
      "                                                                 \n",
      " conv2d_22 (Conv2D)          (None, 7, 7, 16)          2064      \n",
      "                                                                 \n",
      " conv2d_23 (Conv2D)          (None, 7, 7, 4)           260       \n",
      "                                                                 \n",
      " conv2d_24 (Conv2D)          (None, 7, 7, 1)           17        \n",
      "                                                                 \n",
      " flatten_2 (Flatten)         (None, 49)                0         \n",
      "                                                                 \n",
      " dense_20 (Dense)            (None, 2)                 100       \n",
      "                                                                 \n",
      "=================================================================\n",
      "Total params: 34,889\n",
      "Trainable params: 34,761\n",
      "Non-trainable params: 128\n",
      "_________________________________________________________________\n",
      "Epoch 1/10\n"
     ]
    },
    {
     "ename": "InvalidArgumentError",
     "evalue": "Graph execution error:\n\nDetected at node 'gradient_tape/mean_squared_error/BroadcastGradientArgs' defined at (most recent call last):\n    File \"C:\\Users\\aman0\\Anaconda3\\lib\\runpy.py\", line 193, in _run_module_as_main\n      \"__main__\", mod_spec)\n    File \"C:\\Users\\aman0\\Anaconda3\\lib\\runpy.py\", line 85, in _run_code\n      exec(code, run_globals)\n    File \"C:\\Users\\aman0\\Anaconda3\\lib\\site-packages\\ipykernel_launcher.py\", line 16, in <module>\n      app.launch_new_instance()\n    File \"C:\\Users\\aman0\\Anaconda3\\lib\\site-packages\\traitlets\\config\\application.py\", line 664, in launch_instance\n      app.start()\n    File \"C:\\Users\\aman0\\Anaconda3\\lib\\site-packages\\ipykernel\\kernelapp.py\", line 563, in start\n      self.io_loop.start()\n    File \"C:\\Users\\aman0\\Anaconda3\\lib\\site-packages\\tornado\\platform\\asyncio.py\", line 148, in start\n      self.asyncio_loop.run_forever()\n    File \"C:\\Users\\aman0\\Anaconda3\\lib\\asyncio\\base_events.py\", line 534, in run_forever\n      self._run_once()\n    File \"C:\\Users\\aman0\\Anaconda3\\lib\\asyncio\\base_events.py\", line 1771, in _run_once\n      handle._run()\n    File \"C:\\Users\\aman0\\Anaconda3\\lib\\asyncio\\events.py\", line 88, in _run\n      self._context.run(self._callback, *self._args)\n    File \"C:\\Users\\aman0\\Anaconda3\\lib\\site-packages\\tornado\\ioloop.py\", line 690, in <lambda>\n      lambda f: self._run_callback(functools.partial(callback, future))\n    File \"C:\\Users\\aman0\\Anaconda3\\lib\\site-packages\\tornado\\ioloop.py\", line 743, in _run_callback\n      ret = callback()\n    File \"C:\\Users\\aman0\\Anaconda3\\lib\\site-packages\\tornado\\gen.py\", line 787, in inner\n      self.run()\n    File \"C:\\Users\\aman0\\Anaconda3\\lib\\site-packages\\tornado\\gen.py\", line 748, in run\n      yielded = self.gen.send(value)\n    File \"C:\\Users\\aman0\\Anaconda3\\lib\\site-packages\\ipykernel\\kernelbase.py\", line 365, in process_one\n      yield gen.maybe_future(dispatch(*args))\n    File \"C:\\Users\\aman0\\Anaconda3\\lib\\site-packages\\tornado\\gen.py\", line 209, in wrapper\n      yielded = next(result)\n    File \"C:\\Users\\aman0\\Anaconda3\\lib\\site-packages\\ipykernel\\kernelbase.py\", line 272, in dispatch_shell\n      yield gen.maybe_future(handler(stream, idents, msg))\n    File \"C:\\Users\\aman0\\Anaconda3\\lib\\site-packages\\tornado\\gen.py\", line 209, in wrapper\n      yielded = next(result)\n    File \"C:\\Users\\aman0\\Anaconda3\\lib\\site-packages\\ipykernel\\kernelbase.py\", line 542, in execute_request\n      user_expressions, allow_stdin,\n    File \"C:\\Users\\aman0\\Anaconda3\\lib\\site-packages\\tornado\\gen.py\", line 209, in wrapper\n      yielded = next(result)\n    File \"C:\\Users\\aman0\\Anaconda3\\lib\\site-packages\\ipykernel\\ipkernel.py\", line 294, in do_execute\n      res = shell.run_cell(code, store_history=store_history, silent=silent)\n    File \"C:\\Users\\aman0\\Anaconda3\\lib\\site-packages\\ipykernel\\zmqshell.py\", line 536, in run_cell\n      return super(ZMQInteractiveShell, self).run_cell(*args, **kwargs)\n    File \"C:\\Users\\aman0\\Anaconda3\\lib\\site-packages\\IPython\\core\\interactiveshell.py\", line 2855, in run_cell\n      raw_cell, store_history, silent, shell_futures)\n    File \"C:\\Users\\aman0\\Anaconda3\\lib\\site-packages\\IPython\\core\\interactiveshell.py\", line 2881, in _run_cell\n      return runner(coro)\n    File \"C:\\Users\\aman0\\Anaconda3\\lib\\site-packages\\IPython\\core\\async_helpers.py\", line 68, in _pseudo_sync_runner\n      coro.send(None)\n    File \"C:\\Users\\aman0\\Anaconda3\\lib\\site-packages\\IPython\\core\\interactiveshell.py\", line 3058, in run_cell_async\n      interactivity=interactivity, compiler=compiler, result=result)\n    File \"C:\\Users\\aman0\\Anaconda3\\lib\\site-packages\\IPython\\core\\interactiveshell.py\", line 3249, in run_ast_nodes\n      if (await self.run_code(code, result,  async_=asy)):\n    File \"C:\\Users\\aman0\\Anaconda3\\lib\\site-packages\\IPython\\core\\interactiveshell.py\", line 3326, in run_code\n      exec(code_obj, self.user_global_ns, self.user_ns)\n    File \"<ipython-input-30-2d015dac53c7>\", line 49, in <module>\n      encoder.fit(x = x_train, y = x_train, epochs = 10,shuffle=True, batch_size=64)\n    File \"C:\\Users\\aman0\\Anaconda3\\lib\\site-packages\\keras\\utils\\traceback_utils.py\", line 65, in error_handler\n      return fn(*args, **kwargs)\n    File \"C:\\Users\\aman0\\Anaconda3\\lib\\site-packages\\keras\\engine\\training.py\", line 1564, in fit\n      tmp_logs = self.train_function(iterator)\n    File \"C:\\Users\\aman0\\Anaconda3\\lib\\site-packages\\keras\\engine\\training.py\", line 1160, in train_function\n      return step_function(self, iterator)\n    File \"C:\\Users\\aman0\\Anaconda3\\lib\\site-packages\\keras\\engine\\training.py\", line 1146, in step_function\n      outputs = model.distribute_strategy.run(run_step, args=(data,))\n    File \"C:\\Users\\aman0\\Anaconda3\\lib\\site-packages\\keras\\engine\\training.py\", line 1135, in run_step\n      outputs = model.train_step(data)\n    File \"C:\\Users\\aman0\\Anaconda3\\lib\\site-packages\\keras\\engine\\training.py\", line 997, in train_step\n      self.optimizer.minimize(loss, self.trainable_variables, tape=tape)\n    File \"C:\\Users\\aman0\\Anaconda3\\lib\\site-packages\\keras\\optimizers\\optimizer_v2\\optimizer_v2.py\", line 577, in minimize\n      loss, var_list=var_list, grad_loss=grad_loss, tape=tape\n    File \"C:\\Users\\aman0\\Anaconda3\\lib\\site-packages\\keras\\optimizers\\optimizer_v2\\optimizer_v2.py\", line 635, in _compute_gradients\n      tape, loss, var_list, grad_loss\n    File \"C:\\Users\\aman0\\Anaconda3\\lib\\site-packages\\keras\\optimizers\\optimizer_v2\\optimizer_v2.py\", line 510, in _get_gradients\n      grads = tape.gradient(loss, var_list, grad_loss)\nNode: 'gradient_tape/mean_squared_error/BroadcastGradientArgs'\nIncompatible shapes: [64,2] vs. [64,28,28,1]\n\t [[{{node gradient_tape/mean_squared_error/BroadcastGradientArgs}}]] [Op:__inference_train_function_131034]",
     "output_type": "error",
     "traceback": [
      "\u001b[1;31m---------------------------------------------------------------------------\u001b[0m",
      "\u001b[1;31mInvalidArgumentError\u001b[0m                      Traceback (most recent call last)",
      "\u001b[1;32m<ipython-input-30-2d015dac53c7>\u001b[0m in \u001b[0;36m<module>\u001b[1;34m\u001b[0m\n\u001b[0;32m     47\u001b[0m \u001b[1;33m\u001b[0m\u001b[0m\n\u001b[0;32m     48\u001b[0m \u001b[1;33m\u001b[0m\u001b[0m\n\u001b[1;32m---> 49\u001b[1;33m \u001b[0mencoder\u001b[0m\u001b[1;33m.\u001b[0m\u001b[0mfit\u001b[0m\u001b[1;33m(\u001b[0m\u001b[0mx\u001b[0m \u001b[1;33m=\u001b[0m \u001b[0mx_train\u001b[0m\u001b[1;33m,\u001b[0m \u001b[0my\u001b[0m \u001b[1;33m=\u001b[0m \u001b[0mx_train\u001b[0m\u001b[1;33m,\u001b[0m \u001b[0mepochs\u001b[0m \u001b[1;33m=\u001b[0m \u001b[1;36m10\u001b[0m\u001b[1;33m,\u001b[0m\u001b[0mshuffle\u001b[0m\u001b[1;33m=\u001b[0m\u001b[1;32mTrue\u001b[0m\u001b[1;33m,\u001b[0m \u001b[0mbatch_size\u001b[0m\u001b[1;33m=\u001b[0m\u001b[1;36m64\u001b[0m\u001b[1;33m)\u001b[0m\u001b[1;33m\u001b[0m\u001b[1;33m\u001b[0m\u001b[0m\n\u001b[0m",
      "\u001b[1;32m~\\Anaconda3\\lib\\site-packages\\keras\\utils\\traceback_utils.py\u001b[0m in \u001b[0;36merror_handler\u001b[1;34m(*args, **kwargs)\u001b[0m\n\u001b[0;32m     68\u001b[0m             \u001b[1;31m# To get the full stack trace, call:\u001b[0m\u001b[1;33m\u001b[0m\u001b[1;33m\u001b[0m\u001b[1;33m\u001b[0m\u001b[0m\n\u001b[0;32m     69\u001b[0m             \u001b[1;31m# `tf.debugging.disable_traceback_filtering()`\u001b[0m\u001b[1;33m\u001b[0m\u001b[1;33m\u001b[0m\u001b[1;33m\u001b[0m\u001b[0m\n\u001b[1;32m---> 70\u001b[1;33m             \u001b[1;32mraise\u001b[0m \u001b[0me\u001b[0m\u001b[1;33m.\u001b[0m\u001b[0mwith_traceback\u001b[0m\u001b[1;33m(\u001b[0m\u001b[0mfiltered_tb\u001b[0m\u001b[1;33m)\u001b[0m \u001b[1;32mfrom\u001b[0m \u001b[1;32mNone\u001b[0m\u001b[1;33m\u001b[0m\u001b[1;33m\u001b[0m\u001b[0m\n\u001b[0m\u001b[0;32m     71\u001b[0m         \u001b[1;32mfinally\u001b[0m\u001b[1;33m:\u001b[0m\u001b[1;33m\u001b[0m\u001b[1;33m\u001b[0m\u001b[0m\n\u001b[0;32m     72\u001b[0m             \u001b[1;32mdel\u001b[0m \u001b[0mfiltered_tb\u001b[0m\u001b[1;33m\u001b[0m\u001b[1;33m\u001b[0m\u001b[0m\n",
      "\u001b[1;32m~\\Anaconda3\\lib\\site-packages\\tensorflow\\python\\eager\\execute.py\u001b[0m in \u001b[0;36mquick_execute\u001b[1;34m(op_name, num_outputs, inputs, attrs, ctx, name)\u001b[0m\n\u001b[0;32m     53\u001b[0m     \u001b[0mctx\u001b[0m\u001b[1;33m.\u001b[0m\u001b[0mensure_initialized\u001b[0m\u001b[1;33m(\u001b[0m\u001b[1;33m)\u001b[0m\u001b[1;33m\u001b[0m\u001b[1;33m\u001b[0m\u001b[0m\n\u001b[0;32m     54\u001b[0m     tensors = pywrap_tfe.TFE_Py_Execute(ctx._handle, device_name, op_name,\n\u001b[1;32m---> 55\u001b[1;33m                                         inputs, attrs, num_outputs)\n\u001b[0m\u001b[0;32m     56\u001b[0m   \u001b[1;32mexcept\u001b[0m \u001b[0mcore\u001b[0m\u001b[1;33m.\u001b[0m\u001b[0m_NotOkStatusException\u001b[0m \u001b[1;32mas\u001b[0m \u001b[0me\u001b[0m\u001b[1;33m:\u001b[0m\u001b[1;33m\u001b[0m\u001b[1;33m\u001b[0m\u001b[0m\n\u001b[0;32m     57\u001b[0m     \u001b[1;32mif\u001b[0m \u001b[0mname\u001b[0m \u001b[1;32mis\u001b[0m \u001b[1;32mnot\u001b[0m \u001b[1;32mNone\u001b[0m\u001b[1;33m:\u001b[0m\u001b[1;33m\u001b[0m\u001b[1;33m\u001b[0m\u001b[0m\n",
      "\u001b[1;31mInvalidArgumentError\u001b[0m: Graph execution error:\n\nDetected at node 'gradient_tape/mean_squared_error/BroadcastGradientArgs' defined at (most recent call last):\n    File \"C:\\Users\\aman0\\Anaconda3\\lib\\runpy.py\", line 193, in _run_module_as_main\n      \"__main__\", mod_spec)\n    File \"C:\\Users\\aman0\\Anaconda3\\lib\\runpy.py\", line 85, in _run_code\n      exec(code, run_globals)\n    File \"C:\\Users\\aman0\\Anaconda3\\lib\\site-packages\\ipykernel_launcher.py\", line 16, in <module>\n      app.launch_new_instance()\n    File \"C:\\Users\\aman0\\Anaconda3\\lib\\site-packages\\traitlets\\config\\application.py\", line 664, in launch_instance\n      app.start()\n    File \"C:\\Users\\aman0\\Anaconda3\\lib\\site-packages\\ipykernel\\kernelapp.py\", line 563, in start\n      self.io_loop.start()\n    File \"C:\\Users\\aman0\\Anaconda3\\lib\\site-packages\\tornado\\platform\\asyncio.py\", line 148, in start\n      self.asyncio_loop.run_forever()\n    File \"C:\\Users\\aman0\\Anaconda3\\lib\\asyncio\\base_events.py\", line 534, in run_forever\n      self._run_once()\n    File \"C:\\Users\\aman0\\Anaconda3\\lib\\asyncio\\base_events.py\", line 1771, in _run_once\n      handle._run()\n    File \"C:\\Users\\aman0\\Anaconda3\\lib\\asyncio\\events.py\", line 88, in _run\n      self._context.run(self._callback, *self._args)\n    File \"C:\\Users\\aman0\\Anaconda3\\lib\\site-packages\\tornado\\ioloop.py\", line 690, in <lambda>\n      lambda f: self._run_callback(functools.partial(callback, future))\n    File \"C:\\Users\\aman0\\Anaconda3\\lib\\site-packages\\tornado\\ioloop.py\", line 743, in _run_callback\n      ret = callback()\n    File \"C:\\Users\\aman0\\Anaconda3\\lib\\site-packages\\tornado\\gen.py\", line 787, in inner\n      self.run()\n    File \"C:\\Users\\aman0\\Anaconda3\\lib\\site-packages\\tornado\\gen.py\", line 748, in run\n      yielded = self.gen.send(value)\n    File \"C:\\Users\\aman0\\Anaconda3\\lib\\site-packages\\ipykernel\\kernelbase.py\", line 365, in process_one\n      yield gen.maybe_future(dispatch(*args))\n    File \"C:\\Users\\aman0\\Anaconda3\\lib\\site-packages\\tornado\\gen.py\", line 209, in wrapper\n      yielded = next(result)\n    File \"C:\\Users\\aman0\\Anaconda3\\lib\\site-packages\\ipykernel\\kernelbase.py\", line 272, in dispatch_shell\n      yield gen.maybe_future(handler(stream, idents, msg))\n    File \"C:\\Users\\aman0\\Anaconda3\\lib\\site-packages\\tornado\\gen.py\", line 209, in wrapper\n      yielded = next(result)\n    File \"C:\\Users\\aman0\\Anaconda3\\lib\\site-packages\\ipykernel\\kernelbase.py\", line 542, in execute_request\n      user_expressions, allow_stdin,\n    File \"C:\\Users\\aman0\\Anaconda3\\lib\\site-packages\\tornado\\gen.py\", line 209, in wrapper\n      yielded = next(result)\n    File \"C:\\Users\\aman0\\Anaconda3\\lib\\site-packages\\ipykernel\\ipkernel.py\", line 294, in do_execute\n      res = shell.run_cell(code, store_history=store_history, silent=silent)\n    File \"C:\\Users\\aman0\\Anaconda3\\lib\\site-packages\\ipykernel\\zmqshell.py\", line 536, in run_cell\n      return super(ZMQInteractiveShell, self).run_cell(*args, **kwargs)\n    File \"C:\\Users\\aman0\\Anaconda3\\lib\\site-packages\\IPython\\core\\interactiveshell.py\", line 2855, in run_cell\n      raw_cell, store_history, silent, shell_futures)\n    File \"C:\\Users\\aman0\\Anaconda3\\lib\\site-packages\\IPython\\core\\interactiveshell.py\", line 2881, in _run_cell\n      return runner(coro)\n    File \"C:\\Users\\aman0\\Anaconda3\\lib\\site-packages\\IPython\\core\\async_helpers.py\", line 68, in _pseudo_sync_runner\n      coro.send(None)\n    File \"C:\\Users\\aman0\\Anaconda3\\lib\\site-packages\\IPython\\core\\interactiveshell.py\", line 3058, in run_cell_async\n      interactivity=interactivity, compiler=compiler, result=result)\n    File \"C:\\Users\\aman0\\Anaconda3\\lib\\site-packages\\IPython\\core\\interactiveshell.py\", line 3249, in run_ast_nodes\n      if (await self.run_code(code, result,  async_=asy)):\n    File \"C:\\Users\\aman0\\Anaconda3\\lib\\site-packages\\IPython\\core\\interactiveshell.py\", line 3326, in run_code\n      exec(code_obj, self.user_global_ns, self.user_ns)\n    File \"<ipython-input-30-2d015dac53c7>\", line 49, in <module>\n      encoder.fit(x = x_train, y = x_train, epochs = 10,shuffle=True, batch_size=64)\n    File \"C:\\Users\\aman0\\Anaconda3\\lib\\site-packages\\keras\\utils\\traceback_utils.py\", line 65, in error_handler\n      return fn(*args, **kwargs)\n    File \"C:\\Users\\aman0\\Anaconda3\\lib\\site-packages\\keras\\engine\\training.py\", line 1564, in fit\n      tmp_logs = self.train_function(iterator)\n    File \"C:\\Users\\aman0\\Anaconda3\\lib\\site-packages\\keras\\engine\\training.py\", line 1160, in train_function\n      return step_function(self, iterator)\n    File \"C:\\Users\\aman0\\Anaconda3\\lib\\site-packages\\keras\\engine\\training.py\", line 1146, in step_function\n      outputs = model.distribute_strategy.run(run_step, args=(data,))\n    File \"C:\\Users\\aman0\\Anaconda3\\lib\\site-packages\\keras\\engine\\training.py\", line 1135, in run_step\n      outputs = model.train_step(data)\n    File \"C:\\Users\\aman0\\Anaconda3\\lib\\site-packages\\keras\\engine\\training.py\", line 997, in train_step\n      self.optimizer.minimize(loss, self.trainable_variables, tape=tape)\n    File \"C:\\Users\\aman0\\Anaconda3\\lib\\site-packages\\keras\\optimizers\\optimizer_v2\\optimizer_v2.py\", line 577, in minimize\n      loss, var_list=var_list, grad_loss=grad_loss, tape=tape\n    File \"C:\\Users\\aman0\\Anaconda3\\lib\\site-packages\\keras\\optimizers\\optimizer_v2\\optimizer_v2.py\", line 635, in _compute_gradients\n      tape, loss, var_list, grad_loss\n    File \"C:\\Users\\aman0\\Anaconda3\\lib\\site-packages\\keras\\optimizers\\optimizer_v2\\optimizer_v2.py\", line 510, in _get_gradients\n      grads = tape.gradient(loss, var_list, grad_loss)\nNode: 'gradient_tape/mean_squared_error/BroadcastGradientArgs'\nIncompatible shapes: [64,2] vs. [64,28,28,1]\n\t [[{{node gradient_tape/mean_squared_error/BroadcastGradientArgs}}]] [Op:__inference_train_function_131034]"
     ]
    }
   ],
   "source": [
    "import matplotlib.pyplot as plt\n",
    "import tensorflow as tf\n",
    "from keras.datasets import mnist\n",
    "import keras\n",
    "import matplotlib.pyplot as plt\n",
    "import tensorflow as tf\n",
    "from keras.datasets import mnist\n",
    "import numpy as np\n",
    "\n",
    "fashion_mnist = tf.keras.datasets.fashion_mnist\n",
    "(x_train, y_train), (x_test, y_test) = fashion_mnist.load_data()\n",
    "\n",
    "x_train = x_train.astype('float32') / 255.\n",
    "x_test = x_test.astype('float32') / 255.\n",
    "x_train = x_train.reshape(-1, 28, 28, 1)\n",
    "x_test = x_test.reshape(-1, 28, 28, 1)\n",
    "\n",
    "inputs = Input(shape=(28, 28, 1))\n",
    "\n",
    "x = Conv2D(32, (3, 3), activation='relu', padding='same')(inputs)\n",
    "x = Conv2D(32, (3, 3), activation='relu', padding='same')(x)\n",
    "x = MaxPooling2D((2, 2))(x)\n",
    "x = BatchNormalization()(x)\n",
    "x = Conv2D(32, (3, 3), activation='relu', padding='same')(x)\n",
    "x = Conv2D(32, (3, 3), activation='relu', padding='same')(x)\n",
    "x = Conv2D(32, (2, 2), activation='relu', padding='same')(x)\n",
    "x = MaxPooling2D((2, 2))(x)\n",
    "x = BatchNormalization()(x)\n",
    "x = Conv2D(16, (2, 2), activation='relu', padding='same')(x)\n",
    "x = Conv2D(4, (2, 2), activation='relu', padding='same')(x)\n",
    "x = Conv2D(1, (2, 2), activation='relu', padding='same')(x)\n",
    "x = Flatten()(x)\n",
    "encoded = Dense(2, activation='relu')(x)\n",
    "\n",
    "encoder = Model(inputs=inputs, outputs=encoded)\n",
    "encoder.summary()\n",
    "\n",
    "\n",
    "\n",
    "encoder.compile(optimizer = \"adam\", loss = \"mse\")\n",
    "\n",
    "\n",
    "\n",
    "# print(model3.layers[0].output)\n",
    "# print(model3.input)\n",
    "\n",
    "\n",
    "\n",
    "encoder.fit(x = x_train, y = x_train, epochs = 10,shuffle=True, batch_size=64)\n"
   ]
  },
  {
   "cell_type": "code",
   "execution_count": null,
   "metadata": {},
   "outputs": [],
   "source": [
    "def plot(model_no):\n",
    "    m=model_no.predict(x_train)\n",
    "    plt.scatter(m[:,0],m[:,1],c=y_train)\n",
    "    plt.show()\n",
    "\n",
    "\n",
    "\n",
    "#AFTER TRAINING THE MODEL RESPONSE OF HIDDEN LAYER IN SCATTER PLOT\n",
    "plot(autoencoder)"
   ]
  },
  {
   "cell_type": "code",
   "execution_count": 22,
   "metadata": {
    "id": "vZwRdlqgx7Mi"
   },
   "outputs": [
    {
     "name": "stdout",
     "output_type": "stream",
     "text": [
      "Model: \"model_3\"\n",
      "_________________________________________________________________\n",
      " Layer (type)                Output Shape              Param #   \n",
      "=================================================================\n",
      " input_10 (InputLayer)       [(None, 28, 28, 1)]       0         \n",
      "                                                                 \n",
      " conv2d_30 (Conv2D)          (None, 28, 28, 16)        160       \n",
      "                                                                 \n",
      " max_pooling2d_15 (MaxPoolin  (None, 14, 14, 16)       0         \n",
      " g2D)                                                            \n",
      "                                                                 \n",
      " conv2d_31 (Conv2D)          (None, 14, 14, 8)         1160      \n",
      "                                                                 \n",
      " max_pooling2d_16 (MaxPoolin  (None, 7, 7, 8)          0         \n",
      " g2D)                                                            \n",
      "                                                                 \n",
      " conv2d_32 (Conv2D)          (None, 7, 7, 8)           584       \n",
      "                                                                 \n",
      " max_pooling2d_17 (MaxPoolin  (None, 4, 4, 8)          0         \n",
      " g2D)                                                            \n",
      "                                                                 \n",
      " conv2d_33 (Conv2D)          (None, 4, 4, 8)           584       \n",
      "                                                                 \n",
      " up_sampling2d_15 (UpSamplin  (None, 8, 8, 8)          0         \n",
      " g2D)                                                            \n",
      "                                                                 \n",
      " conv2d_34 (Conv2D)          (None, 8, 8, 8)           584       \n",
      "                                                                 \n",
      " up_sampling2d_16 (UpSamplin  (None, 16, 16, 8)        0         \n",
      " g2D)                                                            \n",
      "                                                                 \n",
      " conv2d_35 (Conv2D)          (None, 14, 14, 16)        1168      \n",
      "                                                                 \n",
      " up_sampling2d_17 (UpSamplin  (None, 28, 28, 16)       0         \n",
      " g2D)                                                            \n",
      "                                                                 \n",
      " conv2d_36 (Conv2D)          (None, 28, 28, 1)         145       \n",
      "                                                                 \n",
      "=================================================================\n",
      "Total params: 4,385\n",
      "Trainable params: 4,385\n",
      "Non-trainable params: 0\n",
      "_________________________________________________________________\n",
      "None\n",
      "Epoch 1/50\n",
      "40/40 [==============================] - 6s 110ms/step - loss: 0.0740\n",
      "Epoch 2/50\n",
      "40/40 [==============================] - 5s 120ms/step - loss: 0.0437\n",
      "Epoch 3/50\n",
      "40/40 [==============================] - 5s 116ms/step - loss: 0.0388\n",
      "Epoch 4/50\n",
      "40/40 [==============================] - 4s 107ms/step - loss: 0.0362\n",
      "Epoch 5/50\n",
      "40/40 [==============================] - 5s 114ms/step - loss: 0.0345\n",
      "Epoch 6/50\n",
      "40/40 [==============================] - 4s 109ms/step - loss: 0.0331\n",
      "Epoch 7/50\n",
      "40/40 [==============================] - 4s 109ms/step - loss: 0.0320\n",
      "Epoch 8/50\n",
      "40/40 [==============================] - 4s 110ms/step - loss: 0.0311\n",
      "Epoch 9/50\n",
      "40/40 [==============================] - 5s 118ms/step - loss: 0.0302\n",
      "Epoch 10/50\n",
      "40/40 [==============================] - 5s 114ms/step - loss: 0.0294\n",
      "Epoch 11/50\n",
      "40/40 [==============================] - 4s 108ms/step - loss: 0.0286\n",
      "Epoch 12/50\n",
      "40/40 [==============================] - 4s 110ms/step - loss: 0.0279\n",
      "Epoch 13/50\n",
      "40/40 [==============================] - 5s 115ms/step - loss: 0.0273\n",
      "Epoch 14/50\n",
      "40/40 [==============================] - 4s 99ms/step - loss: 0.0268\n",
      "Epoch 15/50\n",
      "40/40 [==============================] - 5s 114ms/step - loss: 0.0263\n",
      "Epoch 16/50\n",
      "40/40 [==============================] - 5s 113ms/step - loss: 0.0259\n",
      "Epoch 17/50\n",
      "40/40 [==============================] - 5s 116ms/step - loss: 0.0255\n",
      "Epoch 18/50\n",
      "40/40 [==============================] - 5s 113ms/step - loss: 0.0252\n",
      "Epoch 19/50\n",
      "40/40 [==============================] - 4s 106ms/step - loss: 0.0249\n",
      "Epoch 20/50\n",
      "40/40 [==============================] - 4s 110ms/step - loss: 0.0246\n",
      "Epoch 21/50\n",
      "40/40 [==============================] - 4s 109ms/step - loss: 0.0243\n",
      "Epoch 22/50\n",
      "40/40 [==============================] - 4s 110ms/step - loss: 0.0241\n",
      "Epoch 23/50\n",
      "40/40 [==============================] - 4s 111ms/step - loss: 0.0239\n",
      "Epoch 24/50\n",
      "40/40 [==============================] - 4s 112ms/step - loss: 0.0237\n",
      "Epoch 25/50\n",
      "40/40 [==============================] - 5s 116ms/step - loss: 0.0235\n",
      "Epoch 26/50\n",
      "40/40 [==============================] - 4s 110ms/step - loss: 0.0233\n",
      "Epoch 27/50\n",
      " 9/40 [=====>........................] - ETA: 3s - loss: 0.0230"
     ]
    },
    {
     "ename": "KeyboardInterrupt",
     "evalue": "",
     "output_type": "error",
     "traceback": [
      "\u001b[1;31m---------------------------------------------------------------------------\u001b[0m",
      "\u001b[1;31mKeyboardInterrupt\u001b[0m                         Traceback (most recent call last)",
      "\u001b[1;32m<ipython-input-22-ce7af641feb3>\u001b[0m in \u001b[0;36m<module>\u001b[1;34m\u001b[0m\n\u001b[0;32m     34\u001b[0m     \u001b[0mbatch_size\u001b[0m\u001b[1;33m=\u001b[0m\u001b[1;36m128\u001b[0m\u001b[1;33m,\u001b[0m\u001b[1;33m\u001b[0m\u001b[1;33m\u001b[0m\u001b[0m\n\u001b[0;32m     35\u001b[0m     \u001b[0mepochs\u001b[0m\u001b[1;33m=\u001b[0m\u001b[1;36m50\u001b[0m\u001b[1;33m,\u001b[0m\u001b[1;33m\u001b[0m\u001b[1;33m\u001b[0m\u001b[0m\n\u001b[1;32m---> 36\u001b[1;33m     \u001b[0mverbose\u001b[0m\u001b[1;33m=\u001b[0m\u001b[1;36m1\u001b[0m\u001b[1;33m\u001b[0m\u001b[1;33m\u001b[0m\u001b[0m\n\u001b[0m\u001b[0;32m     37\u001b[0m )\n",
      "\u001b[1;32m~\\Anaconda3\\lib\\site-packages\\keras\\utils\\traceback_utils.py\u001b[0m in \u001b[0;36merror_handler\u001b[1;34m(*args, **kwargs)\u001b[0m\n\u001b[0;32m     63\u001b[0m         \u001b[0mfiltered_tb\u001b[0m \u001b[1;33m=\u001b[0m \u001b[1;32mNone\u001b[0m\u001b[1;33m\u001b[0m\u001b[1;33m\u001b[0m\u001b[0m\n\u001b[0;32m     64\u001b[0m         \u001b[1;32mtry\u001b[0m\u001b[1;33m:\u001b[0m\u001b[1;33m\u001b[0m\u001b[1;33m\u001b[0m\u001b[0m\n\u001b[1;32m---> 65\u001b[1;33m             \u001b[1;32mreturn\u001b[0m \u001b[0mfn\u001b[0m\u001b[1;33m(\u001b[0m\u001b[1;33m*\u001b[0m\u001b[0margs\u001b[0m\u001b[1;33m,\u001b[0m \u001b[1;33m**\u001b[0m\u001b[0mkwargs\u001b[0m\u001b[1;33m)\u001b[0m\u001b[1;33m\u001b[0m\u001b[1;33m\u001b[0m\u001b[0m\n\u001b[0m\u001b[0;32m     66\u001b[0m         \u001b[1;32mexcept\u001b[0m \u001b[0mException\u001b[0m \u001b[1;32mas\u001b[0m \u001b[0me\u001b[0m\u001b[1;33m:\u001b[0m\u001b[1;33m\u001b[0m\u001b[1;33m\u001b[0m\u001b[0m\n\u001b[0;32m     67\u001b[0m             \u001b[0mfiltered_tb\u001b[0m \u001b[1;33m=\u001b[0m \u001b[0m_process_traceback_frames\u001b[0m\u001b[1;33m(\u001b[0m\u001b[0me\u001b[0m\u001b[1;33m.\u001b[0m\u001b[0m__traceback__\u001b[0m\u001b[1;33m)\u001b[0m\u001b[1;33m\u001b[0m\u001b[1;33m\u001b[0m\u001b[0m\n",
      "\u001b[1;32m~\\Anaconda3\\lib\\site-packages\\keras\\engine\\training.py\u001b[0m in \u001b[0;36mfit\u001b[1;34m(self, x, y, batch_size, epochs, verbose, callbacks, validation_split, validation_data, shuffle, class_weight, sample_weight, initial_epoch, steps_per_epoch, validation_steps, validation_batch_size, validation_freq, max_queue_size, workers, use_multiprocessing)\u001b[0m\n\u001b[0;32m   1562\u001b[0m                         ):\n\u001b[0;32m   1563\u001b[0m                             \u001b[0mcallbacks\u001b[0m\u001b[1;33m.\u001b[0m\u001b[0mon_train_batch_begin\u001b[0m\u001b[1;33m(\u001b[0m\u001b[0mstep\u001b[0m\u001b[1;33m)\u001b[0m\u001b[1;33m\u001b[0m\u001b[1;33m\u001b[0m\u001b[0m\n\u001b[1;32m-> 1564\u001b[1;33m                             \u001b[0mtmp_logs\u001b[0m \u001b[1;33m=\u001b[0m \u001b[0mself\u001b[0m\u001b[1;33m.\u001b[0m\u001b[0mtrain_function\u001b[0m\u001b[1;33m(\u001b[0m\u001b[0miterator\u001b[0m\u001b[1;33m)\u001b[0m\u001b[1;33m\u001b[0m\u001b[1;33m\u001b[0m\u001b[0m\n\u001b[0m\u001b[0;32m   1565\u001b[0m                             \u001b[1;32mif\u001b[0m \u001b[0mdata_handler\u001b[0m\u001b[1;33m.\u001b[0m\u001b[0mshould_sync\u001b[0m\u001b[1;33m:\u001b[0m\u001b[1;33m\u001b[0m\u001b[1;33m\u001b[0m\u001b[0m\n\u001b[0;32m   1566\u001b[0m                                 \u001b[0mcontext\u001b[0m\u001b[1;33m.\u001b[0m\u001b[0masync_wait\u001b[0m\u001b[1;33m(\u001b[0m\u001b[1;33m)\u001b[0m\u001b[1;33m\u001b[0m\u001b[1;33m\u001b[0m\u001b[0m\n",
      "\u001b[1;32m~\\Anaconda3\\lib\\site-packages\\tensorflow\\python\\util\\traceback_utils.py\u001b[0m in \u001b[0;36merror_handler\u001b[1;34m(*args, **kwargs)\u001b[0m\n\u001b[0;32m    148\u001b[0m     \u001b[0mfiltered_tb\u001b[0m \u001b[1;33m=\u001b[0m \u001b[1;32mNone\u001b[0m\u001b[1;33m\u001b[0m\u001b[1;33m\u001b[0m\u001b[0m\n\u001b[0;32m    149\u001b[0m     \u001b[1;32mtry\u001b[0m\u001b[1;33m:\u001b[0m\u001b[1;33m\u001b[0m\u001b[1;33m\u001b[0m\u001b[0m\n\u001b[1;32m--> 150\u001b[1;33m       \u001b[1;32mreturn\u001b[0m \u001b[0mfn\u001b[0m\u001b[1;33m(\u001b[0m\u001b[1;33m*\u001b[0m\u001b[0margs\u001b[0m\u001b[1;33m,\u001b[0m \u001b[1;33m**\u001b[0m\u001b[0mkwargs\u001b[0m\u001b[1;33m)\u001b[0m\u001b[1;33m\u001b[0m\u001b[1;33m\u001b[0m\u001b[0m\n\u001b[0m\u001b[0;32m    151\u001b[0m     \u001b[1;32mexcept\u001b[0m \u001b[0mException\u001b[0m \u001b[1;32mas\u001b[0m \u001b[0me\u001b[0m\u001b[1;33m:\u001b[0m\u001b[1;33m\u001b[0m\u001b[1;33m\u001b[0m\u001b[0m\n\u001b[0;32m    152\u001b[0m       \u001b[0mfiltered_tb\u001b[0m \u001b[1;33m=\u001b[0m \u001b[0m_process_traceback_frames\u001b[0m\u001b[1;33m(\u001b[0m\u001b[0me\u001b[0m\u001b[1;33m.\u001b[0m\u001b[0m__traceback__\u001b[0m\u001b[1;33m)\u001b[0m\u001b[1;33m\u001b[0m\u001b[1;33m\u001b[0m\u001b[0m\n",
      "\u001b[1;32m~\\Anaconda3\\lib\\site-packages\\tensorflow\\python\\eager\\def_function.py\u001b[0m in \u001b[0;36m__call__\u001b[1;34m(self, *args, **kwds)\u001b[0m\n\u001b[0;32m    913\u001b[0m \u001b[1;33m\u001b[0m\u001b[0m\n\u001b[0;32m    914\u001b[0m       \u001b[1;32mwith\u001b[0m \u001b[0mOptionalXlaContext\u001b[0m\u001b[1;33m(\u001b[0m\u001b[0mself\u001b[0m\u001b[1;33m.\u001b[0m\u001b[0m_jit_compile\u001b[0m\u001b[1;33m)\u001b[0m\u001b[1;33m:\u001b[0m\u001b[1;33m\u001b[0m\u001b[1;33m\u001b[0m\u001b[0m\n\u001b[1;32m--> 915\u001b[1;33m         \u001b[0mresult\u001b[0m \u001b[1;33m=\u001b[0m \u001b[0mself\u001b[0m\u001b[1;33m.\u001b[0m\u001b[0m_call\u001b[0m\u001b[1;33m(\u001b[0m\u001b[1;33m*\u001b[0m\u001b[0margs\u001b[0m\u001b[1;33m,\u001b[0m \u001b[1;33m**\u001b[0m\u001b[0mkwds\u001b[0m\u001b[1;33m)\u001b[0m\u001b[1;33m\u001b[0m\u001b[1;33m\u001b[0m\u001b[0m\n\u001b[0m\u001b[0;32m    916\u001b[0m \u001b[1;33m\u001b[0m\u001b[0m\n\u001b[0;32m    917\u001b[0m       \u001b[0mnew_tracing_count\u001b[0m \u001b[1;33m=\u001b[0m \u001b[0mself\u001b[0m\u001b[1;33m.\u001b[0m\u001b[0mexperimental_get_tracing_count\u001b[0m\u001b[1;33m(\u001b[0m\u001b[1;33m)\u001b[0m\u001b[1;33m\u001b[0m\u001b[1;33m\u001b[0m\u001b[0m\n",
      "\u001b[1;32m~\\Anaconda3\\lib\\site-packages\\tensorflow\\python\\eager\\def_function.py\u001b[0m in \u001b[0;36m_call\u001b[1;34m(self, *args, **kwds)\u001b[0m\n\u001b[0;32m    945\u001b[0m       \u001b[1;31m# In this case we have created variables on the first call, so we run the\u001b[0m\u001b[1;33m\u001b[0m\u001b[1;33m\u001b[0m\u001b[1;33m\u001b[0m\u001b[0m\n\u001b[0;32m    946\u001b[0m       \u001b[1;31m# defunned version which is guaranteed to never create variables.\u001b[0m\u001b[1;33m\u001b[0m\u001b[1;33m\u001b[0m\u001b[1;33m\u001b[0m\u001b[0m\n\u001b[1;32m--> 947\u001b[1;33m       \u001b[1;32mreturn\u001b[0m \u001b[0mself\u001b[0m\u001b[1;33m.\u001b[0m\u001b[0m_stateless_fn\u001b[0m\u001b[1;33m(\u001b[0m\u001b[1;33m*\u001b[0m\u001b[0margs\u001b[0m\u001b[1;33m,\u001b[0m \u001b[1;33m**\u001b[0m\u001b[0mkwds\u001b[0m\u001b[1;33m)\u001b[0m  \u001b[1;31m# pylint: disable=not-callable\u001b[0m\u001b[1;33m\u001b[0m\u001b[1;33m\u001b[0m\u001b[0m\n\u001b[0m\u001b[0;32m    948\u001b[0m     \u001b[1;32melif\u001b[0m \u001b[0mself\u001b[0m\u001b[1;33m.\u001b[0m\u001b[0m_stateful_fn\u001b[0m \u001b[1;32mis\u001b[0m \u001b[1;32mnot\u001b[0m \u001b[1;32mNone\u001b[0m\u001b[1;33m:\u001b[0m\u001b[1;33m\u001b[0m\u001b[1;33m\u001b[0m\u001b[0m\n\u001b[0;32m    949\u001b[0m       \u001b[1;31m# Release the lock early so that multiple threads can perform the call\u001b[0m\u001b[1;33m\u001b[0m\u001b[1;33m\u001b[0m\u001b[1;33m\u001b[0m\u001b[0m\n",
      "\u001b[1;32m~\\Anaconda3\\lib\\site-packages\\tensorflow\\python\\eager\\function.py\u001b[0m in \u001b[0;36m__call__\u001b[1;34m(self, *args, **kwargs)\u001b[0m\n\u001b[0;32m   2495\u001b[0m        filtered_flat_args) = self._maybe_define_function(args, kwargs)\n\u001b[0;32m   2496\u001b[0m     return graph_function._call_flat(\n\u001b[1;32m-> 2497\u001b[1;33m         filtered_flat_args, captured_inputs=graph_function.captured_inputs)  # pylint: disable=protected-access\n\u001b[0m\u001b[0;32m   2498\u001b[0m \u001b[1;33m\u001b[0m\u001b[0m\n\u001b[0;32m   2499\u001b[0m   \u001b[1;33m@\u001b[0m\u001b[0mproperty\u001b[0m\u001b[1;33m\u001b[0m\u001b[1;33m\u001b[0m\u001b[0m\n",
      "\u001b[1;32m~\\Anaconda3\\lib\\site-packages\\tensorflow\\python\\eager\\function.py\u001b[0m in \u001b[0;36m_call_flat\u001b[1;34m(self, args, captured_inputs, cancellation_manager)\u001b[0m\n\u001b[0;32m   1861\u001b[0m       \u001b[1;31m# No tape is watching; skip to running the function.\u001b[0m\u001b[1;33m\u001b[0m\u001b[1;33m\u001b[0m\u001b[1;33m\u001b[0m\u001b[0m\n\u001b[0;32m   1862\u001b[0m       return self._build_call_outputs(self._inference_function.call(\n\u001b[1;32m-> 1863\u001b[1;33m           ctx, args, cancellation_manager=cancellation_manager))\n\u001b[0m\u001b[0;32m   1864\u001b[0m     forward_backward = self._select_forward_and_backward_functions(\n\u001b[0;32m   1865\u001b[0m         \u001b[0margs\u001b[0m\u001b[1;33m,\u001b[0m\u001b[1;33m\u001b[0m\u001b[1;33m\u001b[0m\u001b[0m\n",
      "\u001b[1;32m~\\Anaconda3\\lib\\site-packages\\tensorflow\\python\\eager\\function.py\u001b[0m in \u001b[0;36mcall\u001b[1;34m(self, ctx, args, cancellation_manager)\u001b[0m\n\u001b[0;32m    502\u001b[0m               \u001b[0minputs\u001b[0m\u001b[1;33m=\u001b[0m\u001b[0margs\u001b[0m\u001b[1;33m,\u001b[0m\u001b[1;33m\u001b[0m\u001b[1;33m\u001b[0m\u001b[0m\n\u001b[0;32m    503\u001b[0m               \u001b[0mattrs\u001b[0m\u001b[1;33m=\u001b[0m\u001b[0mattrs\u001b[0m\u001b[1;33m,\u001b[0m\u001b[1;33m\u001b[0m\u001b[1;33m\u001b[0m\u001b[0m\n\u001b[1;32m--> 504\u001b[1;33m               ctx=ctx)\n\u001b[0m\u001b[0;32m    505\u001b[0m         \u001b[1;32melse\u001b[0m\u001b[1;33m:\u001b[0m\u001b[1;33m\u001b[0m\u001b[1;33m\u001b[0m\u001b[0m\n\u001b[0;32m    506\u001b[0m           outputs = execute.execute_with_cancellation(\n",
      "\u001b[1;32m~\\Anaconda3\\lib\\site-packages\\tensorflow\\python\\eager\\execute.py\u001b[0m in \u001b[0;36mquick_execute\u001b[1;34m(op_name, num_outputs, inputs, attrs, ctx, name)\u001b[0m\n\u001b[0;32m     53\u001b[0m     \u001b[0mctx\u001b[0m\u001b[1;33m.\u001b[0m\u001b[0mensure_initialized\u001b[0m\u001b[1;33m(\u001b[0m\u001b[1;33m)\u001b[0m\u001b[1;33m\u001b[0m\u001b[1;33m\u001b[0m\u001b[0m\n\u001b[0;32m     54\u001b[0m     tensors = pywrap_tfe.TFE_Py_Execute(ctx._handle, device_name, op_name,\n\u001b[1;32m---> 55\u001b[1;33m                                         inputs, attrs, num_outputs)\n\u001b[0m\u001b[0;32m     56\u001b[0m   \u001b[1;32mexcept\u001b[0m \u001b[0mcore\u001b[0m\u001b[1;33m.\u001b[0m\u001b[0m_NotOkStatusException\u001b[0m \u001b[1;32mas\u001b[0m \u001b[0me\u001b[0m\u001b[1;33m:\u001b[0m\u001b[1;33m\u001b[0m\u001b[1;33m\u001b[0m\u001b[0m\n\u001b[0;32m     57\u001b[0m     \u001b[1;32mif\u001b[0m \u001b[0mname\u001b[0m \u001b[1;32mis\u001b[0m \u001b[1;32mnot\u001b[0m \u001b[1;32mNone\u001b[0m\u001b[1;33m:\u001b[0m\u001b[1;33m\u001b[0m\u001b[1;33m\u001b[0m\u001b[0m\n",
      "\u001b[1;31mKeyboardInterrupt\u001b[0m: "
     ]
    }
   ],
   "source": [
    "fashion_mnist = tf.keras.datasets.fashion_mnist\n",
    "(train_images, train_labels), (test_images, test_labels) = fashion_mnist.load_data()\n",
    "\n",
    "train_images = train_images[:5000].astype('float32')/255\n",
    "train_labels = train_labels[:5000].astype('float32')/255\n",
    "\n",
    "import keras\n",
    "from keras import layers\n",
    "\n",
    "input_img = keras.Input(shape=(28, 28, 1))\n",
    "\n",
    "x = layers.Conv2D(16, (3, 3), activation='linear', padding='same')(input_img)\n",
    "x = layers.MaxPooling2D((2, 2), padding='same')(x)\n",
    "x = layers.Conv2D(8, (3, 3), activation='tanh', padding='same')(x)\n",
    "x = layers.MaxPooling2D((2, 2), padding='same')(x)\n",
    "x = layers.Conv2D(8, (3, 3), activation='tanh', padding='same')(x)\n",
    "encoded = layers.MaxPooling2D((2, 2), padding='same')(x)\n",
    "\n",
    "x = layers.Conv2D(8, (3, 3), activation='tanh', padding='same')(encoded)\n",
    "x = layers.UpSampling2D((2, 2))(x)\n",
    "x = layers.Conv2D(8, (3, 3), activation='tanh', padding='same')(x)\n",
    "x = layers.UpSampling2D((2, 2))(x)\n",
    "x = layers.Conv2D(16, (3, 3), activation='linear')(x)\n",
    "x = layers.UpSampling2D((2, 2))(x)\n",
    "decoded = layers.Conv2D(1, (3, 3), activation='linear', padding='same')(x)\n",
    "\n",
    "autoencoder = keras.Model(input_img, decoded)\n",
    "autoencoder.compile(optimizer='adam', loss='mse')\n",
    "\n",
    "print(autoencoder.summary())\n",
    "\n",
    "autoencoder.fit(\n",
    "    train_images, train_images,\n",
    "    batch_size=128,\n",
    "    epochs=50,\n",
    "    verbose=1\n",
    ")"
   ]
  },
  {
   "cell_type": "markdown",
   "metadata": {
    "id": "29wDJW-Yx9xD"
   },
   "source": [
    "\n",
    "## Subtask 4\n",
    "\n",
    "Extract the decoder from the autoencoder of subtask 1-3 and generate new images based on randomly generated latent features. Plot generated images.\n",
    "\n"
   ]
  },
  {
   "cell_type": "code",
   "execution_count": 38,
   "metadata": {
    "id": "S5N5RytNyCdk"
   },
   "outputs": [
    {
     "name": "stdout",
     "output_type": "stream",
     "text": [
      "Model: \"dec\"\n",
      "_________________________________________________________________\n",
      " Layer (type)                Output Shape              Param #   \n",
      "=================================================================\n",
      " input_23 (InputLayer)       [(None, 2)]               0         \n",
      "                                                                 \n",
      " dense_28 (Dense)            (None, 784)               2352      \n",
      "                                                                 \n",
      "=================================================================\n",
      "Total params: 2,352\n",
      "Trainable params: 2,352\n",
      "Non-trainable params: 0\n",
      "_________________________________________________________________\n"
     ]
    }
   ],
   "source": [
    "dec_model3 = tf.keras.models.Model(name='dec',inputs=model3.layers[1].input, outputs=model3.output)\n",
    "dec_model3.summary()"
   ]
  },
  {
   "cell_type": "code",
   "execution_count": 39,
   "metadata": {},
   "outputs": [
    {
     "name": "stdout",
     "output_type": "stream",
     "text": [
      "Model: \"dec4\"\n",
      "_________________________________________________________________\n",
      " Layer (type)                Output Shape              Param #   \n",
      "=================================================================\n",
      " input_24 (InputLayer)       [(None, 10)]              0         \n",
      "                                                                 \n",
      " dense_38 (Dense)            (None, 2)                 22        \n",
      "                                                                 \n",
      " dense_39 (Dense)            (None, 10)                30        \n",
      "                                                                 \n",
      " dense_40 (Dense)            (None, 784)               8624      \n",
      "                                                                 \n",
      "=================================================================\n",
      "Total params: 8,676\n",
      "Trainable params: 8,676\n",
      "Non-trainable params: 0\n",
      "_________________________________________________________________\n"
     ]
    }
   ],
   "source": [
    "dec_model4 = tf.keras.models.Model(name='dec4',inputs=model4.layers[1].input, outputs=model4.output)\n",
    "dec_model4.summary()"
   ]
  }
 ],
 "metadata": {
  "colab": {
   "provenance": []
  },
  "kernelspec": {
   "display_name": "Python 3",
   "language": "python",
   "name": "python3"
  },
  "language_info": {
   "codemirror_mode": {
    "name": "ipython",
    "version": 3
   },
   "file_extension": ".py",
   "mimetype": "text/x-python",
   "name": "python",
   "nbconvert_exporter": "python",
   "pygments_lexer": "ipython3",
   "version": "3.7.4"
  }
 },
 "nbformat": 4,
 "nbformat_minor": 1
}
