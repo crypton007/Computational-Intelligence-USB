{
 "cells": [
  {
   "cell_type": "markdown",
   "metadata": {
    "id": "hfI6N1bII-gE"
   },
   "source": [
    "# Nature inspired optimization\n",
    "\n",
    "## Task 1 - Genetic Algorithm\n",
    "\n",
    "Write genetic algorithm in Python and solve the Knapsack problem.\n"
   ]
  },
  {
   "cell_type": "markdown",
   "metadata": {
    "id": "29dDMiuyJ2sL"
   },
   "source": [
    "Weights in Kg and costs in EUR for a set of 64 items are given. The goal of the optimization algorithm is to select items to knapsack so that the cost of items reaches the maximum and weight of items do not exceed the knapsack weight limit. \n",
    "\n",
    "After writing your algorithm change weights and costs to test the algorithm again."
   ]
  },
  {
   "cell_type": "code",
   "execution_count": 2,
   "metadata": {
    "colab": {
     "base_uri": "https://localhost:8080/"
    },
    "id": "VD3fMOpLLiHK",
    "outputId": "413580b9-56c1-4ced-82ff-49f5f939aac9"
   },
   "outputs": [
    {
     "name": "stdout",
     "output_type": "stream",
     "text": [
      "weight -> cost  | cost per kilo\n",
      " 2.3kg ->    6€ | 2.6\n",
      " 8.1kg ->   17€ | 2.1\n",
      " 6.0kg ->   10€ | 1.7\n",
      " 4.2kg ->   26€ | 6.2\n",
      " 1.3kg ->   19€ | 14.6\n",
      " 2.9kg ->   81€ | 27.9\n",
      " 7.0kg ->   67€ | 9.6\n",
      " 7.9kg ->   36€ | 4.6\n",
      " 3.6kg ->   21€ | 5.8\n",
      " 5.0kg ->   33€ | 6.6\n",
      " 3.1kg ->   13€ | 4.2\n",
      " 5.0kg ->    5€ | 1.0\n",
      " 3.4kg ->  172€ | 50.6\n",
      " 5.3kg ->  138€ | 26.0\n",
      " 0.8kg ->  185€ | 231.2\n",
      " 6.9kg ->   27€ | 3.9\n",
      " 9.8kg ->    4€ | 0.4\n",
      " 4.4kg ->    3€ | 0.7\n",
      " 5.4kg ->   11€ | 2.0\n",
      " 7.5kg ->   19€ | 2.5\n",
      " 4.6kg ->   95€ | 20.7\n",
      " 0.3kg ->   90€ | 300.0\n",
      " 9.2kg ->   24€ | 2.6\n",
      " 8.8kg ->   20€ | 2.3\n",
      " 2.2kg ->   28€ | 12.7\n",
      " 3.3kg ->   19€ | 5.8\n",
      " 9.9kg ->    7€ | 0.7\n",
      " 7.6kg ->   28€ | 3.7\n",
      " 5.9kg ->   14€ | 2.4\n",
      " 4.2kg ->   43€ | 10.2\n",
      " 4.9kg ->   40€ | 8.2\n",
      " 5.8kg ->   12€ | 2.1\n",
      " 4.4kg ->   25€ | 5.7\n",
      " 2.9kg ->   37€ | 12.8\n",
      " 0.1kg ->   25€ | 250.0\n",
      " 2.4kg ->   16€ | 6.7\n",
      " 5.6kg ->   85€ | 15.2\n",
      " 7.8kg ->   20€ | 2.6\n",
      " 7.0kg ->   15€ | 2.1\n",
      " 7.5kg ->   59€ | 7.9\n",
      " 7.3kg ->   72€ | 9.9\n",
      " 7.4kg ->  168€ | 22.7\n",
      " 6.4kg ->   30€ | 4.7\n",
      " 1.6kg ->   57€ | 35.6\n",
      " 6.8kg ->   49€ | 7.2\n",
      " 4.0kg ->   66€ | 16.5\n",
      " 4.6kg ->   75€ | 16.3\n",
      " 4.1kg ->   23€ | 5.6\n",
      " 0.5kg ->   79€ | 158.0\n",
      " 6.3kg ->   20€ | 3.2\n",
      " 5.2kg ->  104€ | 20.0\n",
      " 1.5kg ->    9€ | 6.0\n",
      " 9.7kg ->   32€ | 3.3\n",
      " 1.6kg ->   46€ | 28.8\n",
      " 2.6kg ->   47€ | 18.1\n",
      " 1.3kg ->   55€ | 42.3\n",
      " 6.5kg ->   21€ | 3.2\n",
      " 2.6kg ->   18€ | 6.9\n",
      " 7.8kg ->   23€ | 2.9\n",
      " 6.3kg ->   44€ | 7.0\n",
      " 8.4kg ->   61€ | 7.3\n",
      " 9.4kg ->    8€ | 0.9\n",
      " 1.4kg ->   42€ | 30.0\n",
      " 7.5kg ->    1€ | 0.1\n"
     ]
    }
   ],
   "source": [
    "# Example\n",
    "import numpy as np\n",
    "import random\n",
    "\n",
    "# 64 items and their weights.\n",
    "# Replace the weights with your own set of weights\n",
    "# \n",
    "weights_of_items = np.array([\n",
    "    2.3, 8.1, 6., 4.2, 1.3, 2.9, 7., 7.9,\n",
    "    3.6, 5., 3.1, 5., 3.4, 5.3, 0.8, 6.9,\n",
    "    9.8, 4.4, 5.4, 7.5, 4.6, 0.3, 9.2, 8.8,\n",
    "    2.2, 3.3, 9.9, 7.6, 5.9, 4.2, 4.9, 5.8,\n",
    "    4.4, 2.9, 0.1, 2.4, 5.6, 7.8, 7., 7.5,\n",
    "    7.3, 7.4, 6.4, 1.6, 6.8, 4., 4.6, 4.1,\n",
    "    0.5, 6.3, 5.2, 1.5, 9.7, 1.6, 2.6, 1.3,\n",
    "    6.5, 2.6, 7.8, 6.3, 8.4, 9.4, 1.4, 7.5])\n",
    "#\n",
    "#  64 costs corresponding to weights\n",
    "#  Replace the weights with your own set of weights\n",
    "costs_of_items = [ \n",
    "           6.,  17.,  10., 26.,  19.,  81.,  67., 36.,\n",
    "          21.,  33.,  13.,  5., 172., 138., 185., 27.,\n",
    "           4.,   3.,  11., 19.,  95.,  90.,  24., 20.,\n",
    "          28.,  19.,   7., 28.,  14.,  43.,  40., 12.,\n",
    "          25.,  37.,  25., 16.,  85.,  20.,  15., 59.,\n",
    "          72., 168.,  30., 57.,  49.,  66.,  75., 23.,\n",
    "          79.,  20., 104.,  9.,  32.,  46.,  47., 55.,\n",
    "          21.,  18.,  23., 44.,  61.,   8.,  42.,  1.]\n",
    "#\n",
    "# Knapsack weight limit \n",
    "# \n",
    "knapsack_weight_limit = 100\n",
    "#\n",
    "print(\"weight -> cost  | cost per kilo\") \n",
    "for i in range(len(weights_of_items)):\n",
    "  print(\"{:-4.1f}kg -> {:-4.0f}€ | {:.1f}\".format(\n",
    "      weights_of_items[i], costs_of_items[i], \n",
    "        costs_of_items[i]/weights_of_items[i]))\n"
   ]
  },
  {
   "cell_type": "markdown",
   "metadata": {
    "id": "xhwT3O6SwOjU"
   },
   "source": [
    "### Parameters of the algorithm\n",
    "\n",
    "\n",
    "\n",
    "*   **chromosome_size** - dimension of the chromosome vector. We have 64 items so that the chromosome_size is equal to 64 \n",
    "*   **population_size** - number of individuals in the population\n",
    "*   **parent_count** - number of parents that are selected from the population on the base of the roulette selection. The parent count must be less than population size.\n",
    "*   **probability_of_ones_in_a_new_chromosome** - probability which is used for initial population generation. It is probability of one in the initial chromosome. High values may lead to generation of many individuals with fitness equal to zero. This parameter is specific for our method of generation the initial chromosome. This parameter is meaningless if you choice another method.\n",
    "* **probability_of_crossover** - probability of crossover\n",
    "* **probability_of_mutation** - probability of mutation. We recommend to start at the value of 1/ga_chromosome_size and increase later\n",
    "\n",
    "\n",
    "\n",
    "\n",
    "\n",
    "\n",
    "\n"
   ]
  },
  {
   "cell_type": "code",
   "execution_count": 3,
   "metadata": {
    "id": "bTETN6YZxAvj"
   },
   "outputs": [],
   "source": [
    "# Example\n",
    "\n",
    "# Genetic algorithm parameters\n",
    "ga_chromosome_size = len(weights_of_items)\n",
    "ga_probability_of_ones_in_a_new_chromosome = 0.1\n",
    "ga_probability_of_crossover = 0.3\n",
    "ga_probability_of_mutation  = 1.0 / ga_chromosome_size\n",
    "ga_population_size = 100\n",
    "ga_parent_count = ga_population_size * 3 // 4 # 3/4 of the population size\n",
    "ga_generations = 100"
   ]
  },
  {
   "cell_type": "markdown",
   "metadata": {
    "id": "YwW-niumx5wN"
   },
   "source": [
    "### Algorithm components\n",
    "\n",
    "#### Fitness function definition\n",
    "\n",
    "Let ${\\bf w}$ is the weight vector, ${\\bf c}$ is the cost vector, ${\\bf g}$ is a chromosome and L is the weight limit, we define the fitness function as \n",
    "\n",
    "$$\\text{fitness}({\\bf g}) = \n",
    "\\begin{cases}\n",
    "  0 & \\text{iff} \\quad \\sum_{i=0}^{N-1}w_ig_i > L \\\\\n",
    "  \\sum_{i=0}^{N-1}c_ig_i & \\text{otherwise}\n",
    "\\end{cases}$$ \n",
    "\n",
    "Define the fitness function\n",
    "```python\n",
    "def fitness(w, c, L, g):\n",
    "  return f #fitness\n",
    "```\n"
   ]
  },
  {
   "cell_type": "code",
   "execution_count": 4,
   "metadata": {
    "id": "91ZL7H_Qx-PY"
   },
   "outputs": [],
   "source": [
    "Write your code here"
   ]
  },
  {
   "cell_type": "markdown",
   "metadata": {
    "id": "jDe93NMB5kzO"
   },
   "source": [
    "#### Chromosome Initialization\n",
    "\n",
    "Let $p$ is the initialization probability for 1 in a new chromosome, $\\psi$ is a random value with the unique distribution in the range of $<0,1>$ and ${\\bf g}$ is a new chromosome then\n",
    "\n",
    "$$g_i = \n",
    "\\begin{cases}\n",
    "  1 &  \\text{iff} \\quad \\psi < p \\\\\n",
    "  0 &  \\text{otherwise}\n",
    "\\end{cases}$$ \n",
    "\n",
    "for all $i \\in <0, N-1>$ where $N=|{\\bf g}|$.\n",
    "\n",
    "The $p$ should be sufficiently low to generate a valid solution with non-zero fitness. Check the validity of the solution after chromosome creation and recreate it if the total weight of the knapsack is above the weight limit $L$. More formally for a valid solution\n",
    "\n",
    "$$\\sum_{i=0}^{N-1}w_ig_i < L$$\n",
    "\n",
    "where ${\\bf w}$ is the weight vector. \n",
    "\n",
    "This is recommended, but not mandatory way how to initialize a new chromosome. Be aware that producing non-valid solutions with zero fitness at start may disturb the algorithm.\n",
    "\n",
    "Define python function\n",
    "```python\n",
    "def generate_chromosome(N, w, L, p):\n",
    "  pass\n",
    "```\n"
   ]
  },
  {
   "cell_type": "code",
   "execution_count": 5,
   "metadata": {
    "id": "tswAvgaw5811"
   },
   "outputs": [],
   "source": [
    "Write your code here"
   ]
  },
  {
   "cell_type": "markdown",
   "metadata": {
    "id": "LrdcJ7yZ3wVS"
   },
   "source": [
    "#### Initialize the population\n",
    "\n",
    "The population is represented by a numpy matrix. Rows of the matrix correspond to individuals, columns corresponds to genes in the chromosome. Our matrix has 64 columns because we have 64 items.\n",
    "\n",
    "Call ```generate_chromosome()``` function for each row of the matrix.\n",
    "\n",
    "Define python function\n",
    "\n",
    "```python\n",
    "def initialize_population(population_size,\n",
    "         chromosome_size, weights, weight_limit,\n",
    "         probability_of_ones_in_a_new_chromosome):\n",
    "         ...\n",
    "         return population\n",
    "```        "
   ]
  },
  {
   "cell_type": "code",
   "execution_count": 6,
   "metadata": {
    "id": "ZKMz1ruX_bmt"
   },
   "outputs": [],
   "source": [
    "Write your code here"
   ]
  },
  {
   "cell_type": "markdown",
   "metadata": {
    "id": "mdhnoIMqBzyO"
   },
   "source": [
    "#### Evaluate fitness\n",
    "\n",
    "Apply fitness function to all rows of the population matrix. The result is a vector of fitness values for all individuals in the population. The vector has the same size as the size of the population.\n",
    "\n",
    "```\n",
    "def evaluate_fitness(population, weights, costs, weight_limit)\n",
    "  pass\n",
    "```\n"
   ]
  },
  {
   "cell_type": "code",
   "execution_count": 7,
   "metadata": {
    "id": "2JQ23hxoCOpq"
   },
   "outputs": [],
   "source": [
    "Write your code here"
   ]
  },
  {
   "cell_type": "markdown",
   "metadata": {
    "id": "r86kz1V8YIR_"
   },
   "source": [
    "#### Roulette Selection\n",
    "\n",
    "Implement roulette selection. First create a \"roulette\", i.e. an array of the same size as the population size $N$ where each element $r_i$ is equal to\n",
    "\n",
    "$$r_i = \\frac{f_j}{F} + r_{i-1}; r_{-1}=0, F = \\sum_{k=0}^{N-1}f_k$$\n",
    "\n",
    "Generate a random number $\\psi \\in <0,1>$ (uniform distribution) and find the index $i$ in the ${\\bf r}$ array so that $r_{i-1} < \\psi <= r_i$.\n",
    "\n",
    "Hint: use ```numpy.searchsorted``` function. What is the complexity of the search with respect to the population size ?\n"
   ]
  },
  {
   "cell_type": "code",
   "execution_count": 8,
   "metadata": {
    "id": "xylRPzMUYepq"
   },
   "outputs": [],
   "source": [
    "Write your code here"
   ]
  },
  {
   "cell_type": "markdown",
   "metadata": {
    "id": "SeQJSHSWUR9x"
   },
   "source": [
    "#### Crossover\n",
    "\n",
    "Let ${\\bf a}$ is a chromosome, ${\\bf b}$ is a chromosome, $p$ is a probability of crossover and $N = |{\\bf a}| = |{\\bf b}|$. Generate randomly an index $i$ in the range of $i \\in <0, N - 1>$. Further generate a real random number $\\psi \\in <0,1>$ from uniform distribution. Create a new chromosome ${\\bf r}$ according to \n",
    "\n",
    "$$\n",
    "r_k = \n",
    "\\begin{cases}\n",
    "    b_k & k <= i \\land \\psi < p\\\\\n",
    "    a_k & \\text{otherwise}\n",
    "\\end{cases}     \n",
    "$$ \n",
    "\n",
    "for all $k$ in the range of $<0, N-1>$\n",
    "\n",
    "Define python function\n",
    "```python\n",
    "define crossover(a, b, p):\n",
    "  ...\n",
    "  return r\n",
    "```  \n"
   ]
  },
  {
   "cell_type": "code",
   "execution_count": 9,
   "metadata": {
    "id": "bNFCL5heUnd8"
   },
   "outputs": [],
   "source": [
    "Write your code here"
   ]
  },
  {
   "cell_type": "markdown",
   "metadata": {
    "id": "VVmTQ47lt6Kd"
   },
   "source": [
    "#### Mutation\n",
    "\n",
    "Let ${\\bf g}$ is a chromosome and $N =|{\\bf g}|$ is the length of the chromosome. For each index $i \\in <0, N-1>$ generate a real random number $\\psi$ from uniform distribution and create a new chromosome ${\\bf r}$ according to\n",
    "$$\n",
    "r_i=\n",
    "\\begin{cases}\n",
    "0 & \\quad g_i = 1 \\land \\psi < p \\\\\n",
    "1 & \\quad g_i = 0 \\land \\psi < p \\\\\n",
    "g_i & \\text{otherwise}\n",
    "\\end{cases}\n",
    "$$ \n",
    "\n",
    "for all indexes $i \\in <0, N-1>$. \n",
    "\n",
    "Define a python function\n",
    "```python\n",
    "def mutation(g, p):\n",
    "    ...\n",
    "    return m\n",
    "```    "
   ]
  },
  {
   "cell_type": "code",
   "execution_count": 10,
   "metadata": {
    "id": "B6FtgkSAI4Qn"
   },
   "outputs": [],
   "source": [
    "Write your code here"
   ]
  },
  {
   "cell_type": "markdown",
   "metadata": {
    "id": "uiffO4xRAD4Y"
   },
   "source": [
    "### Genetic Algorithm\n",
    "\n",
    "Implement the genetic algorithm according to following pseudocode\n",
    "\n",
    "```pseudocode\n",
    "init_population\n",
    "evaluate_fitness\n",
    "for i in range(generations):\n",
    "    parents <- roulette_selection (parent_size)\n",
    "    copy parents to new population\n",
    "    fill new population by chromosomes obtained\n",
    "       by crossover followed by mutation to ensure\n",
    "       that new population will reach \n",
    "       the population_size\n",
    "    evaluate_fitness\n",
    "```  \n",
    "\n",
    "In the loop collect history as the best solution (highest fitness), the total weight of that solution and other useful information as generation number, minimum weight, maximum weight and minimum cost."
   ]
  },
  {
   "cell_type": "code",
   "execution_count": 11,
   "metadata": {
    "id": "VhqrplUa_4RG"
   },
   "outputs": [],
   "source": [
    "Write your code here"
   ]
  },
  {
   "cell_type": "markdown",
   "metadata": {
    "id": "Ju-MJosWZiVP"
   },
   "source": [
    "#### Print following data\n",
    "\n",
    "```generation, best cost, min_cost, best weight, min_weight, max weight``` for all generations.\n",
    "\n",
    "#### Plot following graphs\n",
    "\n",
    "1.  **cost, min_cost** with respect to generation number\n",
    "2.   **max weight, best weight, min_weight** with respect to generation number\n"
   ]
  },
  {
   "cell_type": "code",
   "execution_count": 12,
   "metadata": {
    "colab": {
     "base_uri": "https://localhost:8080/",
     "height": 1000
    },
    "id": "0qsmKFd0ajlM",
    "outputId": "ccfd1933-6208-425b-b7a7-239bbfe8b5a1"
   },
   "outputs": [
    {
     "name": "stdout",
     "output_type": "stream",
     "text": [
      "      cost   weight    cost  weight  weight\n",
      "   #  best     best     min     max     min\n",
      "   0  738.0    68.1     0.0    71.0     0.0\n",
      "   1  787.0    63.0    86.0    83.1    14.1\n",
      "   2  854.0    70.7   113.0    72.6    16.2\n",
      "   3  861.0    84.4   286.0    84.4    16.2\n",
      "   4  861.0    84.4   293.0    84.4    16.2\n",
      "   5  912.0    88.8   191.0    88.8    16.2\n",
      "   6  966.0    98.4   332.0    98.4    36.0\n",
      "   7  995.0    85.7     0.0   109.8    36.0\n",
      "   8  995.0    85.7   425.0    98.4    37.2\n",
      "   9  995.0    85.7   531.0    98.7    40.3\n",
      "  10  995.0    85.7   455.0    98.4    34.9\n",
      "  11 1041.0    76.9     0.0   106.4    40.3\n",
      "  12 1041.0    76.9     0.0   103.3    49.0\n",
      "  13 1058.0    84.0     0.0   102.8    49.0\n",
      "  14 1139.0    83.0     0.0   100.1    36.4\n",
      "  15 1099.0    90.9   613.0    99.8    54.0\n",
      "  16 1124.0    93.9     0.0   105.7    54.0\n",
      "  17 1124.0    93.9     0.0   103.4    54.0\n",
      "  18 1115.0    85.0     0.0   106.0    59.7\n",
      "  19 1083.0    88.4   680.0    99.9    59.7\n",
      "  20 1083.0    88.4     0.0   102.6    56.5\n",
      "  21 1104.0    92.3     0.0   104.7    56.5\n",
      "  22 1110.0    96.9     0.0   105.9    60.6\n",
      "  23 1140.0    89.3     0.0   129.9    63.0\n",
      "  24 1110.0    94.6     0.0   104.7    63.0\n",
      "  25 1237.0    99.2     0.0   101.5    61.7\n",
      "  26 1237.0    99.2   712.0    99.3    63.0\n",
      "  27 1237.0    99.2     0.0   103.6    63.6\n",
      "  28 1219.0    93.9     0.0   103.1    66.9\n",
      "  29 1265.0    97.6     0.0   100.3    64.6\n",
      "  30 1240.0    97.5   712.0    97.5    62.1\n",
      "  31 1265.0    95.5     0.0   108.1    66.7\n",
      "  32 1364.0    90.4     0.0   105.9    66.7\n",
      "  33 1265.0    95.5     0.0   108.2    72.0\n",
      "  34 1265.0    95.5     0.0   108.7    72.0\n",
      "  35 1287.0    98.8     0.0   104.3    72.0\n",
      "  36 1245.0    98.1     0.0   109.2    69.2\n",
      "  37 1242.0    87.8     0.0   122.1    69.2\n",
      "  38 1234.0    97.7     0.0   105.9    69.2\n",
      "  39 1261.0    95.3     0.0   118.5    69.2\n",
      "  40 1391.0    97.3     0.0   112.5    61.1\n",
      "  41 1276.0    99.2     0.0   103.5    61.2\n",
      "  42 1276.0    99.2     0.0   108.1    69.2\n",
      "  43 1278.0    93.9     0.0   112.0    69.2\n",
      "  44 1278.0    93.9     0.0   113.1    69.3\n",
      "  45 1391.0    97.3     0.0   123.3    75.1\n",
      "  46 1391.0    97.3     0.0   108.8    75.1\n",
      "  47 1391.0    97.3     0.0   109.4    72.8\n",
      "  48 1481.0    97.6     0.0   106.6    75.1\n",
      "  49 1481.0    97.6     0.0   105.4    75.0\n",
      "  50 1481.0    97.6     0.0   113.5    64.8\n",
      "  51 1481.0    97.6     0.0   106.9    75.0\n",
      "  52 1481.0    97.6     0.0   113.7    75.0\n",
      "  53 1333.0    99.6     0.0   117.4    75.0\n",
      "  54 1299.0    99.5     0.0   101.3    75.0\n",
      "  55 1293.0    85.4     0.0   103.6    70.5\n",
      "  56 1341.0    91.9     0.0   116.6    61.0\n",
      "  57 1341.0    91.9     0.0   117.3    75.0\n",
      "  58 1392.0    97.8     0.0   107.6    72.8\n",
      "  59 1445.0    97.1     0.0   111.2    75.0\n",
      "  60 1445.0    97.1     0.0   102.9    75.0\n",
      "  61 1428.0    96.8     0.0   110.1    75.1\n",
      "  62 1428.0    96.8     0.0   109.9    75.1\n",
      "  63 1466.0    85.0     0.0   115.0    75.1\n",
      "  64 1428.0    96.8     0.0   106.8    75.1\n",
      "  65 1428.0    96.8     0.0   111.9    75.1\n",
      "  66 1428.0    96.8     0.0   119.6    67.9\n",
      "  67 1428.0    96.8     0.0   112.9    68.8\n",
      "  68 1450.0    91.9     0.0   129.0    68.3\n",
      "  69 1450.0    91.9     0.0   114.3    68.3\n",
      "  70 1450.0    91.9     0.0   105.7    68.3\n",
      "  71 1450.0    91.9     0.0   103.7    66.0\n",
      "  72 1408.0    91.6     0.0   107.3    64.2\n",
      "  73 1389.0    88.3     0.0   114.1    64.2\n",
      "  74 1389.0    88.3     0.0   120.7    75.4\n",
      "  75 1389.0    95.8     0.0   109.5    81.4\n",
      "  76 1389.0    95.8     0.0   107.7    81.4\n",
      "  77 1430.0    93.2     0.0   114.4    77.2\n",
      "  78 1430.0    93.2     0.0   120.2    74.4\n",
      "  79 1430.0    93.2     0.0   113.4    77.0\n",
      "  80 1430.0    93.2     0.0   120.2    77.2\n",
      "  81 1430.0    93.2     0.0   106.1    77.2\n",
      "  82 1430.0    93.2     0.0   110.2    77.2\n",
      "  83 1385.0    97.1     0.0   106.8    81.3\n",
      "  84 1412.0    91.3     0.0   111.5    81.3\n",
      "  85 1388.0    99.8     0.0   112.5    83.3\n",
      "  86 1385.0    97.1     0.0   114.2    82.4\n",
      "  87 1385.0    97.1     0.0   113.0    81.7\n",
      "  88 1448.0    98.7     0.0   113.1    81.7\n",
      "  89 1429.0    95.7     0.0   103.2    81.7\n",
      "  90 1429.0    95.7     0.0   111.2    81.7\n",
      "  91 1429.0    95.7     0.0   118.6    81.7\n",
      "  92 1431.0    98.7     0.0   116.8    81.7\n",
      "  93 1431.0    98.7     0.0   116.3    75.1\n",
      "  94 1497.0    97.6     0.0   113.6    75.8\n",
      "  95 1484.0    94.0     0.0   113.7    70.0\n",
      "  96 1484.0    94.0     0.0   110.0    70.0\n",
      "  97 1484.0    94.0     0.0   114.2    78.7\n",
      "  98 1538.0    99.4     0.0   114.6    78.8\n",
      "  99 1484.0    94.0     0.0   108.4    75.5\n",
      " 100 1484.0    94.0     0.0   109.1    79.3\n"
     ]
    },
    {
     "data": {
      "image/png": "[encoded data removed]",
      "text/plain": [
       "<Figure size 432x288 with 1 Axes>"
      ]
     },
     "metadata": {
      "needs_background": "light"
     },
     "output_type": "display_data"
    },
    {
     "data": {
      "image/png": "[encoded data removed]",
      "text/plain": [
       "<Figure size 432x288 with 1 Axes>"
      ]
     },
     "metadata": {
      "needs_background": "light"
     },
     "output_type": "display_data"
    }
   ],
   "source": [
    "Write your code here"
   ]
  },
  {
   "cell_type": "markdown",
   "metadata": {
    "id": "WVW-XgsmFybg"
   },
   "source": [
    "# Task 2 Particle Swarm optimization\n",
    "\n",
    "Implement Particle swarm optimization algorithm and find the global minimum of the Rosenbrock's banana function."
   ]
  },
  {
   "cell_type": "code",
   "execution_count": 13,
   "metadata": {
    "id": "OvH_8HZbI2pv"
   },
   "outputs": [],
   "source": [
    "# Example\n",
    "def banana(xx):\n",
    "  x = xx[0]\n",
    "  y = xx[1]\n",
    "  return x**4 - 2*y*x**2 + y**2 + x**2 - 2*x + 5\n",
    "\n",
    "# limits for searching solution\n",
    "lower_bound = [-5, -5]\n",
    "upper_bound = [5, 5]\n"
   ]
  },
  {
   "cell_type": "markdown",
   "metadata": {
    "id": "O8MjmWeEIpa2"
   },
   "source": [
    "Define python function\n",
    "```python\n",
    "def lab6-pso(objective, l_bound, u_bound,\n",
    "       swarmsize, dimension, \n",
    "       iterations=100, omega=0.5, phip=0.5, phig=0.5):\n",
    "       return [best_global, obj_global]\n",
    "```\n",
    "Function arguments:\n",
    "\n",
    "*   **objective** is the objective function, i.e. the banana function for us (see above)\n",
    "*   **l_bound** - lower bound of the area for searching a solution\n",
    "*   **u_bound** - upper bound of the area for searching a solution\n",
    "*   **swarmsize** - number of particles in the swarm\n",
    "*   **dimension** - the dimension of the searching space. Banana function is a function of two variables so that each particle is a two dimensional vector [x, y].\n",
    "*   **interations** - a stop criterion of the algorithm, which will stop the algorithm after certain number of iterations \n",
    "*   **omega** - $\\omega$ parameter of the algorithm\n",
    "*   **phip** - $\\phi_p$ parameter of the algorithm \n",
    "*   **phig** - $\\phi_g$ parameter of the algorithm\n",
    "\n",
    "### PSO Algorithm\n",
    "\n",
    "1. **Initialize the swarm.** The swarm is an numpy array of shape ( $N_S, N_D$ ) of np.float64 data type. $N_S$ is swarmsize and $N_D = 2$ is the dimension of the position of the particle. Position of each particle is initialized randomly from uniform distribution within the area given by lower and upper bounds, i.e. a position of the particle (solution) is a vector $[x, y]$ where $x \\in <-5.0,5.0>$ and $y \\in <-5.0, 5.0>$.\n",
    "\n",
    "2. **Set best_local variable for each particle.**\n",
    "In this place it is a simple deep copy  of the swarm numpy matrix (swarm.copy()). \n",
    "\n",
    "3. **Evaluate the objective function for all particles in the swarm.** Simply said, call the objective function for each row in the swarm matrix and store them in the obj_local array (local best objective values).\n",
    "\n",
    "4. **Find the index $i$ of minimum of the objective value in the array**, i.e. get the best solution of the swarm. Perform deep copy of the row at index $i$ to variable best_global and assign the objective value at index $i$ to variable obj_global. Both variables represent best global solution for the swarm. **Hint:** use the numpy.argmin function\n",
    "\n",
    "5. **Initialize the velocity matrix $v_t$** for $t=-1$. This is a  numpy matrix of the shape of $(N_S, N_D)$ where $N_S$ and the type of numpy.float64\n",
    "6. **Prepare the loop for all iterations.**. The loop body starts.\n",
    "\n",
    ">> 6-1. **Generate random number matrixes** ${\\bf r}_p \\in <0,1>^{N_SN_D}$ and ${\\bf r}_p \\in <0,1>^{N_SN_D}$. \n",
    "\n",
    ">> 6-2. **Calculate velocities and positions of particles.** The particle velocity is given by equation\n",
    "$${\\bf v}_t=\\omega {\\bf v}_{t-1} + \\phi_p{\\bf r}_p(p_{\\text{best}} - {\\bf x}_t) + \\phi_g{\\bf r}_g(g_{\\text{best}} - {\\bf x}_t)\n",
    "$$\n",
    "where $p_{\\text{best}}$ is the particle best solution (position), $g_{\\text{best}}$ is the global best solution (position) and ${\\bf x}_t$. The position of the particle is updated by\n",
    "$$\n",
    "  {\\bf x}_{t+1}={\\bf x}_t + {\\bf v}_t\n",
    "$$\n",
    "\n",
    ">> 6-3. **Calculate objective function** for all particles and store them in the numpy array. Compare current objective values to values in the obj_local array. If new objective value is less than previously stored objective local value, update the obj_local array and also store new best_local position for the particle.\n",
    "\n",
    ">> 6-4. **Find the index $i$ of minimum of the objective value in the array**, i.e. get the best solution of the swarm. If the minimum value is less than previously stored (in obj_global) perform deep copy of the row at index $i$ to variable best_global and assign the objective value at index $i$ to variable obj_global. Both variables represent best global solution for the swarm. **Hint:** use the numpy.argmin function.\n",
    "\n",
    ">> 6-5. **Continue at point 6-1**, until the total number of iterations is reached.\n",
    "\n",
    "7. **Return the best solution** (position and objective)\n"
   ]
  },
  {
   "cell_type": "code",
   "execution_count": 14,
   "metadata": {
    "id": "RVkLuWTn2RSC"
   },
   "outputs": [],
   "source": [
    "Write your code here"
   ]
  },
  {
   "cell_type": "markdown",
   "metadata": {
    "id": "0kAqYTqCIlGF"
   },
   "source": [
    "Run the PSO algorithm and print the best solution."
   ]
  },
  {
   "cell_type": "code",
   "execution_count": 15,
   "metadata": {
    "colab": {
     "base_uri": "https://localhost:8080/"
    },
    "id": "x0k4t7r02rfY",
    "outputId": "43d99024-0440-414c-e72e-6b2158ab4204"
   },
   "outputs": [
    {
     "name": "stdout",
     "output_type": "stream",
     "text": [
      "start\n",
      "6.967904387092964\n",
      "4.477605405519807\n",
      "4.148013137690176\n",
      "4.148013137690176\n",
      "4.0398882238526586\n",
      "4.0398882238526586\n",
      "4.032872627112182\n",
      "4.006927648604104\n",
      "4.00019291823804\n",
      "4.00019291823804\n",
      "4.00019291823804\n",
      "4.00019291823804\n",
      "4.00001576981089\n",
      "4.00001576981089\n",
      "4.00001576981089\n",
      "4.00001576981089\n",
      "4.000007768501078\n",
      "4.000001157609895\n",
      "4.000001157609895\n",
      "4.000001157609895\n",
      "4.000000294771013\n",
      "4.00000000042893\n",
      "4.00000000042893\n",
      "4.00000000042893\n",
      "4.00000000042893\n",
      "4.00000000042893\n",
      "4.00000000042893\n",
      "4.00000000042893\n",
      "4.000000000043359\n",
      "4.000000000043359\n",
      "4.000000000043359\n",
      "4.000000000043359\n",
      "4.000000000043359\n",
      "4.000000000043359\n",
      "4.000000000043359\n",
      "4.000000000027257\n",
      "4.000000000009838\n",
      "4.000000000009838\n",
      "4.000000000003576\n",
      "4.000000000003576\n",
      "4.000000000003576\n",
      "4.000000000002174\n",
      "4.000000000000058\n",
      "4.000000000000058\n",
      "4.000000000000058\n",
      "4.000000000000058\n",
      "4.000000000000048\n",
      "4.000000000000021\n",
      "4.000000000000007\n",
      "4.000000000000003\n",
      "4.000000000000002\n",
      "4.000000000000002\n",
      "4.000000000000001\n",
      "4.000000000000001\n",
      "4.0\n",
      "4.0\n",
      "4.0\n",
      "4.0\n",
      "4.0\n",
      "4.0\n",
      "4.0\n",
      "4.0\n",
      "4.0\n",
      "4.0\n",
      "4.0\n",
      "4.0\n",
      "4.0\n",
      "4.0\n",
      "4.0\n",
      "4.0\n",
      "4.0\n",
      "4.0\n",
      "4.0\n",
      "4.0\n",
      "4.0\n",
      "4.0\n",
      "4.0\n",
      "4.0\n",
      "4.0\n",
      "4.0\n",
      "4.0\n",
      "4.0\n",
      "4.0\n",
      "4.0\n",
      "4.0\n",
      "4.0\n",
      "4.0\n",
      "4.0\n",
      "4.0\n",
      "4.0\n",
      "4.0\n",
      "4.0\n",
      "4.0\n",
      "4.0\n",
      "4.0\n",
      "4.0\n",
      "4.0\n",
      "4.0\n",
      "4.0\n",
      "4.0\n",
      "best global: [1.         1.00000003]\n",
      "obj global: 4.0\n"
     ]
    }
   ],
   "source": [
    "Write your code here"
   ]
  },
  {
   "cell_type": "markdown",
   "metadata": {
    "id": "i5GRTnFu4J8q"
   },
   "source": [
    "## Subtask 1\n",
    "\n",
    "Use pyswarm package for the same task.\n",
    "\n",
    "**Hint:** Do not use constraints. \n",
    "\n",
    "\n"
   ]
  },
  {
   "cell_type": "code",
   "execution_count": 16,
   "metadata": {
    "colab": {
     "base_uri": "https://localhost:8080/"
    },
    "id": "kFfJasnP-6QP",
    "outputId": "4f5995db-09df-44bd-c1a3-9ff8cd8cf2ea",
    "scrolled": true
   },
   "outputs": [
    {
     "name": "stdout",
     "output_type": "stream",
     "text": [
      "Requirement already satisfied: pyswarm in c:\\anaconda3\\lib\\site-packages (0.6)\n",
      "Requirement already satisfied: numpy in c:\\anaconda3\\lib\\site-packages (from pyswarm) (1.21.5)\n"
     ]
    }
   ],
   "source": [
    "# Example\n",
    "!pip install pyswarm\n",
    "import pyswarm\n",
    "from pyswarm import pso"
   ]
  },
  {
   "cell_type": "code",
   "execution_count": 17,
   "metadata": {
    "colab": {
     "base_uri": "https://localhost:8080/"
    },
    "id": "cQFlALMh_AKt",
    "outputId": "000723aa-bbe0-4698-a14f-754271492dc5"
   },
   "outputs": [
    {
     "name": "stdout",
     "output_type": "stream",
     "text": [
      "Stopping search: Swarm best objective change less than 1e-08\n",
      "solution: [1.00011321 0.99998409]\n",
      "Objective: 4.000000071545278\n"
     ]
    }
   ],
   "source": [
    "Write your code here"
   ]
  },
  {
   "cell_type": "code",
   "execution_count": null,
   "metadata": {
    "id": "QvTucpH5_Ofz"
   },
   "outputs": [],
   "source": [
    "Write your code here"
   ]
  }
 ],
 "metadata": {
  "colab": {
   "collapsed_sections": [
    "hfI6N1bII-gE",
    "xhwT3O6SwOjU",
    "YwW-niumx5wN",
    "jDe93NMB5kzO",
    "LrdcJ7yZ3wVS",
    "mdhnoIMqBzyO",
    "r86kz1V8YIR_",
    "SeQJSHSWUR9x",
    "VVmTQ47lt6Kd",
    "uiffO4xRAD4Y",
    "Ju-MJosWZiVP"
   ],
   "name": "Lab-6.ipynb",
   "provenance": []
  },
  "kernelspec": {
   "display_name": "Python 3 (ipykernel)",
   "language": "python",
   "name": "python3"
  },
  "language_info": {
   "codemirror_mode": {
    "name": "ipython",
    "version": 3
   },
   "file_extension": ".py",
   "mimetype": "text/x-python",
   "name": "python",
   "nbconvert_exporter": "python",
   "pygments_lexer": "ipython3",
   "version": "3.7.7"
  }
 },
 "nbformat": 4,
 "nbformat_minor": 1
}
