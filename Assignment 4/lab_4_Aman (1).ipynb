{
  "cells": [
    {
      "cell_type": "markdown",
      "metadata": {
        "id": "zkYlViLS7cgf"
      },
      "source": [
        "# Recurrent neural networks"
      ]
    },
    {
      "cell_type": "markdown",
      "metadata": {
        "id": "nQ2GKW7l7pFG"
      },
      "source": [
        "# Task 1\n",
        "\n",
        "Get IBM stock market data and evaluate prediction on a set of recurrent neural networks.\n",
        "\n",
        "Dataset can be downloaded from https://www.kaggle.com/szrlee/stock-time-series-20050101-to-20171231\n",
        "\n"
      ]
    },
    {
      "cell_type": "markdown",
      "metadata": {
        "id": "MI2OZLE98FcG"
      },
      "source": [
        "## Subtask 1\n",
        "\n",
        "Load data and prepare the dataset"
      ]
    },
    {
      "cell_type": "code",
      "execution_count": 22,
      "metadata": {
        "colab": {
          "base_uri": "https://localhost:8080/",
          "height": 265
        },
        "id": "xWPzXlrZ7U1o",
        "outputId": "00140392-7226-499f-c74f-8ee4b285e997"
      },
      "outputs": [
        {
          "output_type": "display_data",
          "data": {
            "text/plain": [
              "<Figure size 432x288 with 1 Axes>"
            ],
            "image/png": "[encoded data removed]"
          },
          "metadata": {
            "needs_background": "light"
          }
        }
      ],
      "source": [
        "import pandas as pd\n",
        "import matplotlib.pyplot as plt\n",
        "\n",
        "\n",
        "df = pd.read_csv(\"IBM_2006-01-01_to_2018-01-01.csv\")\n",
        "plt.plot(df['Close'])\n",
        "plt.show()\n"
      ]
    },
    {
      "cell_type": "code",
      "source": [
        "import tensorflow as tf\n",
        "import numpy as np\n",
        "\n",
        "\n",
        "def slidingWindow(arr,window):\n",
        "  traindata = np.zeros((len(arr),window))\n",
        "  for i in range(0,len(arr)-window-1):\n",
        "    for j in range(0,window):\n",
        "      traindata[i][j] = arr[i+j]\n",
        "  traindata = traindata[~np.all(traindata == 0, axis=1)]\n",
        "  return traindata\n",
        "\n",
        "\n",
        "closePrice = np.array(df['Close'])\n",
        "closePrice\n",
        "dataset = slidingWindow(closePrice,7)\n",
        "features = dataset[:,:6]\n",
        "label = dataset[:,6:7]\n",
        "print(features.shape)\n",
        "print(label.shape)\n",
        "#print(features)"
      ],
      "metadata": {
        "colab": {
          "base_uri": "https://localhost:8080/"
        },
        "id": "__8sEUVPa-Jx",
        "outputId": "c49a80a9-5f3c-4460-be33-b5a9a925070e"
      },
      "execution_count": 23,
      "outputs": [
        {
          "output_type": "stream",
          "name": "stdout",
          "text": [
            "(3012, 6)\n",
            "(3012, 1)\n"
          ]
        }
      ]
    },
    {
      "cell_type": "code",
      "source": [
        "from sklearn import preprocessing\n",
        "\n",
        "normalized_features = preprocessing.normalize(features,axis=0)\n",
        "normalized_label = preprocessing.normalize(label,axis=0)\n",
        "#print(normalized_features)\n"
      ],
      "metadata": {
        "id": "e16WLcZGOCAy"
      },
      "execution_count": 24,
      "outputs": []
    },
    {
      "cell_type": "markdown",
      "metadata": {
        "id": "wiX_TiH9IjE4"
      },
      "source": [
        "# Subtask 2\n",
        "\n",
        "Perform prediction by using feed-forward neural network (sliding window)"
      ]
    },
    {
      "cell_type": "code",
      "execution_count": 25,
      "metadata": {
        "id": "kAeJRHnsIzg0",
        "colab": {
          "base_uri": "https://localhost:8080/"
        },
        "outputId": "b713da08-ef1f-4a68-85a1-541eb27368d2"
      },
      "outputs": [
        {
          "output_type": "stream",
          "name": "stdout",
          "text": [
            "Model: \"sequential_3\"\n",
            "_________________________________________________________________\n",
            " Layer (type)                Output Shape              Param #   \n",
            "=================================================================\n",
            " dense_5 (Dense)             (None, 64)                448       \n",
            "                                                                 \n",
            " dense_6 (Dense)             (None, 32)                2080      \n",
            "                                                                 \n",
            " dense_7 (Dense)             (None, 1)                 33        \n",
            "                                                                 \n",
            "=================================================================\n",
            "Total params: 2,561\n",
            "Trainable params: 2,561\n",
            "Non-trainable params: 0\n",
            "_________________________________________________________________\n"
          ]
        }
      ],
      "source": [
        "import tensorflow as tf\n",
        "\n",
        "from sklearn.model_selection import train_test_split\n",
        "x_train, x_test, y_train, y_test = train_test_split(normalized_features, normalized_label, test_size=0.2)\n",
        "\n",
        "#print(x_train[0].shape)\n",
        "\n",
        "model = tf.keras.Sequential()\n",
        "model.add(tf.keras.layers.Input(shape=(x_train.shape[1],)))\n",
        "model.add(tf.keras.layers.Dense(64, activation=tf.keras.activations.relu))\n",
        "model.add(tf.keras.layers.Dense(32, activation=tf.keras.activations.relu))\n",
        "model.add(tf.keras.layers.Dense(1, activation=tf.keras.activations.linear))\n",
        "model.summary()\n",
        "\n",
        "model.compile(optimizer=tf.keras.optimizers.Adam(learning_rate=0.05),\n",
        "              loss=\"mean_squared_error\", metrics=['mse'])\n"
      ]
    },
    {
      "cell_type": "code",
      "source": [
        "hist = model.fit(x_train, y_train,\n",
        "          batch_size=32, epochs= 100)"
      ],
      "metadata": {
        "colab": {
          "base_uri": "https://localhost:8080/"
        },
        "id": "2mq_E04N5YKI",
        "outputId": "bbfa9b07-51be-497b-9aa3-6968473bcaf9"
      },
      "execution_count": 26,
      "outputs": [
        {
          "output_type": "stream",
          "name": "stdout",
          "text": [
            "Epoch 1/100\n",
            "76/76 [==============================] - 0s 1ms/step - loss: 8.4412e-04 - mse: 8.4412e-04\n",
            "Epoch 2/100\n",
            "76/76 [==============================] - 0s 1ms/step - loss: 7.5085e-06 - mse: 7.5085e-06\n",
            "Epoch 3/100\n",
            "76/76 [==============================] - 0s 1ms/step - loss: 2.2749e-06 - mse: 2.2749e-06\n",
            "Epoch 4/100\n",
            "76/76 [==============================] - 0s 1ms/step - loss: 3.7685e-07 - mse: 3.7685e-07\n",
            "Epoch 5/100\n",
            "76/76 [==============================] - 0s 1ms/step - loss: 2.2822e-07 - mse: 2.2822e-07\n",
            "Epoch 6/100\n",
            "76/76 [==============================] - 0s 1ms/step - loss: 1.8980e-07 - mse: 1.8980e-07\n",
            "Epoch 7/100\n",
            "76/76 [==============================] - 0s 1ms/step - loss: 2.5319e-07 - mse: 2.5319e-07\n",
            "Epoch 8/100\n",
            "76/76 [==============================] - 0s 1ms/step - loss: 2.6210e-07 - mse: 2.6210e-07\n",
            "Epoch 9/100\n",
            "76/76 [==============================] - 0s 1ms/step - loss: 5.2803e-07 - mse: 5.2803e-07\n",
            "Epoch 10/100\n",
            "76/76 [==============================] - 0s 1ms/step - loss: 5.1237e-07 - mse: 5.1237e-07\n",
            "Epoch 11/100\n",
            "76/76 [==============================] - 0s 1ms/step - loss: 5.4969e-07 - mse: 5.4969e-07\n",
            "Epoch 12/100\n",
            "76/76 [==============================] - 0s 1ms/step - loss: 1.1381e-06 - mse: 1.1381e-06\n",
            "Epoch 13/100\n",
            "76/76 [==============================] - 0s 2ms/step - loss: 3.1824e-06 - mse: 3.1824e-06\n",
            "Epoch 14/100\n",
            "76/76 [==============================] - 0s 2ms/step - loss: 5.2284e-06 - mse: 5.2284e-06\n",
            "Epoch 15/100\n",
            "76/76 [==============================] - 0s 1ms/step - loss: 1.9410e-06 - mse: 1.9410e-06\n",
            "Epoch 16/100\n",
            "76/76 [==============================] - 0s 1ms/step - loss: 1.1354e-06 - mse: 1.1354e-06\n",
            "Epoch 17/100\n",
            "76/76 [==============================] - 0s 1ms/step - loss: 5.0542e-06 - mse: 5.0542e-06\n",
            "Epoch 18/100\n",
            "76/76 [==============================] - 0s 1ms/step - loss: 1.5983e-06 - mse: 1.5983e-06\n",
            "Epoch 19/100\n",
            "76/76 [==============================] - 0s 1ms/step - loss: 3.1535e-06 - mse: 3.1535e-06\n",
            "Epoch 20/100\n",
            "76/76 [==============================] - 0s 1ms/step - loss: 3.3568e-06 - mse: 3.3568e-06\n",
            "Epoch 21/100\n",
            "76/76 [==============================] - 0s 1ms/step - loss: 2.2471e-06 - mse: 2.2471e-06\n",
            "Epoch 22/100\n",
            "76/76 [==============================] - 0s 1ms/step - loss: 1.9829e-06 - mse: 1.9829e-06\n",
            "Epoch 23/100\n",
            "76/76 [==============================] - 0s 1ms/step - loss: 1.5806e-06 - mse: 1.5806e-06\n",
            "Epoch 24/100\n",
            "76/76 [==============================] - 0s 1ms/step - loss: 1.3255e-06 - mse: 1.3255e-06\n",
            "Epoch 25/100\n",
            "76/76 [==============================] - 0s 1ms/step - loss: 2.2685e-06 - mse: 2.2685e-06\n",
            "Epoch 26/100\n",
            "76/76 [==============================] - 0s 1ms/step - loss: 2.4123e-06 - mse: 2.4123e-06\n",
            "Epoch 27/100\n",
            "76/76 [==============================] - 0s 1ms/step - loss: 2.5674e-06 - mse: 2.5674e-06\n",
            "Epoch 28/100\n",
            "76/76 [==============================] - 0s 1ms/step - loss: 1.3871e-06 - mse: 1.3871e-06\n",
            "Epoch 29/100\n",
            "76/76 [==============================] - 0s 1ms/step - loss: 2.3496e-06 - mse: 2.3496e-06\n",
            "Epoch 30/100\n",
            "76/76 [==============================] - 0s 1ms/step - loss: 2.1085e-06 - mse: 2.1085e-06\n",
            "Epoch 31/100\n",
            "76/76 [==============================] - 0s 1ms/step - loss: 2.2119e-06 - mse: 2.2119e-06\n",
            "Epoch 32/100\n",
            "76/76 [==============================] - 0s 1ms/step - loss: 1.2608e-06 - mse: 1.2608e-06\n",
            "Epoch 33/100\n",
            "76/76 [==============================] - 0s 1ms/step - loss: 5.1436e-06 - mse: 5.1436e-06\n",
            "Epoch 34/100\n",
            "76/76 [==============================] - 0s 1ms/step - loss: 7.3909e-07 - mse: 7.3909e-07\n",
            "Epoch 35/100\n",
            "76/76 [==============================] - 0s 1ms/step - loss: 2.7119e-06 - mse: 2.7119e-06\n",
            "Epoch 36/100\n",
            "76/76 [==============================] - 0s 1ms/step - loss: 1.8653e-06 - mse: 1.8653e-06\n",
            "Epoch 37/100\n",
            "76/76 [==============================] - 0s 1ms/step - loss: 2.8691e-06 - mse: 2.8691e-06\n",
            "Epoch 38/100\n",
            "76/76 [==============================] - 0s 1ms/step - loss: 1.3862e-06 - mse: 1.3862e-06\n",
            "Epoch 39/100\n",
            "76/76 [==============================] - 0s 1ms/step - loss: 2.7713e-06 - mse: 2.7713e-06\n",
            "Epoch 40/100\n",
            "76/76 [==============================] - 0s 1ms/step - loss: 2.8638e-06 - mse: 2.8638e-06\n",
            "Epoch 41/100\n",
            "76/76 [==============================] - 0s 1ms/step - loss: 1.7721e-06 - mse: 1.7721e-06\n",
            "Epoch 42/100\n",
            "76/76 [==============================] - 0s 1ms/step - loss: 2.3164e-06 - mse: 2.3164e-06\n",
            "Epoch 43/100\n",
            "76/76 [==============================] - 0s 1ms/step - loss: 2.0425e-06 - mse: 2.0425e-06\n",
            "Epoch 44/100\n",
            "76/76 [==============================] - 0s 1ms/step - loss: 2.0314e-06 - mse: 2.0314e-06\n",
            "Epoch 45/100\n",
            "76/76 [==============================] - 0s 1ms/step - loss: 3.8064e-06 - mse: 3.8064e-06\n",
            "Epoch 46/100\n",
            "76/76 [==============================] - 0s 1ms/step - loss: 2.0819e-06 - mse: 2.0819e-06\n",
            "Epoch 47/100\n",
            "76/76 [==============================] - 0s 1ms/step - loss: 2.8836e-06 - mse: 2.8836e-06\n",
            "Epoch 48/100\n",
            "76/76 [==============================] - 0s 1ms/step - loss: 8.9466e-07 - mse: 8.9466e-07\n",
            "Epoch 49/100\n",
            "76/76 [==============================] - 0s 1ms/step - loss: 2.8043e-06 - mse: 2.8043e-06\n",
            "Epoch 50/100\n",
            "76/76 [==============================] - 0s 1ms/step - loss: 7.6761e-07 - mse: 7.6761e-07\n",
            "Epoch 51/100\n",
            "76/76 [==============================] - 0s 1ms/step - loss: 2.4799e-06 - mse: 2.4799e-06\n",
            "Epoch 52/100\n",
            "76/76 [==============================] - 0s 1ms/step - loss: 2.6129e-06 - mse: 2.6129e-06\n",
            "Epoch 53/100\n",
            "76/76 [==============================] - 0s 1ms/step - loss: 4.9703e-06 - mse: 4.9703e-06\n",
            "Epoch 54/100\n",
            "76/76 [==============================] - 0s 1ms/step - loss: 2.2756e-06 - mse: 2.2756e-06\n",
            "Epoch 55/100\n",
            "76/76 [==============================] - 0s 1ms/step - loss: 1.4413e-06 - mse: 1.4413e-06\n",
            "Epoch 56/100\n",
            "76/76 [==============================] - 0s 1ms/step - loss: 1.4363e-06 - mse: 1.4363e-06\n",
            "Epoch 57/100\n",
            "76/76 [==============================] - 0s 1ms/step - loss: 3.5634e-06 - mse: 3.5634e-06\n",
            "Epoch 58/100\n",
            "76/76 [==============================] - 0s 2ms/step - loss: 1.9453e-06 - mse: 1.9453e-06\n",
            "Epoch 59/100\n",
            "76/76 [==============================] - 0s 1ms/step - loss: 1.3785e-06 - mse: 1.3785e-06\n",
            "Epoch 60/100\n",
            "76/76 [==============================] - 0s 1ms/step - loss: 2.9186e-06 - mse: 2.9186e-06\n",
            "Epoch 61/100\n",
            "76/76 [==============================] - 0s 1ms/step - loss: 2.1264e-06 - mse: 2.1264e-06\n",
            "Epoch 62/100\n",
            "76/76 [==============================] - 0s 1ms/step - loss: 3.6472e-06 - mse: 3.6472e-06\n",
            "Epoch 63/100\n",
            "76/76 [==============================] - 0s 1ms/step - loss: 1.2578e-06 - mse: 1.2578e-06\n",
            "Epoch 64/100\n",
            "76/76 [==============================] - 0s 1ms/step - loss: 2.5870e-06 - mse: 2.5870e-06\n",
            "Epoch 65/100\n",
            "76/76 [==============================] - 0s 1ms/step - loss: 2.6788e-06 - mse: 2.6788e-06\n",
            "Epoch 66/100\n",
            "76/76 [==============================] - 0s 1ms/step - loss: 4.4957e-06 - mse: 4.4957e-06\n",
            "Epoch 67/100\n",
            "76/76 [==============================] - 0s 1ms/step - loss: 1.5134e-06 - mse: 1.5134e-06\n",
            "Epoch 68/100\n",
            "76/76 [==============================] - 0s 2ms/step - loss: 2.7209e-06 - mse: 2.7209e-06\n",
            "Epoch 69/100\n",
            "76/76 [==============================] - 0s 1ms/step - loss: 1.8147e-06 - mse: 1.8147e-06\n",
            "Epoch 70/100\n",
            "76/76 [==============================] - 0s 1ms/step - loss: 3.4830e-06 - mse: 3.4830e-06\n",
            "Epoch 71/100\n",
            "76/76 [==============================] - 0s 1ms/step - loss: 3.7931e-06 - mse: 3.7931e-06\n",
            "Epoch 72/100\n",
            "76/76 [==============================] - 0s 1ms/step - loss: 3.7462e-06 - mse: 3.7462e-06\n",
            "Epoch 73/100\n",
            "76/76 [==============================] - 0s 1ms/step - loss: 2.9051e-06 - mse: 2.9051e-06\n",
            "Epoch 74/100\n",
            "76/76 [==============================] - 0s 1ms/step - loss: 1.2321e-06 - mse: 1.2321e-06\n",
            "Epoch 75/100\n",
            "76/76 [==============================] - 0s 1ms/step - loss: 2.8696e-06 - mse: 2.8696e-06\n",
            "Epoch 76/100\n",
            "76/76 [==============================] - 0s 1ms/step - loss: 2.2697e-06 - mse: 2.2697e-06\n",
            "Epoch 77/100\n",
            "76/76 [==============================] - 0s 1ms/step - loss: 3.7606e-06 - mse: 3.7606e-06\n",
            "Epoch 78/100\n",
            "76/76 [==============================] - 0s 1ms/step - loss: 2.7478e-06 - mse: 2.7478e-06\n",
            "Epoch 79/100\n",
            "76/76 [==============================] - 0s 1ms/step - loss: 1.1967e-06 - mse: 1.1967e-06\n",
            "Epoch 80/100\n",
            "76/76 [==============================] - 0s 1ms/step - loss: 3.7924e-06 - mse: 3.7924e-06\n",
            "Epoch 81/100\n",
            "76/76 [==============================] - 0s 1ms/step - loss: 4.6908e-06 - mse: 4.6908e-06\n",
            "Epoch 82/100\n",
            "76/76 [==============================] - 0s 1ms/step - loss: 2.4343e-06 - mse: 2.4343e-06\n",
            "Epoch 83/100\n",
            "76/76 [==============================] - 0s 1ms/step - loss: 6.6138e-06 - mse: 6.6138e-06\n",
            "Epoch 84/100\n",
            "76/76 [==============================] - 0s 1ms/step - loss: 2.0594e-06 - mse: 2.0594e-06\n",
            "Epoch 85/100\n",
            "76/76 [==============================] - 0s 1ms/step - loss: 1.4691e-06 - mse: 1.4691e-06\n",
            "Epoch 86/100\n",
            "76/76 [==============================] - 0s 1ms/step - loss: 2.2619e-06 - mse: 2.2619e-06\n",
            "Epoch 87/100\n",
            "76/76 [==============================] - 0s 1ms/step - loss: 5.4033e-06 - mse: 5.4033e-06\n",
            "Epoch 88/100\n",
            "76/76 [==============================] - 0s 1ms/step - loss: 1.8500e-06 - mse: 1.8500e-06\n",
            "Epoch 89/100\n",
            "76/76 [==============================] - 0s 1ms/step - loss: 2.5034e-06 - mse: 2.5034e-06\n",
            "Epoch 90/100\n",
            "76/76 [==============================] - 0s 1ms/step - loss: 2.1500e-06 - mse: 2.1500e-06\n",
            "Epoch 91/100\n",
            "76/76 [==============================] - 0s 1ms/step - loss: 6.4715e-06 - mse: 6.4715e-06\n",
            "Epoch 92/100\n",
            "76/76 [==============================] - 0s 1ms/step - loss: 2.5879e-06 - mse: 2.5879e-06\n",
            "Epoch 93/100\n",
            "76/76 [==============================] - 0s 1ms/step - loss: 2.0105e-06 - mse: 2.0105e-06\n",
            "Epoch 94/100\n",
            "76/76 [==============================] - 0s 1ms/step - loss: 3.1902e-06 - mse: 3.1902e-06\n",
            "Epoch 95/100\n",
            "76/76 [==============================] - 0s 1ms/step - loss: 1.5395e-06 - mse: 1.5395e-06\n",
            "Epoch 96/100\n",
            "76/76 [==============================] - 0s 1ms/step - loss: 3.5232e-06 - mse: 3.5232e-06\n",
            "Epoch 97/100\n",
            "76/76 [==============================] - 0s 1ms/step - loss: 4.8318e-06 - mse: 4.8318e-06\n",
            "Epoch 98/100\n",
            "76/76 [==============================] - 0s 1ms/step - loss: 2.8073e-06 - mse: 2.8073e-06\n",
            "Epoch 99/100\n",
            "76/76 [==============================] - 0s 1ms/step - loss: 2.6406e-06 - mse: 2.6406e-06\n",
            "Epoch 100/100\n",
            "76/76 [==============================] - 0s 1ms/step - loss: 3.0731e-06 - mse: 3.0731e-06\n"
          ]
        }
      ]
    },
    {
      "cell_type": "code",
      "source": [
        "plt.plot(hist.history[\"mse\"])\n",
        "plt.xlabel(\"epoch\")\n",
        "plt.ylabel(\"MSE\")"
      ],
      "metadata": {
        "colab": {
          "base_uri": "https://localhost:8080/",
          "height": 296
        },
        "id": "IUr40W2yGa9L",
        "outputId": "d16d8311-bfd5-47b1-ce70-6ee786073d84"
      },
      "execution_count": 27,
      "outputs": [
        {
          "output_type": "execute_result",
          "data": {
            "text/plain": [
              "Text(0, 0.5, 'MSE')"
            ]
          },
          "metadata": {},
          "execution_count": 27
        },
        {
          "output_type": "display_data",
          "data": {
            "text/plain": [
              "<Figure size 432x288 with 1 Axes>"
            ],
            "image/png": "[encoded data removed]"
          },
          "metadata": {
            "needs_background": "light"
          }
        }
      ]
    },
    {
      "cell_type": "code",
      "source": [
        "y_pred = model.predict(x_test)[0,0]\n",
        "print(\"Actual Value \",y_test[1])\n",
        "print(\"Predicted Value \",y_pred)"
      ],
      "metadata": {
        "colab": {
          "base_uri": "https://localhost:8080/"
        },
        "id": "6UtCOSN06zW3",
        "outputId": "7e74abd1-6b42-451e-d8eb-9256de6ce1a0"
      },
      "execution_count": 28,
      "outputs": [
        {
          "output_type": "stream",
          "name": "stdout",
          "text": [
            "19/19 [==============================] - 0s 1ms/step\n",
            "Actual Value  [0.02494199]\n",
            "Predicted Value  0.016074046\n"
          ]
        }
      ]
    },
    {
      "cell_type": "markdown",
      "metadata": {
        "id": "y9lKq0usI3BJ"
      },
      "source": [
        "## Subtask 3\n",
        "\n",
        "Perform prediction by using RNN"
      ]
    },
    {
      "cell_type": "code",
      "source": [
        "from keras.models import Sequential\n",
        "from keras.layers import Dense\n",
        "from keras.layers import SimpleRNN\n",
        "from keras.layers import Dropout\n",
        "\n",
        "modelRNN = Sequential()\n",
        "modelRNN.add(SimpleRNN(units = 50,return_sequences = True,input_shape = (x_train.shape[1],1)))\n",
        "modelRNN.add(Dropout(0.2))\n",
        "modelRNN.add(SimpleRNN(units = 50,return_sequences = True))\n",
        "modelRNN.add(Dropout(0.2))\n",
        "modelRNN.add(Dense(units = 1,activation=\"linear\"))\n",
        "\n",
        "modelRNN.compile(\n",
        "    optimizer = \"adam\", \n",
        "    loss = \"mean_squared_error\",\n",
        "    metrics = [\"mse\"])\n",
        "\n",
        "modelRNN.summary()\n"
      ],
      "metadata": {
        "colab": {
          "base_uri": "https://localhost:8080/"
        },
        "id": "244MbAmeE_bW",
        "outputId": "0c697d16-f715-47b7-b443-b6d764ed90c5"
      },
      "execution_count": 29,
      "outputs": [
        {
          "output_type": "stream",
          "name": "stdout",
          "text": [
            "Model: \"sequential_4\"\n",
            "_________________________________________________________________\n",
            " Layer (type)                Output Shape              Param #   \n",
            "=================================================================\n",
            " simple_rnn_2 (SimpleRNN)    (None, 6, 50)             2600      \n",
            "                                                                 \n",
            " dropout_4 (Dropout)         (None, 6, 50)             0         \n",
            "                                                                 \n",
            " simple_rnn_3 (SimpleRNN)    (None, 6, 50)             5050      \n",
            "                                                                 \n",
            " dropout_5 (Dropout)         (None, 6, 50)             0         \n",
            "                                                                 \n",
            " dense_8 (Dense)             (None, 6, 1)              51        \n",
            "                                                                 \n",
            "=================================================================\n",
            "Total params: 7,701\n",
            "Trainable params: 7,701\n",
            "Non-trainable params: 0\n",
            "_________________________________________________________________\n"
          ]
        }
      ]
    },
    {
      "cell_type": "code",
      "source": [
        "historyRNN = modelRNN.fit(x_train, y_train,validation_split=0.1, epochs = 100, batch_size = 12)"
      ],
      "metadata": {
        "colab": {
          "base_uri": "https://localhost:8080/"
        },
        "id": "LT4PRom5Fe9w",
        "outputId": "a5cc7dd6-6316-499b-aa41-7c570cffa8ad"
      },
      "execution_count": 30,
      "outputs": [
        {
          "output_type": "stream",
          "name": "stdout",
          "text": [
            "Epoch 1/100\n",
            "181/181 [==============================] - 2s 5ms/step - loss: 2.2537e-05 - mse: 2.2537e-05 - val_loss: 9.6586e-07 - val_mse: 9.6586e-07\n",
            "Epoch 2/100\n",
            "181/181 [==============================] - 1s 4ms/step - loss: 3.0180e-06 - mse: 3.0180e-06 - val_loss: 5.1852e-07 - val_mse: 5.1852e-07\n",
            "Epoch 3/100\n",
            "181/181 [==============================] - 1s 4ms/step - loss: 1.9576e-06 - mse: 1.9576e-06 - val_loss: 3.0067e-07 - val_mse: 3.0067e-07\n",
            "Epoch 4/100\n",
            "181/181 [==============================] - 1s 4ms/step - loss: 1.4843e-06 - mse: 1.4843e-06 - val_loss: 3.6128e-07 - val_mse: 3.6128e-07\n",
            "Epoch 5/100\n",
            "181/181 [==============================] - 1s 3ms/step - loss: 1.4234e-06 - mse: 1.4234e-06 - val_loss: 2.5435e-07 - val_mse: 2.5435e-07\n",
            "Epoch 6/100\n",
            "181/181 [==============================] - 1s 4ms/step - loss: 1.4988e-06 - mse: 1.4988e-06 - val_loss: 3.4927e-07 - val_mse: 3.4927e-07\n",
            "Epoch 7/100\n",
            "181/181 [==============================] - 1s 4ms/step - loss: 1.2569e-06 - mse: 1.2569e-06 - val_loss: 4.4448e-07 - val_mse: 4.4448e-07\n",
            "Epoch 8/100\n",
            "181/181 [==============================] - 1s 3ms/step - loss: 1.1740e-06 - mse: 1.1740e-06 - val_loss: 2.2462e-07 - val_mse: 2.2462e-07\n",
            "Epoch 9/100\n",
            "181/181 [==============================] - 1s 4ms/step - loss: 1.1138e-06 - mse: 1.1138e-06 - val_loss: 1.0218e-06 - val_mse: 1.0218e-06\n",
            "Epoch 10/100\n",
            "181/181 [==============================] - 1s 4ms/step - loss: 1.0396e-06 - mse: 1.0396e-06 - val_loss: 2.9918e-07 - val_mse: 2.9918e-07\n",
            "Epoch 11/100\n",
            "181/181 [==============================] - 1s 3ms/step - loss: 1.0733e-06 - mse: 1.0733e-06 - val_loss: 2.3037e-07 - val_mse: 2.3037e-07\n",
            "Epoch 12/100\n",
            "181/181 [==============================] - 1s 4ms/step - loss: 1.0610e-06 - mse: 1.0610e-06 - val_loss: 3.1414e-07 - val_mse: 3.1414e-07\n",
            "Epoch 13/100\n",
            "181/181 [==============================] - 1s 4ms/step - loss: 1.0147e-06 - mse: 1.0147e-06 - val_loss: 5.2283e-07 - val_mse: 5.2283e-07\n",
            "Epoch 14/100\n",
            "181/181 [==============================] - 1s 4ms/step - loss: 8.9172e-07 - mse: 8.9172e-07 - val_loss: 1.8720e-07 - val_mse: 1.8720e-07\n",
            "Epoch 15/100\n",
            "181/181 [==============================] - 1s 4ms/step - loss: 1.1001e-06 - mse: 1.1001e-06 - val_loss: 3.7157e-07 - val_mse: 3.7157e-07\n",
            "Epoch 16/100\n",
            "181/181 [==============================] - 1s 3ms/step - loss: 9.5438e-07 - mse: 9.5438e-07 - val_loss: 7.1480e-07 - val_mse: 7.1480e-07\n",
            "Epoch 17/100\n",
            "181/181 [==============================] - 1s 4ms/step - loss: 8.7161e-07 - mse: 8.7161e-07 - val_loss: 1.8824e-07 - val_mse: 1.8824e-07\n",
            "Epoch 18/100\n",
            "181/181 [==============================] - 1s 4ms/step - loss: 9.4536e-07 - mse: 9.4536e-07 - val_loss: 3.0347e-07 - val_mse: 3.0347e-07\n",
            "Epoch 19/100\n",
            "181/181 [==============================] - 1s 4ms/step - loss: 8.6414e-07 - mse: 8.6414e-07 - val_loss: 2.2353e-07 - val_mse: 2.2353e-07\n",
            "Epoch 20/100\n",
            "181/181 [==============================] - 1s 4ms/step - loss: 9.2435e-07 - mse: 9.2435e-07 - val_loss: 4.1825e-07 - val_mse: 4.1825e-07\n",
            "Epoch 21/100\n",
            "181/181 [==============================] - 1s 4ms/step - loss: 8.9746e-07 - mse: 8.9746e-07 - val_loss: 5.3466e-07 - val_mse: 5.3466e-07\n",
            "Epoch 22/100\n",
            "181/181 [==============================] - 1s 4ms/step - loss: 9.5422e-07 - mse: 9.5422e-07 - val_loss: 5.1805e-07 - val_mse: 5.1805e-07\n",
            "Epoch 23/100\n",
            "181/181 [==============================] - 1s 4ms/step - loss: 7.3667e-07 - mse: 7.3667e-07 - val_loss: 4.2008e-07 - val_mse: 4.2008e-07\n",
            "Epoch 24/100\n",
            "181/181 [==============================] - 1s 3ms/step - loss: 7.1643e-07 - mse: 7.1643e-07 - val_loss: 4.6011e-07 - val_mse: 4.6011e-07\n",
            "Epoch 25/100\n",
            "181/181 [==============================] - 1s 4ms/step - loss: 8.9504e-07 - mse: 8.9504e-07 - val_loss: 5.2471e-07 - val_mse: 5.2471e-07\n",
            "Epoch 26/100\n",
            "181/181 [==============================] - 1s 4ms/step - loss: 8.3140e-07 - mse: 8.3140e-07 - val_loss: 1.7172e-06 - val_mse: 1.7172e-06\n",
            "Epoch 27/100\n",
            "181/181 [==============================] - 1s 4ms/step - loss: 7.2513e-07 - mse: 7.2513e-07 - val_loss: 2.0989e-07 - val_mse: 2.0989e-07\n",
            "Epoch 28/100\n",
            "181/181 [==============================] - 1s 4ms/step - loss: 7.1244e-07 - mse: 7.1244e-07 - val_loss: 2.3114e-07 - val_mse: 2.3114e-07\n",
            "Epoch 29/100\n",
            "181/181 [==============================] - 1s 4ms/step - loss: 6.3005e-07 - mse: 6.3005e-07 - val_loss: 2.1161e-07 - val_mse: 2.1161e-07\n",
            "Epoch 30/100\n",
            "181/181 [==============================] - 1s 4ms/step - loss: 7.3243e-07 - mse: 7.3243e-07 - val_loss: 6.8341e-07 - val_mse: 6.8341e-07\n",
            "Epoch 31/100\n",
            "181/181 [==============================] - 1s 4ms/step - loss: 7.4927e-07 - mse: 7.4927e-07 - val_loss: 2.5189e-07 - val_mse: 2.5189e-07\n",
            "Epoch 32/100\n",
            "181/181 [==============================] - 1s 4ms/step - loss: 6.2851e-07 - mse: 6.2851e-07 - val_loss: 1.3956e-06 - val_mse: 1.3956e-06\n",
            "Epoch 33/100\n",
            "181/181 [==============================] - 1s 4ms/step - loss: 6.7761e-07 - mse: 6.7761e-07 - val_loss: 3.0135e-07 - val_mse: 3.0135e-07\n",
            "Epoch 34/100\n",
            "181/181 [==============================] - 1s 3ms/step - loss: 6.8560e-07 - mse: 6.8560e-07 - val_loss: 3.0397e-07 - val_mse: 3.0397e-07\n",
            "Epoch 35/100\n",
            "181/181 [==============================] - 1s 4ms/step - loss: 7.1854e-07 - mse: 7.1854e-07 - val_loss: 1.1474e-06 - val_mse: 1.1474e-06\n",
            "Epoch 36/100\n",
            "181/181 [==============================] - 1s 4ms/step - loss: 7.0887e-07 - mse: 7.0887e-07 - val_loss: 2.1997e-07 - val_mse: 2.1997e-07\n",
            "Epoch 37/100\n",
            "181/181 [==============================] - 1s 4ms/step - loss: 7.6205e-07 - mse: 7.6205e-07 - val_loss: 2.2963e-06 - val_mse: 2.2963e-06\n",
            "Epoch 38/100\n",
            "181/181 [==============================] - 1s 4ms/step - loss: 7.5317e-07 - mse: 7.5317e-07 - val_loss: 3.7102e-07 - val_mse: 3.7102e-07\n",
            "Epoch 39/100\n",
            "181/181 [==============================] - 1s 4ms/step - loss: 5.5893e-07 - mse: 5.5893e-07 - val_loss: 2.4696e-07 - val_mse: 2.4696e-07\n",
            "Epoch 40/100\n",
            "181/181 [==============================] - 1s 4ms/step - loss: 5.8689e-07 - mse: 5.8689e-07 - val_loss: 2.3936e-07 - val_mse: 2.3936e-07\n",
            "Epoch 41/100\n",
            "181/181 [==============================] - 1s 4ms/step - loss: 5.5561e-07 - mse: 5.5561e-07 - val_loss: 1.2058e-06 - val_mse: 1.2058e-06\n",
            "Epoch 42/100\n",
            "181/181 [==============================] - 1s 4ms/step - loss: 6.7532e-07 - mse: 6.7532e-07 - val_loss: 2.1504e-07 - val_mse: 2.1504e-07\n",
            "Epoch 43/100\n",
            "181/181 [==============================] - 1s 3ms/step - loss: 5.6638e-07 - mse: 5.6638e-07 - val_loss: 1.9358e-07 - val_mse: 1.9358e-07\n",
            "Epoch 44/100\n",
            "181/181 [==============================] - 1s 3ms/step - loss: 5.1120e-07 - mse: 5.1120e-07 - val_loss: 2.7273e-07 - val_mse: 2.7273e-07\n",
            "Epoch 45/100\n",
            "181/181 [==============================] - 1s 4ms/step - loss: 6.8362e-07 - mse: 6.8362e-07 - val_loss: 2.1772e-07 - val_mse: 2.1772e-07\n",
            "Epoch 46/100\n",
            "181/181 [==============================] - 1s 3ms/step - loss: 5.2992e-07 - mse: 5.2992e-07 - val_loss: 2.0874e-07 - val_mse: 2.0874e-07\n",
            "Epoch 47/100\n",
            "181/181 [==============================] - 1s 4ms/step - loss: 5.2746e-07 - mse: 5.2746e-07 - val_loss: 2.7390e-07 - val_mse: 2.7390e-07\n",
            "Epoch 48/100\n",
            "181/181 [==============================] - 1s 4ms/step - loss: 6.7014e-07 - mse: 6.7014e-07 - val_loss: 2.2341e-07 - val_mse: 2.2341e-07\n",
            "Epoch 49/100\n",
            "181/181 [==============================] - 1s 4ms/step - loss: 5.3671e-07 - mse: 5.3671e-07 - val_loss: 4.3766e-07 - val_mse: 4.3766e-07\n",
            "Epoch 50/100\n",
            "181/181 [==============================] - 1s 4ms/step - loss: 5.7174e-07 - mse: 5.7174e-07 - val_loss: 2.4453e-07 - val_mse: 2.4453e-07\n",
            "Epoch 51/100\n",
            "181/181 [==============================] - 1s 4ms/step - loss: 5.5166e-07 - mse: 5.5166e-07 - val_loss: 2.0990e-07 - val_mse: 2.0990e-07\n",
            "Epoch 52/100\n",
            "181/181 [==============================] - 1s 4ms/step - loss: 5.6080e-07 - mse: 5.6080e-07 - val_loss: 1.2175e-06 - val_mse: 1.2175e-06\n",
            "Epoch 53/100\n",
            "181/181 [==============================] - 1s 4ms/step - loss: 7.2511e-07 - mse: 7.2511e-07 - val_loss: 2.2254e-07 - val_mse: 2.2254e-07\n",
            "Epoch 54/100\n",
            "181/181 [==============================] - 1s 4ms/step - loss: 5.9956e-07 - mse: 5.9956e-07 - val_loss: 1.8622e-07 - val_mse: 1.8622e-07\n",
            "Epoch 55/100\n",
            "181/181 [==============================] - 1s 4ms/step - loss: 7.6877e-07 - mse: 7.6877e-07 - val_loss: 2.0562e-07 - val_mse: 2.0562e-07\n",
            "Epoch 56/100\n",
            "181/181 [==============================] - 1s 4ms/step - loss: 5.3825e-07 - mse: 5.3825e-07 - val_loss: 2.4865e-07 - val_mse: 2.4865e-07\n",
            "Epoch 57/100\n",
            "181/181 [==============================] - 1s 4ms/step - loss: 4.8382e-07 - mse: 4.8382e-07 - val_loss: 2.2146e-07 - val_mse: 2.2146e-07\n",
            "Epoch 58/100\n",
            "181/181 [==============================] - 1s 3ms/step - loss: 5.0529e-07 - mse: 5.0529e-07 - val_loss: 5.7125e-07 - val_mse: 5.7125e-07\n",
            "Epoch 59/100\n",
            "181/181 [==============================] - 1s 4ms/step - loss: 5.7996e-07 - mse: 5.7996e-07 - val_loss: 8.0889e-07 - val_mse: 8.0889e-07\n",
            "Epoch 60/100\n",
            "181/181 [==============================] - 1s 4ms/step - loss: 5.4783e-07 - mse: 5.4783e-07 - val_loss: 4.7218e-07 - val_mse: 4.7218e-07\n",
            "Epoch 61/100\n",
            "181/181 [==============================] - 1s 3ms/step - loss: 6.1477e-07 - mse: 6.1477e-07 - val_loss: 7.9929e-07 - val_mse: 7.9929e-07\n",
            "Epoch 62/100\n",
            "181/181 [==============================] - 1s 4ms/step - loss: 6.6452e-07 - mse: 6.6452e-07 - val_loss: 4.1515e-07 - val_mse: 4.1515e-07\n",
            "Epoch 63/100\n",
            "181/181 [==============================] - 1s 4ms/step - loss: 6.3403e-07 - mse: 6.3403e-07 - val_loss: 2.4091e-07 - val_mse: 2.4091e-07\n",
            "Epoch 64/100\n",
            "181/181 [==============================] - 1s 4ms/step - loss: 5.2226e-07 - mse: 5.2226e-07 - val_loss: 2.8886e-07 - val_mse: 2.8886e-07\n",
            "Epoch 65/100\n",
            "181/181 [==============================] - 1s 4ms/step - loss: 5.8167e-07 - mse: 5.8167e-07 - val_loss: 4.4483e-07 - val_mse: 4.4483e-07\n",
            "Epoch 66/100\n",
            "181/181 [==============================] - 1s 3ms/step - loss: 5.4582e-07 - mse: 5.4582e-07 - val_loss: 7.5316e-07 - val_mse: 7.5316e-07\n",
            "Epoch 67/100\n",
            "181/181 [==============================] - 1s 4ms/step - loss: 6.3651e-07 - mse: 6.3651e-07 - val_loss: 2.7531e-07 - val_mse: 2.7531e-07\n",
            "Epoch 68/100\n",
            "181/181 [==============================] - 1s 4ms/step - loss: 5.0281e-07 - mse: 5.0281e-07 - val_loss: 2.4540e-07 - val_mse: 2.4540e-07\n",
            "Epoch 69/100\n",
            "181/181 [==============================] - 1s 4ms/step - loss: 5.2421e-07 - mse: 5.2421e-07 - val_loss: 2.8237e-07 - val_mse: 2.8237e-07\n",
            "Epoch 70/100\n",
            "181/181 [==============================] - 1s 4ms/step - loss: 5.1897e-07 - mse: 5.1897e-07 - val_loss: 2.7691e-07 - val_mse: 2.7691e-07\n",
            "Epoch 71/100\n",
            "181/181 [==============================] - 1s 4ms/step - loss: 5.6825e-07 - mse: 5.6825e-07 - val_loss: 6.8479e-07 - val_mse: 6.8479e-07\n",
            "Epoch 72/100\n",
            "181/181 [==============================] - 1s 4ms/step - loss: 5.6073e-07 - mse: 5.6073e-07 - val_loss: 3.3283e-07 - val_mse: 3.3283e-07\n",
            "Epoch 73/100\n",
            "181/181 [==============================] - 1s 4ms/step - loss: 5.2067e-07 - mse: 5.2067e-07 - val_loss: 3.7090e-07 - val_mse: 3.7090e-07\n",
            "Epoch 74/100\n",
            "181/181 [==============================] - 1s 4ms/step - loss: 4.8402e-07 - mse: 4.8402e-07 - val_loss: 2.0179e-07 - val_mse: 2.0179e-07\n",
            "Epoch 75/100\n",
            "181/181 [==============================] - 1s 3ms/step - loss: 5.3854e-07 - mse: 5.3854e-07 - val_loss: 2.4235e-07 - val_mse: 2.4235e-07\n",
            "Epoch 76/100\n",
            "181/181 [==============================] - 1s 4ms/step - loss: 5.3401e-07 - mse: 5.3401e-07 - val_loss: 1.8386e-07 - val_mse: 1.8386e-07\n",
            "Epoch 77/100\n",
            "181/181 [==============================] - 1s 4ms/step - loss: 5.8907e-07 - mse: 5.8907e-07 - val_loss: 4.9480e-07 - val_mse: 4.9480e-07\n",
            "Epoch 78/100\n",
            "181/181 [==============================] - 1s 4ms/step - loss: 5.0689e-07 - mse: 5.0689e-07 - val_loss: 2.0080e-07 - val_mse: 2.0080e-07\n",
            "Epoch 79/100\n",
            "181/181 [==============================] - 1s 4ms/step - loss: 5.2586e-07 - mse: 5.2586e-07 - val_loss: 2.4025e-07 - val_mse: 2.4025e-07\n",
            "Epoch 80/100\n",
            "181/181 [==============================] - 1s 4ms/step - loss: 5.2291e-07 - mse: 5.2291e-07 - val_loss: 3.9137e-07 - val_mse: 3.9137e-07\n",
            "Epoch 81/100\n",
            "181/181 [==============================] - 1s 4ms/step - loss: 5.6384e-07 - mse: 5.6384e-07 - val_loss: 6.6841e-07 - val_mse: 6.6841e-07\n",
            "Epoch 82/100\n",
            "181/181 [==============================] - 1s 4ms/step - loss: 5.7247e-07 - mse: 5.7247e-07 - val_loss: 3.3584e-07 - val_mse: 3.3584e-07\n",
            "Epoch 83/100\n",
            "181/181 [==============================] - 1s 4ms/step - loss: 5.7300e-07 - mse: 5.7300e-07 - val_loss: 1.7987e-07 - val_mse: 1.7987e-07\n",
            "Epoch 84/100\n",
            "181/181 [==============================] - 1s 4ms/step - loss: 5.5262e-07 - mse: 5.5262e-07 - val_loss: 3.2199e-07 - val_mse: 3.2199e-07\n",
            "Epoch 85/100\n",
            "181/181 [==============================] - 1s 4ms/step - loss: 5.0828e-07 - mse: 5.0828e-07 - val_loss: 3.8182e-07 - val_mse: 3.8182e-07\n",
            "Epoch 86/100\n",
            "181/181 [==============================] - 1s 4ms/step - loss: 5.5952e-07 - mse: 5.5952e-07 - val_loss: 3.0949e-07 - val_mse: 3.0949e-07\n",
            "Epoch 87/100\n",
            "181/181 [==============================] - 1s 4ms/step - loss: 4.7324e-07 - mse: 4.7324e-07 - val_loss: 4.1130e-07 - val_mse: 4.1130e-07\n",
            "Epoch 88/100\n",
            "181/181 [==============================] - 1s 4ms/step - loss: 5.1226e-07 - mse: 5.1226e-07 - val_loss: 3.8435e-07 - val_mse: 3.8435e-07\n",
            "Epoch 89/100\n",
            "181/181 [==============================] - 1s 4ms/step - loss: 6.0536e-07 - mse: 6.0536e-07 - val_loss: 7.9583e-07 - val_mse: 7.9583e-07\n",
            "Epoch 90/100\n",
            "181/181 [==============================] - 1s 4ms/step - loss: 5.2552e-07 - mse: 5.2552e-07 - val_loss: 2.1013e-07 - val_mse: 2.1013e-07\n",
            "Epoch 91/100\n",
            "181/181 [==============================] - 1s 4ms/step - loss: 5.5404e-07 - mse: 5.5404e-07 - val_loss: 1.7712e-07 - val_mse: 1.7712e-07\n",
            "Epoch 92/100\n",
            "181/181 [==============================] - 1s 4ms/step - loss: 5.3442e-07 - mse: 5.3442e-07 - val_loss: 4.5540e-07 - val_mse: 4.5540e-07\n",
            "Epoch 93/100\n",
            "181/181 [==============================] - 1s 4ms/step - loss: 5.7952e-07 - mse: 5.7952e-07 - val_loss: 3.4018e-07 - val_mse: 3.4018e-07\n",
            "Epoch 94/100\n",
            "181/181 [==============================] - 1s 4ms/step - loss: 6.0756e-07 - mse: 6.0756e-07 - val_loss: 3.7658e-07 - val_mse: 3.7658e-07\n",
            "Epoch 95/100\n",
            "181/181 [==============================] - 1s 4ms/step - loss: 5.3352e-07 - mse: 5.3352e-07 - val_loss: 1.9287e-07 - val_mse: 1.9287e-07\n",
            "Epoch 96/100\n",
            "181/181 [==============================] - 1s 4ms/step - loss: 5.1590e-07 - mse: 5.1590e-07 - val_loss: 2.5518e-07 - val_mse: 2.5518e-07\n",
            "Epoch 97/100\n",
            "181/181 [==============================] - 1s 4ms/step - loss: 5.2401e-07 - mse: 5.2401e-07 - val_loss: 1.9973e-07 - val_mse: 1.9973e-07\n",
            "Epoch 98/100\n",
            "181/181 [==============================] - 1s 4ms/step - loss: 5.0951e-07 - mse: 5.0951e-07 - val_loss: 2.0443e-07 - val_mse: 2.0443e-07\n",
            "Epoch 99/100\n",
            "181/181 [==============================] - 1s 4ms/step - loss: 4.9966e-07 - mse: 4.9966e-07 - val_loss: 2.0022e-07 - val_mse: 2.0022e-07\n",
            "Epoch 100/100\n",
            "181/181 [==============================] - 1s 4ms/step - loss: 5.0566e-07 - mse: 5.0566e-07 - val_loss: 1.8761e-07 - val_mse: 1.8761e-07\n"
          ]
        }
      ]
    },
    {
      "cell_type": "code",
      "source": [
        "plt.plot(historyRNN.history[\"mse\"])\n",
        "plt.xlabel(\"epoch\")\n",
        "plt.ylabel(\"MSE\")"
      ],
      "metadata": {
        "colab": {
          "base_uri": "https://localhost:8080/",
          "height": 307
        },
        "id": "7i5aQCqqF7lK",
        "outputId": "fafe05c1-e2f5-4db1-9afc-c285468991f3"
      },
      "execution_count": 31,
      "outputs": [
        {
          "output_type": "execute_result",
          "data": {
            "text/plain": [
              "Text(0, 0.5, 'MSE')"
            ]
          },
          "metadata": {},
          "execution_count": 31
        },
        {
          "output_type": "display_data",
          "data": {
            "text/plain": [
              "<Figure size 432x288 with 1 Axes>"
            ],
            "image/png": "[encoded data removed]"
          },
          "metadata": {
            "needs_background": "light"
          }
        }
      ]
    },
    {
      "cell_type": "code",
      "source": [
        "y_pred = modelRNN.predict(x_test)[0,0]\n",
        "print(\"Actual Value \",y_test[1])\n",
        "print(\"Predicted Value \",y_pred)"
      ],
      "metadata": {
        "colab": {
          "base_uri": "https://localhost:8080/"
        },
        "id": "8EjHk1R96u36",
        "outputId": "5863e67a-798e-4fbc-d8ce-aec6da1b9aa4"
      },
      "execution_count": 32,
      "outputs": [
        {
          "output_type": "stream",
          "name": "stdout",
          "text": [
            "19/19 [==============================] - 0s 2ms/step\n",
            "Actual Value  [0.02494199]\n",
            "Predicted Value  [0.01804382]\n"
          ]
        }
      ]
    },
    {
      "cell_type": "markdown",
      "metadata": {
        "id": "Q_UiVz83JJNV"
      },
      "source": [
        "## Subtask 4\n",
        "\n",
        "Perform prediction by using LSTM"
      ]
    },
    {
      "cell_type": "code",
      "execution_count": 33,
      "metadata": {
        "id": "80pZTpo2I2pv",
        "colab": {
          "base_uri": "https://localhost:8080/"
        },
        "outputId": "443cb570-1dee-4d27-d2bb-2b3fad77e862"
      },
      "outputs": [
        {
          "output_type": "stream",
          "name": "stdout",
          "text": [
            "Model: \"sequential_5\"\n",
            "_________________________________________________________________\n",
            " Layer (type)                Output Shape              Param #   \n",
            "=================================================================\n",
            " lstm_2 (LSTM)               (None, 6, 50)             10400     \n",
            "                                                                 \n",
            " dropout_6 (Dropout)         (None, 6, 50)             0         \n",
            "                                                                 \n",
            " lstm_3 (LSTM)               (None, 6, 50)             20200     \n",
            "                                                                 \n",
            " dropout_7 (Dropout)         (None, 6, 50)             0         \n",
            "                                                                 \n",
            " dense_9 (Dense)             (None, 6, 1)              51        \n",
            "                                                                 \n",
            "=================================================================\n",
            "Total params: 30,651\n",
            "Trainable params: 30,651\n",
            "Non-trainable params: 0\n",
            "_________________________________________________________________\n"
          ]
        }
      ],
      "source": [
        "from keras.models import Sequential\n",
        "from keras.layers import Dense\n",
        "from keras.layers import SimpleRNN\n",
        "from keras.layers import Dropout\n",
        "from keras.layers import LSTM\n",
        "\n",
        "modelLSTM = Sequential()\n",
        "modelLSTM.add(LSTM(units = 50,return_sequences = True,input_shape = (x_train.shape[1],1)))\n",
        "modelLSTM.add(Dropout(0.2))\n",
        "modelLSTM.add(LSTM(units = 50,return_sequences = True))\n",
        "modelLSTM.add(Dropout(0.2))\n",
        "modelLSTM.add(Dense(units = 1,activation=\"linear\"))\n",
        "\n",
        "modelLSTM.compile(\n",
        "    optimizer = \"adam\", \n",
        "    loss = \"mean_squared_error\",\n",
        "    metrics = [\"mse\"])\n",
        "\n",
        "modelLSTM.summary()\n"
      ]
    },
    {
      "cell_type": "code",
      "source": [
        "historyLSTM = modelLSTM.fit(x_train, y_train, epochs = 50, batch_size = 12)"
      ],
      "metadata": {
        "colab": {
          "base_uri": "https://localhost:8080/"
        },
        "id": "6jmQHmMwGpeu",
        "outputId": "e53a8e55-1736-4c61-97c8-9a079299957f"
      },
      "execution_count": 34,
      "outputs": [
        {
          "output_type": "stream",
          "name": "stdout",
          "text": [
            "Epoch 1/50\n",
            "201/201 [==============================] - 4s 6ms/step - loss: 2.4222e-05 - mse: 2.4222e-05\n",
            "Epoch 2/50\n",
            "201/201 [==============================] - 1s 6ms/step - loss: 6.4621e-06 - mse: 6.4621e-06\n",
            "Epoch 3/50\n",
            "201/201 [==============================] - 1s 6ms/step - loss: 4.4973e-06 - mse: 4.4973e-06\n",
            "Epoch 4/50\n",
            "201/201 [==============================] - 1s 6ms/step - loss: 3.2794e-06 - mse: 3.2794e-06\n",
            "Epoch 5/50\n",
            "201/201 [==============================] - 1s 6ms/step - loss: 2.1603e-06 - mse: 2.1603e-06\n",
            "Epoch 6/50\n",
            "201/201 [==============================] - 1s 6ms/step - loss: 1.6632e-06 - mse: 1.6632e-06\n",
            "Epoch 7/50\n",
            "201/201 [==============================] - 1s 6ms/step - loss: 1.3305e-06 - mse: 1.3305e-06\n",
            "Epoch 8/50\n",
            "201/201 [==============================] - 1s 6ms/step - loss: 1.0083e-06 - mse: 1.0083e-06\n",
            "Epoch 9/50\n",
            "201/201 [==============================] - 1s 7ms/step - loss: 9.0239e-07 - mse: 9.0239e-07\n",
            "Epoch 10/50\n",
            "201/201 [==============================] - 1s 6ms/step - loss: 9.3794e-07 - mse: 9.3794e-07\n",
            "Epoch 11/50\n",
            "201/201 [==============================] - 1s 6ms/step - loss: 6.7207e-07 - mse: 6.7207e-07\n",
            "Epoch 12/50\n",
            "201/201 [==============================] - 1s 6ms/step - loss: 7.7854e-07 - mse: 7.7854e-07\n",
            "Epoch 13/50\n",
            "201/201 [==============================] - 1s 6ms/step - loss: 6.9642e-07 - mse: 6.9642e-07\n",
            "Epoch 14/50\n",
            "201/201 [==============================] - 1s 6ms/step - loss: 7.3965e-07 - mse: 7.3965e-07\n",
            "Epoch 15/50\n",
            "201/201 [==============================] - 1s 6ms/step - loss: 7.3768e-07 - mse: 7.3768e-07\n",
            "Epoch 16/50\n",
            "201/201 [==============================] - 1s 6ms/step - loss: 6.9457e-07 - mse: 6.9457e-07\n",
            "Epoch 17/50\n",
            "201/201 [==============================] - 1s 6ms/step - loss: 7.8249e-07 - mse: 7.8249e-07\n",
            "Epoch 18/50\n",
            "201/201 [==============================] - 1s 6ms/step - loss: 5.7283e-07 - mse: 5.7283e-07\n",
            "Epoch 19/50\n",
            "201/201 [==============================] - 1s 6ms/step - loss: 5.6262e-07 - mse: 5.6262e-07\n",
            "Epoch 20/50\n",
            "201/201 [==============================] - 1s 6ms/step - loss: 6.6780e-07 - mse: 6.6780e-07\n",
            "Epoch 21/50\n",
            "201/201 [==============================] - 1s 6ms/step - loss: 6.4768e-07 - mse: 6.4768e-07\n",
            "Epoch 22/50\n",
            "201/201 [==============================] - 1s 6ms/step - loss: 6.8971e-07 - mse: 6.8971e-07\n",
            "Epoch 23/50\n",
            "201/201 [==============================] - 1s 6ms/step - loss: 5.8714e-07 - mse: 5.8714e-07\n",
            "Epoch 24/50\n",
            "201/201 [==============================] - 1s 6ms/step - loss: 7.4069e-07 - mse: 7.4069e-07\n",
            "Epoch 25/50\n",
            "201/201 [==============================] - 1s 6ms/step - loss: 6.7870e-07 - mse: 6.7870e-07\n",
            "Epoch 26/50\n",
            "201/201 [==============================] - 1s 6ms/step - loss: 6.0047e-07 - mse: 6.0047e-07\n",
            "Epoch 27/50\n",
            "201/201 [==============================] - 1s 7ms/step - loss: 5.9536e-07 - mse: 5.9536e-07\n",
            "Epoch 28/50\n",
            "201/201 [==============================] - 1s 6ms/step - loss: 5.9656e-07 - mse: 5.9656e-07\n",
            "Epoch 29/50\n",
            "201/201 [==============================] - 1s 6ms/step - loss: 6.0988e-07 - mse: 6.0988e-07\n",
            "Epoch 30/50\n",
            "201/201 [==============================] - 1s 6ms/step - loss: 5.7681e-07 - mse: 5.7681e-07\n",
            "Epoch 31/50\n",
            "201/201 [==============================] - 1s 6ms/step - loss: 5.7876e-07 - mse: 5.7876e-07\n",
            "Epoch 32/50\n",
            "201/201 [==============================] - 2s 8ms/step - loss: 5.5721e-07 - mse: 5.5721e-07\n",
            "Epoch 33/50\n",
            "201/201 [==============================] - 1s 7ms/step - loss: 7.2619e-07 - mse: 7.2619e-07\n",
            "Epoch 34/50\n",
            "201/201 [==============================] - 1s 7ms/step - loss: 6.8493e-07 - mse: 6.8493e-07\n",
            "Epoch 35/50\n",
            "201/201 [==============================] - 1s 6ms/step - loss: 5.5438e-07 - mse: 5.5438e-07\n",
            "Epoch 36/50\n",
            "201/201 [==============================] - 1s 6ms/step - loss: 6.4693e-07 - mse: 6.4693e-07\n",
            "Epoch 37/50\n",
            "201/201 [==============================] - 1s 6ms/step - loss: 5.3678e-07 - mse: 5.3678e-07\n",
            "Epoch 38/50\n",
            "201/201 [==============================] - 1s 7ms/step - loss: 6.0153e-07 - mse: 6.0153e-07\n",
            "Epoch 39/50\n",
            "201/201 [==============================] - 1s 6ms/step - loss: 6.5561e-07 - mse: 6.5561e-07\n",
            "Epoch 40/50\n",
            "201/201 [==============================] - 1s 6ms/step - loss: 6.5263e-07 - mse: 6.5263e-07\n",
            "Epoch 41/50\n",
            "201/201 [==============================] - 1s 6ms/step - loss: 5.4146e-07 - mse: 5.4146e-07\n",
            "Epoch 42/50\n",
            "201/201 [==============================] - 1s 6ms/step - loss: 5.1399e-07 - mse: 5.1399e-07\n",
            "Epoch 43/50\n",
            "201/201 [==============================] - 1s 7ms/step - loss: 5.7618e-07 - mse: 5.7618e-07\n",
            "Epoch 44/50\n",
            "201/201 [==============================] - 1s 6ms/step - loss: 5.9541e-07 - mse: 5.9541e-07\n",
            "Epoch 45/50\n",
            "201/201 [==============================] - 1s 6ms/step - loss: 5.2381e-07 - mse: 5.2381e-07\n",
            "Epoch 46/50\n",
            "201/201 [==============================] - 1s 6ms/step - loss: 5.3096e-07 - mse: 5.3096e-07\n",
            "Epoch 47/50\n",
            "201/201 [==============================] - 1s 6ms/step - loss: 5.2959e-07 - mse: 5.2959e-07\n",
            "Epoch 48/50\n",
            "201/201 [==============================] - 1s 6ms/step - loss: 5.7246e-07 - mse: 5.7246e-07\n",
            "Epoch 49/50\n",
            "201/201 [==============================] - 1s 6ms/step - loss: 6.0536e-07 - mse: 6.0536e-07\n",
            "Epoch 50/50\n",
            "201/201 [==============================] - 1s 6ms/step - loss: 5.3172e-07 - mse: 5.3172e-07\n"
          ]
        }
      ]
    },
    {
      "cell_type": "code",
      "source": [
        "from matplotlib import pyplot as plt\n",
        "plt.plot(historyLSTM.history[\"mse\"])\n",
        "plt.xlabel(\"epoch\")\n",
        "plt.ylabel(\"MSE\")"
      ],
      "metadata": {
        "colab": {
          "base_uri": "https://localhost:8080/",
          "height": 307
        },
        "id": "3KQRZ9zgHbym",
        "outputId": "ab41812c-996d-4b50-be39-d152b42f90ec"
      },
      "execution_count": 35,
      "outputs": [
        {
          "output_type": "execute_result",
          "data": {
            "text/plain": [
              "Text(0, 0.5, 'MSE')"
            ]
          },
          "metadata": {},
          "execution_count": 35
        },
        {
          "output_type": "display_data",
          "data": {
            "text/plain": [
              "<Figure size 432x288 with 1 Axes>"
            ],
            "image/png": "[encoded data removed]"
          },
          "metadata": {
            "needs_background": "light"
          }
        }
      ]
    },
    {
      "cell_type": "code",
      "source": [
        "\n",
        "y_pred = modelLSTM.predict(x_test)[0,0]\n",
        "print(\"Actual Value \",y_test[1])\n",
        "print(\"Predicted Value \",y_pred)"
      ],
      "metadata": {
        "colab": {
          "base_uri": "https://localhost:8080/"
        },
        "id": "uQQq60zWQqTj",
        "outputId": "18cd49d0-ce99-445b-a219-c2790cdcaade"
      },
      "execution_count": 36,
      "outputs": [
        {
          "output_type": "stream",
          "name": "stdout",
          "text": [
            "19/19 [==============================] - 1s 2ms/step\n",
            "Actual Value  [0.02494199]\n",
            "Predicted Value  [0.01785911]\n"
          ]
        }
      ]
    },
    {
      "cell_type": "markdown",
      "metadata": {
        "id": "dByXV7AFJbpX"
      },
      "source": [
        "## Subtask 5\n",
        "\n",
        "Compare all above results by using MSE error and dermine the best architecture. You can do tests on more stock data than IBM."
      ]
    },
    {
      "cell_type": "code",
      "source": [
        "evalFNN = model.evaluate(x_test,y_test)\n",
        "print(\"FNN MSE\")\n",
        "print(evalFNN)"
      ],
      "metadata": {
        "colab": {
          "base_uri": "https://localhost:8080/"
        },
        "id": "fBZh0adkB1N2",
        "outputId": "ece09aa2-389c-4fea-af61-b68465e3b56b"
      },
      "execution_count": 37,
      "outputs": [
        {
          "output_type": "stream",
          "name": "stdout",
          "text": [
            "19/19 [==============================] - 0s 1ms/step - loss: 2.5511e-06 - mse: 2.5511e-06\n",
            "FNN MSE\n",
            "[2.5511044441373087e-06, 2.5511044441373087e-06]\n"
          ]
        }
      ]
    },
    {
      "cell_type": "code",
      "source": [
        "evalRNN = modelRNN.evaluate(x_test,y_test)\n",
        "print(\"RNN MSE\")\n",
        "print(evalRNN)"
      ],
      "metadata": {
        "colab": {
          "base_uri": "https://localhost:8080/"
        },
        "id": "1v28mb9xCF58",
        "outputId": "ecde3305-ced4-4828-ec6f-bd4511655936"
      },
      "execution_count": 38,
      "outputs": [
        {
          "output_type": "stream",
          "name": "stdout",
          "text": [
            "19/19 [==============================] - 0s 2ms/step - loss: 1.8506e-07 - mse: 1.8506e-07\n",
            "RNN MSE\n",
            "[1.8505680543512426e-07, 1.8505680543512426e-07]\n"
          ]
        }
      ]
    },
    {
      "cell_type": "code",
      "source": [
        "evalLSTM = modelLSTM.evaluate(x_test,y_test)\n",
        "print(\"LSTM MSE\")\n",
        "print(evalLSTM)"
      ],
      "metadata": {
        "colab": {
          "base_uri": "https://localhost:8080/"
        },
        "id": "zkgYt-UnCN65",
        "outputId": "2474c851-babd-4cce-c8e7-df79e59eca8c"
      },
      "execution_count": 39,
      "outputs": [
        {
          "output_type": "stream",
          "name": "stdout",
          "text": [
            "19/19 [==============================] - 1s 2ms/step - loss: 1.8325e-07 - mse: 1.8325e-07\n",
            "LSTM MSE\n",
            "[1.8324719519569044e-07, 1.8324719519569044e-07]\n"
          ]
        }
      ]
    },
    {
      "cell_type": "markdown",
      "source": [
        "The MSE of LSTM model is lowest therefore it is better model compared to RNN and FNN"
      ],
      "metadata": {
        "id": "082Ko2gSCVon"
      }
    }
  ],
  "metadata": {
    "colab": {
      "provenance": []
    },
    "kernelspec": {
      "display_name": "Python 3",
      "language": "python",
      "name": "python3"
    },
    "language_info": {
      "codemirror_mode": {
        "name": "ipython",
        "version": 3
      },
      "file_extension": ".py",
      "mimetype": "text/x-python",
      "name": "python",
      "nbconvert_exporter": "python",
      "pygments_lexer": "ipython3",
      "version": "3.7.7"
    }
  },
  "nbformat": 4,
  "nbformat_minor": 0
}