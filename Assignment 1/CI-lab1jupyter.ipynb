{
  "cells": [
    {
      "cell_type": "markdown",
      "metadata": {
        "id": "QCqNLUcm01Hr"
      },
      "source": [
        "# Computational Intelligence\n",
        "\n",
        "Laboratories\n",
        "\n"
      ],
      "id": "QCqNLUcm01Hr"
    },
    {
      "cell_type": "markdown",
      "metadata": {
        "id": "IpZI97OC01Hv"
      },
      "source": [
        "# Python\n",
        "\n",
        "Language mostly used for data science.\n",
        "* simple and powerful syntax\n",
        "* flexible - many modules and system for their instalation\n",
        "* used worldwide \n",
        "* graphics\n",
        "* online interpreter\n",
        "\n",
        "\n",
        "## Version\n",
        "\n",
        "Versions 2.x and 3.x are not fully compatible. Last is 3.9.6.\n",
        "Use version 3.x or above for this course.\n",
        "\n",
        "https://www.python.org/\n",
        "\n",
        "\n",
        "On Linux systems you can install packages according to the distribution you are using. \n",
        "For example on Ubuntu, you can use the `apt-get install python3` command. \n",
        "\n",
        "On Windows 10, we recommend to install Anaconda containing Python and sophisticated packaging system\n",
        "for installing additional libraries. The Ananconda supports GPUs, if you have a NVIDIA graphic card on your computer.\n",
        "\n",
        "Another alternative is to use WSL (Windows Subsystem on Linux) to install Ubuntu on your computer. \n",
        "Python3 is working well on WSL Ubuntu, but GPUs are not available yet.\n",
        "\n",
        "## IDE\n",
        "\n",
        "Many products are available. For serious coding we recomend PyCharm. \n",
        "\n",
        "https://www.jetbrains.com/pycharm/\n",
        "\n",
        "* separate environments for each project\n",
        "* posibility to switch interpreter\n",
        "\n",
        "An alternative is to use Visual Studio Code (From Microsoft). It supports Jupyter notebooks on contrary to Pycham community version.\n",
        "\n",
        "\n",
        "## Jupyter\n",
        "\n",
        "Using Jupyter notebooks is an easy way how to interactively write programs in Python3. It can be installed under Linux distributions. On Ubuntu, use `apt-get install jupyter` command.\n",
        "\n",
        "Jupyter notebooks are also supported by Anaconda under Windows 10.\n",
        "\n",
        "## Google Colab\n",
        "\n",
        "Open environment for data processing in Python based on Jupyter notebooks.\n",
        "\n",
        "Google Colab providing CPUs and also GPUs for data processing. You need Google account to access Colab. If you do not have such account, please, create it.\n",
        "\n",
        "Google Colab is accesible by https://colab.research.google.com.\n",
        "\n",
        "Specific settings - https://www.javatpoint.com/python-programming-with-google-colab\n",
        "\n",
        "## The Python Programming Language\n",
        "\n",
        "Introduction - \n",
        "https://docs.python.org/3/tutorial/index.html\n",
        "\n",
        "Basic structures the same as in other languages.\n",
        "\n",
        "Very good tutorial is https://www.w3schools.com/python/default.asp\n",
        "\n"
      ],
      "id": "IpZI97OC01Hv"
    },
    {
      "cell_type": "markdown",
      "metadata": {
        "id": "bEmabsL701Hy"
      },
      "source": [
        "# Example 1\n",
        "\n",
        "Print the prime numbers from 1 to 100."
      ],
      "id": "bEmabsL701Hy"
    },
    {
      "cell_type": "code",
      "execution_count": 4,
      "metadata": {
        "id": "vMJsfI5e01Hz",
        "outputId": "1ae9a230-56ed-4391-905b-532ac7069066",
        "colab": {
          "base_uri": "https://localhost:8080/"
        }
      },
      "outputs": [
        {
          "output_type": "stream",
          "name": "stdout",
          "text": [
            "0\n",
            "1\n",
            "2\n",
            "3\n",
            "5\n",
            "7\n",
            "11\n",
            "13\n",
            "17\n",
            "19\n",
            "23\n",
            "29\n",
            "31\n",
            "37\n",
            "41\n",
            "43\n",
            "47\n",
            "53\n",
            "59\n",
            "61\n",
            "67\n",
            "71\n",
            "73\n",
            "79\n",
            "83\n",
            "89\n",
            "97\n"
          ]
        }
      ],
      "source": [
        "# Example 1\n",
        "for i in range(101):\n",
        "  prime=True\n",
        "  j=2\n",
        "  while prime and j<i:\n",
        "    if (i % (j))==0:\n",
        "      prime=False\n",
        "    j+=1\n",
        "  if prime:\n",
        "    print(i)"
      ],
      "id": "vMJsfI5e01Hz"
    },
    {
      "cell_type": "markdown",
      "metadata": {
        "id": "vmlOu7hA01H2"
      },
      "source": [
        "# Task 1\n",
        "\n",
        "Modify previous example and define function for testing if the number is a prime number."
      ],
      "id": "vmlOu7hA01H2"
    },
    {
      "cell_type": "code",
      "execution_count": 5,
      "metadata": {
        "colab": {
          "base_uri": "https://localhost:8080/"
        },
        "id": "buhPXVbl01H2",
        "outputId": "92cc32c5-3b42-486f-c717-a46f783d191e"
      },
      "outputs": [
        {
          "output_type": "stream",
          "name": "stdout",
          "text": [
            "0\n",
            "1\n",
            "2\n",
            "3\n",
            "5\n",
            "7\n",
            "11\n",
            "13\n",
            "17\n",
            "19\n",
            "23\n",
            "29\n",
            "31\n",
            "37\n",
            "41\n",
            "43\n",
            "47\n",
            "53\n",
            "59\n",
            "61\n",
            "67\n",
            "71\n",
            "73\n",
            "79\n",
            "83\n",
            "89\n",
            "97\n"
          ]
        }
      ],
      "source": [
        "#Write your code here\n",
        "import math\n",
        "\n",
        "def isprime(num):\n",
        "  for num in range(num):\n",
        "   if num >= 0:\n",
        "       for i in range(2, num):\n",
        "           if (num % i) == 0:\n",
        "               break\n",
        "       else:\n",
        "           print(num)\n",
        "\n",
        "isprime(101)"
      ],
      "id": "buhPXVbl01H2"
    },
    {
      "cell_type": "markdown",
      "metadata": {
        "id": "9vYGlgky01H3"
      },
      "source": [
        "# Task 2\n",
        "\n",
        "Modify the previous task and define class finding the prime numbers in selected range.\n"
      ],
      "id": "9vYGlgky01H3"
    },
    {
      "cell_type": "code",
      "execution_count": 6,
      "metadata": {
        "id": "BBpmjqhG01H3",
        "outputId": "71e8aaa7-c1f1-4bba-e603-44f6b1df95f0",
        "colab": {
          "base_uri": "https://localhost:8080/"
        }
      },
      "outputs": [
        {
          "output_type": "stream",
          "name": "stdout",
          "text": [
            "0\n",
            "1\n",
            "2\n",
            "3\n",
            "5\n",
            "7\n",
            "11\n",
            "13\n",
            "17\n",
            "19\n",
            "23\n",
            "29\n",
            "31\n",
            "37\n",
            "41\n",
            "43\n",
            "47\n",
            "53\n",
            "59\n",
            "61\n",
            "67\n",
            "71\n",
            "73\n",
            "79\n",
            "83\n",
            "89\n",
            "97\n"
          ]
        }
      ],
      "source": [
        "class IsPrime:\n",
        "    def __init__(self, start, stop):\n",
        "        self.start = start\n",
        "        self.stop = stop\n",
        "    def isPrimeNumber(self):\n",
        "        # check for factors\n",
        "        for num in range(self.start, self.stop):\n",
        "            if num >= 0:\n",
        "                for i in range(2,num):\n",
        "                    if(num % i) == 0:\n",
        "                        break\n",
        "                else:\n",
        "                    print(num)\n",
        "isPrimeObj = IsPrime(0,101)\n",
        "isPrimeObj.isPrimeNumber()"
      ],
      "id": "BBpmjqhG01H3"
    },
    {
      "cell_type": "markdown",
      "metadata": {
        "id": "8v0zaRo101H4"
      },
      "source": [
        "# Task 3\n",
        "\n",
        "Load Iris dataset from https://archive.ics.uci.edu/ml/machine-learning-databases/iris/iris.data.\n"
      ],
      "id": "8v0zaRo101H4"
    },
    {
      "cell_type": "code",
      "execution_count": 7,
      "metadata": {
        "colab": {
          "base_uri": "https://localhost:8080/",
          "height": 206
        },
        "id": "HpYdkmqA01H4",
        "outputId": "4e363e02-5af8-40c7-b43e-b3df25102cc2"
      },
      "outputs": [
        {
          "output_type": "execute_result",
          "data": {
            "text/plain": [
              "     0    1    2    3            4\n",
              "0  5.1  3.5  1.4  0.2  Iris-setosa\n",
              "1  4.9  3.0  1.4  0.2  Iris-setosa\n",
              "2  4.7  3.2  1.3  0.2  Iris-setosa\n",
              "3  4.6  3.1  1.5  0.2  Iris-setosa\n",
              "4  5.0  3.6  1.4  0.2  Iris-setosa"
            ],
            "text/html": [
              "\n",
              "  <div id=\"df-ec64dc25-c3d7-4d8a-a98b-816d6a1986d5\">\n",
              "    <div class=\"colab-df-container\">\n",
              "      <div>\n",
              "<style scoped>\n",
              "    .dataframe tbody tr th:only-of-type {\n",
              "        vertical-align: middle;\n",
              "    }\n",
              "\n",
              "    .dataframe tbody tr th {\n",
              "        vertical-align: top;\n",
              "    }\n",
              "\n",
              "    .dataframe thead th {\n",
              "        text-align: right;\n",
              "    }\n",
              "</style>\n",
              "<table border=\"1\" class=\"dataframe\">\n",
              "  <thead>\n",
              "    <tr style=\"text-align: right;\">\n",
              "      <th></th>\n",
              "      <th>0</th>\n",
              "      <th>1</th>\n",
              "      <th>2</th>\n",
              "      <th>3</th>\n",
              "      <th>4</th>\n",
              "    </tr>\n",
              "  </thead>\n",
              "  <tbody>\n",
              "    <tr>\n",
              "      <th>0</th>\n",
              "      <td>5.1</td>\n",
              "      <td>3.5</td>\n",
              "      <td>1.4</td>\n",
              "      <td>0.2</td>\n",
              "      <td>Iris-setosa</td>\n",
              "    </tr>\n",
              "    <tr>\n",
              "      <th>1</th>\n",
              "      <td>4.9</td>\n",
              "      <td>3.0</td>\n",
              "      <td>1.4</td>\n",
              "      <td>0.2</td>\n",
              "      <td>Iris-setosa</td>\n",
              "    </tr>\n",
              "    <tr>\n",
              "      <th>2</th>\n",
              "      <td>4.7</td>\n",
              "      <td>3.2</td>\n",
              "      <td>1.3</td>\n",
              "      <td>0.2</td>\n",
              "      <td>Iris-setosa</td>\n",
              "    </tr>\n",
              "    <tr>\n",
              "      <th>3</th>\n",
              "      <td>4.6</td>\n",
              "      <td>3.1</td>\n",
              "      <td>1.5</td>\n",
              "      <td>0.2</td>\n",
              "      <td>Iris-setosa</td>\n",
              "    </tr>\n",
              "    <tr>\n",
              "      <th>4</th>\n",
              "      <td>5.0</td>\n",
              "      <td>3.6</td>\n",
              "      <td>1.4</td>\n",
              "      <td>0.2</td>\n",
              "      <td>Iris-setosa</td>\n",
              "    </tr>\n",
              "  </tbody>\n",
              "</table>\n",
              "</div>\n",
              "      <button class=\"colab-df-convert\" onclick=\"convertToInteractive('df-ec64dc25-c3d7-4d8a-a98b-816d6a1986d5')\"\n",
              "              title=\"Convert this dataframe to an interactive table.\"\n",
              "              style=\"display:none;\">\n",
              "        \n",
              "  <svg xmlns=\"http://www.w3.org/2000/svg\" height=\"24px\"viewBox=\"0 0 24 24\"\n",
              "       width=\"24px\">\n",
              "    <path d=\"M0 0h24v24H0V0z\" fill=\"none\"/>\n",
              "    <path d=\"M18.56 5.44l.94 2.06.94-2.06 2.06-.94-2.06-.94-.94-2.06-.94 2.06-2.06.94zm-11 1L8.5 8.5l.94-2.06 2.06-.94-2.06-.94L8.5 2.5l-.94 2.06-2.06.94zm10 10l.94 2.06.94-2.06 2.06-.94-2.06-.94-.94-2.06-.94 2.06-2.06.94z\"/><path d=\"M17.41 7.96l-1.37-1.37c-.4-.4-.92-.59-1.43-.59-.52 0-1.04.2-1.43.59L10.3 9.45l-7.72 7.72c-.78.78-.78 2.05 0 2.83L4 21.41c.39.39.9.59 1.41.59.51 0 1.02-.2 1.41-.59l7.78-7.78 2.81-2.81c.8-.78.8-2.07 0-2.86zM5.41 20L4 18.59l7.72-7.72 1.47 1.35L5.41 20z\"/>\n",
              "  </svg>\n",
              "      </button>\n",
              "      \n",
              "  <style>\n",
              "    .colab-df-container {\n",
              "      display:flex;\n",
              "      flex-wrap:wrap;\n",
              "      gap: 12px;\n",
              "    }\n",
              "\n",
              "    .colab-df-convert {\n",
              "      background-color: #E8F0FE;\n",
              "      border: none;\n",
              "      border-radius: 50%;\n",
              "      cursor: pointer;\n",
              "      display: none;\n",
              "      fill: #1967D2;\n",
              "      height: 32px;\n",
              "      padding: 0 0 0 0;\n",
              "      width: 32px;\n",
              "    }\n",
              "\n",
              "    .colab-df-convert:hover {\n",
              "      background-color: #E2EBFA;\n",
              "      box-shadow: 0px 1px 2px rgba(60, 64, 67, 0.3), 0px 1px 3px 1px rgba(60, 64, 67, 0.15);\n",
              "      fill: #174EA6;\n",
              "    }\n",
              "\n",
              "    [theme=dark] .colab-df-convert {\n",
              "      background-color: #3B4455;\n",
              "      fill: #D2E3FC;\n",
              "    }\n",
              "\n",
              "    [theme=dark] .colab-df-convert:hover {\n",
              "      background-color: #434B5C;\n",
              "      box-shadow: 0px 1px 3px 1px rgba(0, 0, 0, 0.15);\n",
              "      filter: drop-shadow(0px 1px 2px rgba(0, 0, 0, 0.3));\n",
              "      fill: #FFFFFF;\n",
              "    }\n",
              "  </style>\n",
              "\n",
              "      <script>\n",
              "        const buttonEl =\n",
              "          document.querySelector('#df-ec64dc25-c3d7-4d8a-a98b-816d6a1986d5 button.colab-df-convert');\n",
              "        buttonEl.style.display =\n",
              "          google.colab.kernel.accessAllowed ? 'block' : 'none';\n",
              "\n",
              "        async function convertToInteractive(key) {\n",
              "          const element = document.querySelector('#df-ec64dc25-c3d7-4d8a-a98b-816d6a1986d5');\n",
              "          const dataTable =\n",
              "            await google.colab.kernel.invokeFunction('convertToInteractive',\n",
              "                                                     [key], {});\n",
              "          if (!dataTable) return;\n",
              "\n",
              "          const docLinkHtml = 'Like what you see? Visit the ' +\n",
              "            '<a target=\"_blank\" href=https://colab.research.google.com/notebooks/data_table.ipynb>data table notebook</a>'\n",
              "            + ' to learn more about interactive tables.';\n",
              "          element.innerHTML = '';\n",
              "          dataTable['output_type'] = 'display_data';\n",
              "          await google.colab.output.renderOutput(dataTable, element);\n",
              "          const docLink = document.createElement('div');\n",
              "          docLink.innerHTML = docLinkHtml;\n",
              "          element.appendChild(docLink);\n",
              "        }\n",
              "      </script>\n",
              "    </div>\n",
              "  </div>\n",
              "  "
            ]
          },
          "metadata": {},
          "execution_count": 7
        }
      ],
      "source": [
        "#Write your code here\n",
        "import pandas as pd\n",
        "df = pd.read_csv(\"https://archive.ics.uci.edu/ml/machine-learning-databases/iris/iris.data\", header=None)\n",
        "df.head()\n"
      ],
      "id": "HpYdkmqA01H4"
    },
    {
      "cell_type": "markdown",
      "metadata": {
        "id": "ldO2nPT501H5"
      },
      "source": [
        "## Task 4\n",
        "\n",
        "Print the content of the **iris_dataset** variable."
      ],
      "id": "ldO2nPT501H5"
    },
    {
      "cell_type": "code",
      "execution_count": 8,
      "metadata": {
        "colab": {
          "base_uri": "https://localhost:8080/",
          "height": 424
        },
        "id": "-54JBqZn01H5",
        "outputId": "9ebfcf74-c5fe-4bdc-eda6-38561b534220"
      },
      "outputs": [
        {
          "output_type": "execute_result",
          "data": {
            "text/plain": [
              "     slength  swidth  plength  pwidth         species\n",
              "0        5.1     3.5      1.4     0.2     Iris-setosa\n",
              "1        4.9     3.0      1.4     0.2     Iris-setosa\n",
              "2        4.7     3.2      1.3     0.2     Iris-setosa\n",
              "3        4.6     3.1      1.5     0.2     Iris-setosa\n",
              "4        5.0     3.6      1.4     0.2     Iris-setosa\n",
              "..       ...     ...      ...     ...             ...\n",
              "145      6.7     3.0      5.2     2.3  Iris-virginica\n",
              "146      6.3     2.5      5.0     1.9  Iris-virginica\n",
              "147      6.5     3.0      5.2     2.0  Iris-virginica\n",
              "148      6.2     3.4      5.4     2.3  Iris-virginica\n",
              "149      5.9     3.0      5.1     1.8  Iris-virginica\n",
              "\n",
              "[150 rows x 5 columns]"
            ],
            "text/html": [
              "\n",
              "  <div id=\"df-ef76ae1d-0da0-4c04-8ca6-8f44b99e522a\">\n",
              "    <div class=\"colab-df-container\">\n",
              "      <div>\n",
              "<style scoped>\n",
              "    .dataframe tbody tr th:only-of-type {\n",
              "        vertical-align: middle;\n",
              "    }\n",
              "\n",
              "    .dataframe tbody tr th {\n",
              "        vertical-align: top;\n",
              "    }\n",
              "\n",
              "    .dataframe thead th {\n",
              "        text-align: right;\n",
              "    }\n",
              "</style>\n",
              "<table border=\"1\" class=\"dataframe\">\n",
              "  <thead>\n",
              "    <tr style=\"text-align: right;\">\n",
              "      <th></th>\n",
              "      <th>slength</th>\n",
              "      <th>swidth</th>\n",
              "      <th>plength</th>\n",
              "      <th>pwidth</th>\n",
              "      <th>species</th>\n",
              "    </tr>\n",
              "  </thead>\n",
              "  <tbody>\n",
              "    <tr>\n",
              "      <th>0</th>\n",
              "      <td>5.1</td>\n",
              "      <td>3.5</td>\n",
              "      <td>1.4</td>\n",
              "      <td>0.2</td>\n",
              "      <td>Iris-setosa</td>\n",
              "    </tr>\n",
              "    <tr>\n",
              "      <th>1</th>\n",
              "      <td>4.9</td>\n",
              "      <td>3.0</td>\n",
              "      <td>1.4</td>\n",
              "      <td>0.2</td>\n",
              "      <td>Iris-setosa</td>\n",
              "    </tr>\n",
              "    <tr>\n",
              "      <th>2</th>\n",
              "      <td>4.7</td>\n",
              "      <td>3.2</td>\n",
              "      <td>1.3</td>\n",
              "      <td>0.2</td>\n",
              "      <td>Iris-setosa</td>\n",
              "    </tr>\n",
              "    <tr>\n",
              "      <th>3</th>\n",
              "      <td>4.6</td>\n",
              "      <td>3.1</td>\n",
              "      <td>1.5</td>\n",
              "      <td>0.2</td>\n",
              "      <td>Iris-setosa</td>\n",
              "    </tr>\n",
              "    <tr>\n",
              "      <th>4</th>\n",
              "      <td>5.0</td>\n",
              "      <td>3.6</td>\n",
              "      <td>1.4</td>\n",
              "      <td>0.2</td>\n",
              "      <td>Iris-setosa</td>\n",
              "    </tr>\n",
              "    <tr>\n",
              "      <th>...</th>\n",
              "      <td>...</td>\n",
              "      <td>...</td>\n",
              "      <td>...</td>\n",
              "      <td>...</td>\n",
              "      <td>...</td>\n",
              "    </tr>\n",
              "    <tr>\n",
              "      <th>145</th>\n",
              "      <td>6.7</td>\n",
              "      <td>3.0</td>\n",
              "      <td>5.2</td>\n",
              "      <td>2.3</td>\n",
              "      <td>Iris-virginica</td>\n",
              "    </tr>\n",
              "    <tr>\n",
              "      <th>146</th>\n",
              "      <td>6.3</td>\n",
              "      <td>2.5</td>\n",
              "      <td>5.0</td>\n",
              "      <td>1.9</td>\n",
              "      <td>Iris-virginica</td>\n",
              "    </tr>\n",
              "    <tr>\n",
              "      <th>147</th>\n",
              "      <td>6.5</td>\n",
              "      <td>3.0</td>\n",
              "      <td>5.2</td>\n",
              "      <td>2.0</td>\n",
              "      <td>Iris-virginica</td>\n",
              "    </tr>\n",
              "    <tr>\n",
              "      <th>148</th>\n",
              "      <td>6.2</td>\n",
              "      <td>3.4</td>\n",
              "      <td>5.4</td>\n",
              "      <td>2.3</td>\n",
              "      <td>Iris-virginica</td>\n",
              "    </tr>\n",
              "    <tr>\n",
              "      <th>149</th>\n",
              "      <td>5.9</td>\n",
              "      <td>3.0</td>\n",
              "      <td>5.1</td>\n",
              "      <td>1.8</td>\n",
              "      <td>Iris-virginica</td>\n",
              "    </tr>\n",
              "  </tbody>\n",
              "</table>\n",
              "<p>150 rows × 5 columns</p>\n",
              "</div>\n",
              "      <button class=\"colab-df-convert\" onclick=\"convertToInteractive('df-ef76ae1d-0da0-4c04-8ca6-8f44b99e522a')\"\n",
              "              title=\"Convert this dataframe to an interactive table.\"\n",
              "              style=\"display:none;\">\n",
              "        \n",
              "  <svg xmlns=\"http://www.w3.org/2000/svg\" height=\"24px\"viewBox=\"0 0 24 24\"\n",
              "       width=\"24px\">\n",
              "    <path d=\"M0 0h24v24H0V0z\" fill=\"none\"/>\n",
              "    <path d=\"M18.56 5.44l.94 2.06.94-2.06 2.06-.94-2.06-.94-.94-2.06-.94 2.06-2.06.94zm-11 1L8.5 8.5l.94-2.06 2.06-.94-2.06-.94L8.5 2.5l-.94 2.06-2.06.94zm10 10l.94 2.06.94-2.06 2.06-.94-2.06-.94-.94-2.06-.94 2.06-2.06.94z\"/><path d=\"M17.41 7.96l-1.37-1.37c-.4-.4-.92-.59-1.43-.59-.52 0-1.04.2-1.43.59L10.3 9.45l-7.72 7.72c-.78.78-.78 2.05 0 2.83L4 21.41c.39.39.9.59 1.41.59.51 0 1.02-.2 1.41-.59l7.78-7.78 2.81-2.81c.8-.78.8-2.07 0-2.86zM5.41 20L4 18.59l7.72-7.72 1.47 1.35L5.41 20z\"/>\n",
              "  </svg>\n",
              "      </button>\n",
              "      \n",
              "  <style>\n",
              "    .colab-df-container {\n",
              "      display:flex;\n",
              "      flex-wrap:wrap;\n",
              "      gap: 12px;\n",
              "    }\n",
              "\n",
              "    .colab-df-convert {\n",
              "      background-color: #E8F0FE;\n",
              "      border: none;\n",
              "      border-radius: 50%;\n",
              "      cursor: pointer;\n",
              "      display: none;\n",
              "      fill: #1967D2;\n",
              "      height: 32px;\n",
              "      padding: 0 0 0 0;\n",
              "      width: 32px;\n",
              "    }\n",
              "\n",
              "    .colab-df-convert:hover {\n",
              "      background-color: #E2EBFA;\n",
              "      box-shadow: 0px 1px 2px rgba(60, 64, 67, 0.3), 0px 1px 3px 1px rgba(60, 64, 67, 0.15);\n",
              "      fill: #174EA6;\n",
              "    }\n",
              "\n",
              "    [theme=dark] .colab-df-convert {\n",
              "      background-color: #3B4455;\n",
              "      fill: #D2E3FC;\n",
              "    }\n",
              "\n",
              "    [theme=dark] .colab-df-convert:hover {\n",
              "      background-color: #434B5C;\n",
              "      box-shadow: 0px 1px 3px 1px rgba(0, 0, 0, 0.15);\n",
              "      filter: drop-shadow(0px 1px 2px rgba(0, 0, 0, 0.3));\n",
              "      fill: #FFFFFF;\n",
              "    }\n",
              "  </style>\n",
              "\n",
              "      <script>\n",
              "        const buttonEl =\n",
              "          document.querySelector('#df-ef76ae1d-0da0-4c04-8ca6-8f44b99e522a button.colab-df-convert');\n",
              "        buttonEl.style.display =\n",
              "          google.colab.kernel.accessAllowed ? 'block' : 'none';\n",
              "\n",
              "        async function convertToInteractive(key) {\n",
              "          const element = document.querySelector('#df-ef76ae1d-0da0-4c04-8ca6-8f44b99e522a');\n",
              "          const dataTable =\n",
              "            await google.colab.kernel.invokeFunction('convertToInteractive',\n",
              "                                                     [key], {});\n",
              "          if (!dataTable) return;\n",
              "\n",
              "          const docLinkHtml = 'Like what you see? Visit the ' +\n",
              "            '<a target=\"_blank\" href=https://colab.research.google.com/notebooks/data_table.ipynb>data table notebook</a>'\n",
              "            + ' to learn more about interactive tables.';\n",
              "          element.innerHTML = '';\n",
              "          dataTable['output_type'] = 'display_data';\n",
              "          await google.colab.output.renderOutput(dataTable, element);\n",
              "          const docLink = document.createElement('div');\n",
              "          docLink.innerHTML = docLinkHtml;\n",
              "          element.appendChild(docLink);\n",
              "        }\n",
              "      </script>\n",
              "    </div>\n",
              "  </div>\n",
              "  "
            ]
          },
          "metadata": {},
          "execution_count": 8
        }
      ],
      "source": [
        "df.columns = ['slength','swidth','plength','pwidth','species']\n",
        "df"
      ],
      "id": "-54JBqZn01H5"
    },
    {
      "cell_type": "markdown",
      "metadata": {
        "id": "H30C13Et01H5"
      },
      "source": [
        "## Task 5\n",
        "\n",
        "Rencode labels to three numerical colums according to the table:\n",
        "\n",
        "Label | Output[0] | Output[1] | Output[2]\n",
        ":--- | :---: | :---: | :---: |\n",
        "Iris-versicolor | 1 | 0 | 0 \n",
        "Iris-virginica  | 0 | 1 | 0\n",
        "Iris-setosa     | 0 | 0 | 1\n",
        "\n",
        "so that the first row of the Iris dataset will look like ``5.1 3.5 1.4 0.2 0 0 1``  \n",
        "\n"
      ],
      "id": "H30C13Et01H5"
    },
    {
      "cell_type": "code",
      "execution_count": 9,
      "metadata": {
        "colab": {
          "base_uri": "https://localhost:8080/"
        },
        "id": "cUKPoR1P01H6",
        "outputId": "042c79ec-d763-4550-8c66-c47773c59ef3"
      },
      "outputs": [
        {
          "output_type": "stream",
          "name": "stdout",
          "text": [
            "[[5.1 3.5 1.4 ... 1.  0.  0. ]\n",
            " [4.9 3.  1.4 ... 1.  0.  0. ]\n",
            " [4.7 3.2 1.3 ... 1.  0.  0. ]\n",
            " ...\n",
            " [6.5 3.  5.2 ... 0.  0.  1. ]\n",
            " [6.2 3.4 5.4 ... 0.  0.  1. ]\n",
            " [5.9 3.  5.1 ... 0.  0.  1. ]]\n"
          ]
        }
      ],
      "source": [
        "import numpy as np\n",
        "col0 = df['slength']\n",
        "col1 = df['swidth']\n",
        "col2 = df['plength']\n",
        "col3 = df['pwidth']\n",
        "col4 = pd.get_dummies(df['species'])\n",
        "#print(col4)\n",
        "irisDfEncoded = pd.concat([col0,col1,col2,col3,col4],axis=1).values\n",
        "print(irisDfEncoded)"
      ],
      "id": "cUKPoR1P01H6"
    },
    {
      "cell_type": "markdown",
      "metadata": {
        "id": "TpBqXIsZ01H7"
      },
      "source": [
        "## Task 6\n",
        "\n",
        "Split the ``iris_dataset_enc`` into two numpy arrays. The ``iris_features`` will contain four numerical columns containing features and the ``iris_desired`` will contain three numerical outputs containing desired outputs."
      ],
      "id": "TpBqXIsZ01H7"
    },
    {
      "cell_type": "code",
      "execution_count": 10,
      "metadata": {
        "colab": {
          "base_uri": "https://localhost:8080/"
        },
        "id": "RgtIKhYt01H7",
        "outputId": "dfe5b132-d9e9-4b5d-de75-ed04c74c4c8b"
      },
      "outputs": [
        {
          "output_type": "stream",
          "name": "stdout",
          "text": [
            "[[5.1 3.5 1.4 0.2]\n",
            " [4.9 3.  1.4 0.2]\n",
            " [4.7 3.2 1.3 0.2]\n",
            " [4.6 3.1 1.5 0.2]\n",
            " [5.  3.6 1.4 0.2]\n",
            " [5.4 3.9 1.7 0.4]\n",
            " [4.6 3.4 1.4 0.3]\n",
            " [5.  3.4 1.5 0.2]\n",
            " [4.4 2.9 1.4 0.2]\n",
            " [4.9 3.1 1.5 0.1]\n",
            " [5.4 3.7 1.5 0.2]\n",
            " [4.8 3.4 1.6 0.2]\n",
            " [4.8 3.  1.4 0.1]\n",
            " [4.3 3.  1.1 0.1]\n",
            " [5.8 4.  1.2 0.2]\n",
            " [5.7 4.4 1.5 0.4]\n",
            " [5.4 3.9 1.3 0.4]\n",
            " [5.1 3.5 1.4 0.3]\n",
            " [5.7 3.8 1.7 0.3]\n",
            " [5.1 3.8 1.5 0.3]\n",
            " [5.4 3.4 1.7 0.2]\n",
            " [5.1 3.7 1.5 0.4]\n",
            " [4.6 3.6 1.  0.2]\n",
            " [5.1 3.3 1.7 0.5]\n",
            " [4.8 3.4 1.9 0.2]\n",
            " [5.  3.  1.6 0.2]\n",
            " [5.  3.4 1.6 0.4]\n",
            " [5.2 3.5 1.5 0.2]\n",
            " [5.2 3.4 1.4 0.2]\n",
            " [4.7 3.2 1.6 0.2]\n",
            " [4.8 3.1 1.6 0.2]\n",
            " [5.4 3.4 1.5 0.4]\n",
            " [5.2 4.1 1.5 0.1]\n",
            " [5.5 4.2 1.4 0.2]\n",
            " [4.9 3.1 1.5 0.1]\n",
            " [5.  3.2 1.2 0.2]\n",
            " [5.5 3.5 1.3 0.2]\n",
            " [4.9 3.1 1.5 0.1]\n",
            " [4.4 3.  1.3 0.2]\n",
            " [5.1 3.4 1.5 0.2]\n",
            " [5.  3.5 1.3 0.3]\n",
            " [4.5 2.3 1.3 0.3]\n",
            " [4.4 3.2 1.3 0.2]\n",
            " [5.  3.5 1.6 0.6]\n",
            " [5.1 3.8 1.9 0.4]\n",
            " [4.8 3.  1.4 0.3]\n",
            " [5.1 3.8 1.6 0.2]\n",
            " [4.6 3.2 1.4 0.2]\n",
            " [5.3 3.7 1.5 0.2]\n",
            " [5.  3.3 1.4 0.2]\n",
            " [7.  3.2 4.7 1.4]\n",
            " [6.4 3.2 4.5 1.5]\n",
            " [6.9 3.1 4.9 1.5]\n",
            " [5.5 2.3 4.  1.3]\n",
            " [6.5 2.8 4.6 1.5]\n",
            " [5.7 2.8 4.5 1.3]\n",
            " [6.3 3.3 4.7 1.6]\n",
            " [4.9 2.4 3.3 1. ]\n",
            " [6.6 2.9 4.6 1.3]\n",
            " [5.2 2.7 3.9 1.4]\n",
            " [5.  2.  3.5 1. ]\n",
            " [5.9 3.  4.2 1.5]\n",
            " [6.  2.2 4.  1. ]\n",
            " [6.1 2.9 4.7 1.4]\n",
            " [5.6 2.9 3.6 1.3]\n",
            " [6.7 3.1 4.4 1.4]\n",
            " [5.6 3.  4.5 1.5]\n",
            " [5.8 2.7 4.1 1. ]\n",
            " [6.2 2.2 4.5 1.5]\n",
            " [5.6 2.5 3.9 1.1]\n",
            " [5.9 3.2 4.8 1.8]\n",
            " [6.1 2.8 4.  1.3]\n",
            " [6.3 2.5 4.9 1.5]\n",
            " [6.1 2.8 4.7 1.2]\n",
            " [6.4 2.9 4.3 1.3]\n",
            " [6.6 3.  4.4 1.4]\n",
            " [6.8 2.8 4.8 1.4]\n",
            " [6.7 3.  5.  1.7]\n",
            " [6.  2.9 4.5 1.5]\n",
            " [5.7 2.6 3.5 1. ]\n",
            " [5.5 2.4 3.8 1.1]\n",
            " [5.5 2.4 3.7 1. ]\n",
            " [5.8 2.7 3.9 1.2]\n",
            " [6.  2.7 5.1 1.6]\n",
            " [5.4 3.  4.5 1.5]\n",
            " [6.  3.4 4.5 1.6]\n",
            " [6.7 3.1 4.7 1.5]\n",
            " [6.3 2.3 4.4 1.3]\n",
            " [5.6 3.  4.1 1.3]\n",
            " [5.5 2.5 4.  1.3]\n",
            " [5.5 2.6 4.4 1.2]\n",
            " [6.1 3.  4.6 1.4]\n",
            " [5.8 2.6 4.  1.2]\n",
            " [5.  2.3 3.3 1. ]\n",
            " [5.6 2.7 4.2 1.3]\n",
            " [5.7 3.  4.2 1.2]\n",
            " [5.7 2.9 4.2 1.3]\n",
            " [6.2 2.9 4.3 1.3]\n",
            " [5.1 2.5 3.  1.1]\n",
            " [5.7 2.8 4.1 1.3]\n",
            " [6.3 3.3 6.  2.5]\n",
            " [5.8 2.7 5.1 1.9]\n",
            " [7.1 3.  5.9 2.1]\n",
            " [6.3 2.9 5.6 1.8]\n",
            " [6.5 3.  5.8 2.2]\n",
            " [7.6 3.  6.6 2.1]\n",
            " [4.9 2.5 4.5 1.7]\n",
            " [7.3 2.9 6.3 1.8]\n",
            " [6.7 2.5 5.8 1.8]\n",
            " [7.2 3.6 6.1 2.5]\n",
            " [6.5 3.2 5.1 2. ]\n",
            " [6.4 2.7 5.3 1.9]\n",
            " [6.8 3.  5.5 2.1]\n",
            " [5.7 2.5 5.  2. ]\n",
            " [5.8 2.8 5.1 2.4]\n",
            " [6.4 3.2 5.3 2.3]\n",
            " [6.5 3.  5.5 1.8]\n",
            " [7.7 3.8 6.7 2.2]\n",
            " [7.7 2.6 6.9 2.3]\n",
            " [6.  2.2 5.  1.5]\n",
            " [6.9 3.2 5.7 2.3]\n",
            " [5.6 2.8 4.9 2. ]\n",
            " [7.7 2.8 6.7 2. ]\n",
            " [6.3 2.7 4.9 1.8]\n",
            " [6.7 3.3 5.7 2.1]\n",
            " [7.2 3.2 6.  1.8]\n",
            " [6.2 2.8 4.8 1.8]\n",
            " [6.1 3.  4.9 1.8]\n",
            " [6.4 2.8 5.6 2.1]\n",
            " [7.2 3.  5.8 1.6]\n",
            " [7.4 2.8 6.1 1.9]\n",
            " [7.9 3.8 6.4 2. ]\n",
            " [6.4 2.8 5.6 2.2]\n",
            " [6.3 2.8 5.1 1.5]\n",
            " [6.1 2.6 5.6 1.4]\n",
            " [7.7 3.  6.1 2.3]\n",
            " [6.3 3.4 5.6 2.4]\n",
            " [6.4 3.1 5.5 1.8]\n",
            " [6.  3.  4.8 1.8]\n",
            " [6.9 3.1 5.4 2.1]\n",
            " [6.7 3.1 5.6 2.4]\n",
            " [6.9 3.1 5.1 2.3]\n",
            " [5.8 2.7 5.1 1.9]\n",
            " [6.8 3.2 5.9 2.3]\n",
            " [6.7 3.3 5.7 2.5]\n",
            " [6.7 3.  5.2 2.3]\n",
            " [6.3 2.5 5.  1.9]\n",
            " [6.5 3.  5.2 2. ]\n",
            " [6.2 3.4 5.4 2.3]\n",
            " [5.9 3.  5.1 1.8]]\n"
          ]
        }
      ],
      "source": [
        "#Write your code here\n",
        "iris_features = pd.concat([col0,col1,col2,col3],axis=1).values\n",
        "iris_desired = col4\n",
        "print(iris_features)"
      ],
      "id": "RgtIKhYt01H7"
    },
    {
      "cell_type": "code",
      "execution_count": 11,
      "metadata": {
        "colab": {
          "base_uri": "https://localhost:8080/"
        },
        "id": "35n49olZ01H7",
        "outputId": "195842ae-c6a0-4f7f-ff6c-6c87b899e93f"
      },
      "outputs": [
        {
          "output_type": "stream",
          "name": "stdout",
          "text": [
            "     Iris-setosa  Iris-versicolor  Iris-virginica\n",
            "0              1                0               0\n",
            "1              1                0               0\n",
            "2              1                0               0\n",
            "3              1                0               0\n",
            "4              1                0               0\n",
            "..           ...              ...             ...\n",
            "145            0                0               1\n",
            "146            0                0               1\n",
            "147            0                0               1\n",
            "148            0                0               1\n",
            "149            0                0               1\n",
            "\n",
            "[150 rows x 3 columns]\n"
          ]
        }
      ],
      "source": [
        "print(iris_desired)"
      ],
      "id": "35n49olZ01H7"
    },
    {
      "cell_type": "markdown",
      "metadata": {
        "id": "awKxcW3S01H8"
      },
      "source": [
        "## Task 7\n",
        "\n",
        "Normalize features in the ``iris_dataset`` into the range of $<0,1>$ using min-max norm according to the following formula:\n",
        "\n",
        "$$ y = \\frac{y_{max} - y_{min}}{x_{max}-x_{min}}(x - x_{min}) + y_{min} $$\n",
        "\n",
        "where $x$ is raw value and $y$ is the normalised value. The $y_{min}$ and $y_{max}$ determine the output range. The $x_{max}$ and $x_{min}$ denote the input range. \n",
        "\n",
        "For this task $y_{max}=1$, $y_{min}=0$. The $x_{max}$ and $x_{min}$ must be obtained from the dataset, for each column separately. \n",
        "\n",
        "The result prints with limited precision to two decimal digits (0.00)."
      ],
      "id": "awKxcW3S01H8"
    },
    {
      "cell_type": "code",
      "execution_count": 12,
      "metadata": {
        "colab": {
          "base_uri": "https://localhost:8080/"
        },
        "id": "bTNxqNb701H8",
        "outputId": "b079c39f-3ccd-4502-9b7a-775000908d2b"
      },
      "outputs": [
        {
          "output_type": "stream",
          "name": "stdout",
          "text": [
            "[4.3 2.  1.  0.1]\n",
            "[7.9 4.4 6.9 2.5]\n",
            "[0. 0. 0. 0.]\n",
            "[1. 1. 1. 1.]\n"
          ]
        }
      ],
      "source": [
        "#Write your code here\n",
        "x_min = np.min(iris_features,0)\n",
        "x_max = np.max(iris_features,0)\n",
        "y_min = np.zeros(4)\n",
        "y_max = np.ones(4)\n",
        "print(x_min)\n",
        "print(x_max)\n",
        "print(y_min)\n",
        "print(y_max)"
      ],
      "id": "bTNxqNb701H8"
    },
    {
      "cell_type": "code",
      "execution_count": 13,
      "metadata": {
        "colab": {
          "base_uri": "https://localhost:8080/"
        },
        "id": "TqH-o78P01H9",
        "outputId": "7c9ac26e-02d0-4a96-de38-81b974d5d022"
      },
      "outputs": [
        {
          "output_type": "stream",
          "name": "stdout",
          "text": [
            "[[0.22 0.62 0.07 0.04]\n",
            " [0.17 0.42 0.07 0.04]\n",
            " [0.11 0.5  0.05 0.04]\n",
            " [0.08 0.46 0.08 0.04]\n",
            " [0.19 0.67 0.07 0.04]\n",
            " [0.31 0.79 0.12 0.13]\n",
            " [0.08 0.58 0.07 0.08]\n",
            " [0.19 0.58 0.08 0.04]\n",
            " [0.03 0.37 0.07 0.04]\n",
            " [0.17 0.46 0.08 0.  ]\n",
            " [0.31 0.71 0.08 0.04]\n",
            " [0.14 0.58 0.1  0.04]\n",
            " [0.14 0.42 0.07 0.  ]\n",
            " [0.   0.42 0.02 0.  ]\n",
            " [0.42 0.83 0.03 0.04]\n",
            " [0.39 1.   0.08 0.13]\n",
            " [0.31 0.79 0.05 0.13]\n",
            " [0.22 0.62 0.07 0.08]\n",
            " [0.39 0.75 0.12 0.08]\n",
            " [0.22 0.75 0.08 0.08]\n",
            " [0.31 0.58 0.12 0.04]\n",
            " [0.22 0.71 0.08 0.13]\n",
            " [0.08 0.67 0.   0.04]\n",
            " [0.22 0.54 0.12 0.17]\n",
            " [0.14 0.58 0.15 0.04]\n",
            " [0.19 0.42 0.1  0.04]\n",
            " [0.19 0.58 0.1  0.13]\n",
            " [0.25 0.62 0.08 0.04]\n",
            " [0.25 0.58 0.07 0.04]\n",
            " [0.11 0.5  0.1  0.04]\n",
            " [0.14 0.46 0.1  0.04]\n",
            " [0.31 0.58 0.08 0.13]\n",
            " [0.25 0.87 0.08 0.  ]\n",
            " [0.33 0.92 0.07 0.04]\n",
            " [0.17 0.46 0.08 0.  ]\n",
            " [0.19 0.5  0.03 0.04]\n",
            " [0.33 0.62 0.05 0.04]\n",
            " [0.17 0.46 0.08 0.  ]\n",
            " [0.03 0.42 0.05 0.04]\n",
            " [0.22 0.58 0.08 0.04]\n",
            " [0.19 0.62 0.05 0.08]\n",
            " [0.06 0.12 0.05 0.08]\n",
            " [0.03 0.5  0.05 0.04]\n",
            " [0.19 0.62 0.1  0.21]\n",
            " [0.22 0.75 0.15 0.13]\n",
            " [0.14 0.42 0.07 0.08]\n",
            " [0.22 0.75 0.1  0.04]\n",
            " [0.08 0.5  0.07 0.04]\n",
            " [0.28 0.71 0.08 0.04]\n",
            " [0.19 0.54 0.07 0.04]\n",
            " [0.75 0.5  0.63 0.54]\n",
            " [0.58 0.5  0.59 0.58]\n",
            " [0.72 0.46 0.66 0.58]\n",
            " [0.33 0.12 0.51 0.5 ]\n",
            " [0.61 0.33 0.61 0.58]\n",
            " [0.39 0.33 0.59 0.5 ]\n",
            " [0.56 0.54 0.63 0.62]\n",
            " [0.17 0.17 0.39 0.38]\n",
            " [0.64 0.37 0.61 0.5 ]\n",
            " [0.25 0.29 0.49 0.54]\n",
            " [0.19 0.   0.42 0.38]\n",
            " [0.44 0.42 0.54 0.58]\n",
            " [0.47 0.08 0.51 0.38]\n",
            " [0.5  0.37 0.63 0.54]\n",
            " [0.36 0.37 0.44 0.5 ]\n",
            " [0.67 0.46 0.58 0.54]\n",
            " [0.36 0.42 0.59 0.58]\n",
            " [0.42 0.29 0.53 0.38]\n",
            " [0.53 0.08 0.59 0.58]\n",
            " [0.36 0.21 0.49 0.42]\n",
            " [0.44 0.5  0.64 0.71]\n",
            " [0.5  0.33 0.51 0.5 ]\n",
            " [0.56 0.21 0.66 0.58]\n",
            " [0.5  0.33 0.63 0.46]\n",
            " [0.58 0.37 0.56 0.5 ]\n",
            " [0.64 0.42 0.58 0.54]\n",
            " [0.69 0.33 0.64 0.54]\n",
            " [0.67 0.42 0.68 0.67]\n",
            " [0.47 0.37 0.59 0.58]\n",
            " [0.39 0.25 0.42 0.38]\n",
            " [0.33 0.17 0.47 0.42]\n",
            " [0.33 0.17 0.46 0.38]\n",
            " [0.42 0.29 0.49 0.46]\n",
            " [0.47 0.29 0.69 0.62]\n",
            " [0.31 0.42 0.59 0.58]\n",
            " [0.47 0.58 0.59 0.62]\n",
            " [0.67 0.46 0.63 0.58]\n",
            " [0.56 0.12 0.58 0.5 ]\n",
            " [0.36 0.42 0.53 0.5 ]\n",
            " [0.33 0.21 0.51 0.5 ]\n",
            " [0.33 0.25 0.58 0.46]\n",
            " [0.5  0.42 0.61 0.54]\n",
            " [0.42 0.25 0.51 0.46]\n",
            " [0.19 0.12 0.39 0.38]\n",
            " [0.36 0.29 0.54 0.5 ]\n",
            " [0.39 0.42 0.54 0.46]\n",
            " [0.39 0.37 0.54 0.5 ]\n",
            " [0.53 0.37 0.56 0.5 ]\n",
            " [0.22 0.21 0.34 0.42]\n",
            " [0.39 0.33 0.53 0.5 ]\n",
            " [0.56 0.54 0.85 1.  ]\n",
            " [0.42 0.29 0.69 0.75]\n",
            " [0.78 0.42 0.83 0.83]\n",
            " [0.56 0.37 0.78 0.71]\n",
            " [0.61 0.42 0.81 0.88]\n",
            " [0.92 0.42 0.95 0.83]\n",
            " [0.17 0.21 0.59 0.67]\n",
            " [0.83 0.37 0.9  0.71]\n",
            " [0.67 0.21 0.81 0.71]\n",
            " [0.81 0.67 0.86 1.  ]\n",
            " [0.61 0.5  0.69 0.79]\n",
            " [0.58 0.29 0.73 0.75]\n",
            " [0.69 0.42 0.76 0.83]\n",
            " [0.39 0.21 0.68 0.79]\n",
            " [0.42 0.33 0.69 0.96]\n",
            " [0.58 0.5  0.73 0.92]\n",
            " [0.61 0.42 0.76 0.71]\n",
            " [0.94 0.75 0.97 0.88]\n",
            " [0.94 0.25 1.   0.92]\n",
            " [0.47 0.08 0.68 0.58]\n",
            " [0.72 0.5  0.8  0.92]\n",
            " [0.36 0.33 0.66 0.79]\n",
            " [0.94 0.33 0.97 0.79]\n",
            " [0.56 0.29 0.66 0.71]\n",
            " [0.67 0.54 0.8  0.83]\n",
            " [0.81 0.5  0.85 0.71]\n",
            " [0.53 0.33 0.64 0.71]\n",
            " [0.5  0.42 0.66 0.71]\n",
            " [0.58 0.33 0.78 0.83]\n",
            " [0.81 0.42 0.81 0.62]\n",
            " [0.86 0.33 0.86 0.75]\n",
            " [1.   0.75 0.92 0.79]\n",
            " [0.58 0.33 0.78 0.88]\n",
            " [0.56 0.33 0.69 0.58]\n",
            " [0.5  0.25 0.78 0.54]\n",
            " [0.94 0.42 0.86 0.92]\n",
            " [0.56 0.58 0.78 0.96]\n",
            " [0.58 0.46 0.76 0.71]\n",
            " [0.47 0.42 0.64 0.71]\n",
            " [0.72 0.46 0.75 0.83]\n",
            " [0.67 0.46 0.78 0.96]\n",
            " [0.72 0.46 0.69 0.92]\n",
            " [0.42 0.29 0.69 0.75]\n",
            " [0.69 0.5  0.83 0.92]\n",
            " [0.67 0.54 0.8  1.  ]\n",
            " [0.67 0.42 0.71 0.92]\n",
            " [0.56 0.21 0.68 0.75]\n",
            " [0.61 0.42 0.71 0.79]\n",
            " [0.53 0.58 0.75 0.92]\n",
            " [0.44 0.42 0.69 0.71]]\n"
          ]
        }
      ],
      "source": [
        "#Write your code here\n",
        "y=((y_max-y_min)*(iris_features-x_min)+y_min)/(x_max-x_min)\n",
        "y = np.around(y, decimals=2)\n",
        "print(y)"
      ],
      "id": "TqH-o78P01H9"
    },
    {
      "cell_type": "code",
      "execution_count": 14,
      "metadata": {
        "id": "L_XS-Fw701H-",
        "outputId": "863bdce6-a477-44e0-a3f0-5327304bff5d",
        "colab": {
          "base_uri": "https://localhost:8080/",
          "height": 296
        }
      },
      "outputs": [
        {
          "output_type": "execute_result",
          "data": {
            "text/plain": [
              "<matplotlib.axes._subplots.AxesSubplot at 0x7f77d9dfee10>"
            ]
          },
          "metadata": {},
          "execution_count": 14
        },
        {
          "output_type": "display_data",
          "data": {
            "text/plain": [
              "<Figure size 432x288 with 1 Axes>"
            ],
            "image/png": "[encoded data removed]"
          },
          "metadata": {
            "needs_background": "light"
          }
        }
      ],
      "source": [
        "#Write your code here\n",
        "import seaborn as sns\n",
        "import warnings\n",
        "warnings.simplefilter(action='ignore', category=FutureWarning)\n",
        "\n",
        "df_scatter = pd.DataFrame(y, columns = ['slength','swidth','plength','pwidth'])\n",
        "df_scatter['species'] = df['species']\n",
        "\n",
        "sns.scatterplot(df_scatter['slength'],df_scatter['swidth'],hue=df_scatter['species'],\n",
        "                palette=['blue','red','green'],legend=False)"
      ],
      "id": "L_XS-Fw701H-"
    },
    {
      "cell_type": "markdown",
      "metadata": {
        "id": "lfKH4aMd01H-"
      },
      "source": [
        "# Task 8\n",
        "\n",
        "The sigmoid function is frequently used activation of a neuron. It is defined by\n",
        "\n",
        "$$y=\\sigma(x)=\\frac{1}{1+e^{-x}}$$ \n",
        "\n",
        "Draw a graf of this function for $x\\in <-8,8>$. "
      ],
      "id": "lfKH4aMd01H-"
    },
    {
      "cell_type": "code",
      "execution_count": 12,
      "metadata": {
        "id": "LDHPO7G501H_",
        "outputId": "30212b61-1ec1-4d1c-de3f-2353cfaebde1",
        "colab": {
          "base_uri": "https://localhost:8080/",
          "height": 279
        }
      },
      "outputs": [
        {
          "output_type": "display_data",
          "data": {
            "text/plain": [
              "<Figure size 432x288 with 1 Axes>"
            ],
            "image/png": "[encoded data removed]"
          },
          "metadata": {
            "needs_background": "light"
          }
        }
      ],
      "source": [
        "#Write your code here\n",
        "import math\n",
        "import numpy as np\n",
        "import matplotlib.pyplot as plt\n",
        "\n",
        "sigmoid = lambda x: 1 / (1 + np.exp(-x))\n",
        "x = np.arange(-8., 8., 0.2)\n",
        "sig = sigmoid(x)\n",
        "plt.plot(x,sig)\n",
        "plt.axhline(0, color='grey', ls='--')\n",
        "plt.axhline(1, color='grey', ls='--')\n",
        "plt.axhline(0.5, color='grey', ls='--')\n",
        "plt.axvline(0, color='grey')\n",
        "plt.xlabel('x')\n",
        "plt.ylabel('y')\n",
        "plt.legend(['\\u03C3 = ' +r'$\\frac{1}{1+e^-x}$'])\n",
        "plt.show()"
      ],
      "id": "LDHPO7G501H_"
    },
    {
      "cell_type": "markdown",
      "metadata": {
        "id": "YMivwiEh01H_"
      },
      "source": [
        "# Task 9\n",
        "\n",
        "The RELU function is frequently used activation function of neurons in deep neural networks. It is defined by\n",
        "\n",
        "$$y=\\mbox{relu}(x)=\\mbox{max}(0, x)$$ \n",
        "\n",
        "Draw a graf of this function for $x\\in <-10,10>$. "
      ],
      "id": "YMivwiEh01H_"
    },
    {
      "cell_type": "code",
      "execution_count": 13,
      "metadata": {
        "id": "yawrJlQ201IA",
        "outputId": "8d55d624-70d8-4128-d2d5-b4ad6160b122",
        "colab": {
          "base_uri": "https://localhost:8080/",
          "height": 279
        }
      },
      "outputs": [
        {
          "output_type": "display_data",
          "data": {
            "text/plain": [
              "<Figure size 432x288 with 1 Axes>"
            ],
            "image/png": "[encoded data removed]"
          },
          "metadata": {
            "needs_background": "light"
          }
        }
      ],
      "source": [
        "#Write your code here\n",
        "relu = lambda x: np.maximum(0,x)\n",
        "x = np.arange(-10., 10., 0.2)\n",
        "y = relu(x)\n",
        "\n",
        "plt.plot(x,y)\n",
        "plt.axhline(0, color='grey', ls='--')\n",
        "plt.axvline(0, color='grey')\n",
        "plt.xlabel('x')\n",
        "plt.ylabel('y')\n",
        "plt.legend(['relu(x) = max(0,x)'])\n",
        "plt.show()\n"
      ],
      "id": "yawrJlQ201IA"
    },
    {
      "cell_type": "markdown",
      "metadata": {
        "id": "7H5vew9v01IA"
      },
      "source": [
        "# Task 11\n",
        "\n",
        "The Gaussian function is frequently used as an activation function of RBF neurons. It is defined by the equation\n",
        "\n",
        "$$y=g(x)=e^{\\frac{-x^2}{2\\sigma^2}}$$ \n",
        "\n",
        "Draw a graf of this function for $x\\in <-10,10>$ and $\\sigma=\\{0.2,0.5,1,2,5\\}$. "
      ],
      "id": "7H5vew9v01IA"
    },
    {
      "cell_type": "code",
      "execution_count": 14,
      "metadata": {
        "id": "-NHAtLkN01IB",
        "outputId": "43a493a9-1e42-4b5b-d5e1-d0cc16bc462f",
        "colab": {
          "base_uri": "https://localhost:8080/",
          "height": 265
        }
      },
      "outputs": [
        {
          "output_type": "display_data",
          "data": {
            "text/plain": [
              "<Figure size 432x288 with 1 Axes>"
            ],
            "image/png": "[encoded data removed]"
          },
          "metadata": {
            "needs_background": "light"
          }
        }
      ],
      "source": [
        "#Write your code here\n",
        "import numpy as np\n",
        "def gaussian(x,sig):\n",
        "  return np.exp(-np.power(x, 2.) / (2 * np.power(sig, 2.)))\n",
        "\n",
        "x = np.arange(-10.,10.,0.2)\n",
        "sig = np.array([0.2,0.5,1,2,5])\n",
        "y = gaussian(x,0.2)\n",
        "y2 = gaussian(x,0.5)\n",
        "y3 = gaussian(x,1)\n",
        "y4 = gaussian(x,2)\n",
        "y5 = gaussian(x,5)\n",
        "fig, ax = plt.subplots()\n",
        "\n",
        "ax.plot(x, y,label = 'g(x,0.2)')\n",
        "ax.plot(x, y2, label = 'g(x,0.5)')\n",
        "ax.plot(x,y3, label = 'g(x,1)')\n",
        "ax.plot(x,y4, label ='g(x,2)')\n",
        "ax.plot(x,y5,label ='g(x,5)')\n",
        "#plt.plot(x,y)\n",
        "#ax.legend(custom_lines, ['Cold', 'Medium', 'Hot'])\n",
        "ax.legend(loc='upper right')\n",
        "plt.show()\n"
      ],
      "id": "-NHAtLkN01IB"
    },
    {
      "cell_type": "markdown",
      "metadata": {
        "id": "Eud0h2Vp01IB"
      },
      "source": [
        "# Task 12\n",
        "\n",
        "Draw response of the two input perceptron neuron defined by\n",
        "\n",
        "$$y=\\sigma(\\sum_{i=0}^{1}w_ix_i + b)$$\n",
        "\n",
        "where $w_0=10$,$w_1=10$, $b=-10$."
      ],
      "id": "Eud0h2Vp01IB"
    },
    {
      "cell_type": "code",
      "execution_count": 21,
      "metadata": {
        "scrolled": true,
        "id": "QFBaJeKx01IC",
        "outputId": "4033d6b3-f584-42c7-8c45-113a489e7730",
        "colab": {
          "base_uri": "https://localhost:8080/",
          "height": 248
        }
      },
      "outputs": [
        {
          "output_type": "display_data",
          "data": {
            "text/plain": [
              "<Figure size 432x288 with 1 Axes>"
            ],
            "image/png": "[encoded data removed]"
          },
          "metadata": {
            "needs_background": "light"
          }
        }
      ],
      "source": [
        "#Write your code here\n",
        "import matplotlib.pyplot as plt\n",
        "import numpy as np\n",
        "import matplotlib.colors\n",
        "from mpl_toolkits.mplot3d import Axes3D\n",
        "\n",
        "sigmoid = lambda x: 1 / (1 + np.exp(-x))\n",
        "\n",
        "\n",
        "def perceptron(x,w,b):\n",
        "  return np.dot(x, w) + b\n",
        "\n",
        "brycmap = matplotlib.colors.LinearSegmentedColormap.from_list(\"\", [\"#14037e\",\"#94019e\",\"yellow\"])\n",
        "w=np.array([10,10])\n",
        "b = -10\n",
        "x = np.arange(0,1,0.01)\n",
        "y = np.arange(0,1,0.01)\n",
        "x0,x1 = np.meshgrid(x,y)\n",
        "perceptronGrid=np.zeros(x0.shape)\n",
        "for i in range(x.size):\n",
        "    for j in range(y.size):\n",
        "      perceptronGrid[i,j]= sigmoid(perceptron(np.asarray([x[j],y[i]]),w,b))\n",
        "\n",
        "fig = plt.figure()\n",
        "ax = fig.gca(projection='3d')\n",
        "ax.plot_surface(x0,x1,perceptronGrid,cmap = brycmap)\n",
        "plt.show()\n",
        "\n"
      ],
      "id": "QFBaJeKx01IC"
    },
    {
      "cell_type": "markdown",
      "metadata": {
        "id": "1R6JimRj01IC"
      },
      "source": [
        "# Task 13\n",
        "\n",
        "Draw response of the two input RBF neuron defined by\n",
        "\n",
        "$$y=g(\\sum_{i=0}^{1}(x_i-c_i)^2)$$\n",
        "\n",
        "where $c_0=0.5$, $c_1=0.5$, $\\sigma=0.15$."
      ],
      "id": "1R6JimRj01IC"
    },
    {
      "cell_type": "code",
      "execution_count": 22,
      "metadata": {
        "id": "U4J7vhIV01ID",
        "outputId": "47186db3-fae4-4471-d50b-ac329b418ed2",
        "colab": {
          "base_uri": "https://localhost:8080/",
          "height": 248
        }
      },
      "outputs": [
        {
          "output_type": "display_data",
          "data": {
            "text/plain": [
              "<Figure size 432x288 with 1 Axes>"
            ],
            "image/png": "[encoded data removed]"
          },
          "metadata": {
            "needs_background": "light"
          }
        }
      ],
      "source": [
        "#Write your code here\n",
        "import matplotlib.pyplot as plt\n",
        "import numpy as np\n",
        "import matplotlib.colors\n",
        "from mpl_toolkits.mplot3d import Axes3D\n",
        "import math\n",
        "\n",
        "def gaussian(x,sig):\n",
        "  return np.exp(-np.power(x, 2.) / (2 * np.power(sig, 2.)))\n",
        "\n",
        "\n",
        "def rbf(x1,x2):\n",
        "  sum = 0\n",
        "  for i in range(len(x1)):\n",
        "    sum += (x1[i]-x2[i]) ** 2\n",
        "  return np.sqrt(sum)\n",
        "\n",
        "brycmap = matplotlib.colors.LinearSegmentedColormap.from_list(\"\", [\"#14037e\",\"#94019e\",\"yellow\"])\n",
        "\n",
        "sig = 0.15\n",
        "c = np.array([0.5,0.5])\n",
        "x = np.arange(0,1,0.01)\n",
        "y = np.arange(0,1,0.01)\n",
        "x0,x1 = np.meshgrid(x,y)\n",
        "rbfGrid=np.zeros(x0.shape)\n",
        "for i in range(x.size):\n",
        "    for j in range(y.size):\n",
        "      rbfGrid[i,j]= gaussian(rbf(np.asarray([x[j],y[i]]),c),sig)\n",
        "\n",
        "fig = plt.figure()\n",
        "ax = fig.gca(projection='3d')\n",
        "ax.plot_surface(x0,x1,rbfGrid,cmap = brycmap)\n",
        "plt.show()\n",
        "\n"
      ],
      "id": "U4J7vhIV01ID"
    },
    {
      "cell_type": "markdown",
      "metadata": {
        "id": "FNDzGypr01ID"
      },
      "source": [
        "# Task 14\n",
        "\n",
        "Load MNIST dataset using tensorflow from http://yann.lecun.com/exdb/mnist/ including additional information."
      ],
      "id": "FNDzGypr01ID"
    },
    {
      "cell_type": "code",
      "execution_count": 2,
      "metadata": {
        "id": "bkKcLdux01ID",
        "colab": {
          "base_uri": "https://localhost:8080/"
        },
        "outputId": "683a6143-edd6-48e1-f6de-09188e55727f"
      },
      "outputs": [
        {
          "output_type": "stream",
          "name": "stdout",
          "text": [
            "Downloading data from https://storage.googleapis.com/tensorflow/tf-keras-datasets/mnist.npz\n",
            "11490434/11490434 [==============================] - 0s 0us/step\n"
          ]
        }
      ],
      "source": [
        "from keras.datasets import mnist\n",
        "\n",
        "(train_X, train_y), (test_X, test_y) = mnist.load_data()"
      ],
      "id": "bkKcLdux01ID"
    },
    {
      "cell_type": "markdown",
      "metadata": {
        "id": "DQ9ZfWUz01IE"
      },
      "source": [
        "### Subtask 1\n",
        "\n",
        "print the size of the input image at sample 0,"
      ],
      "id": "DQ9ZfWUz01IE"
    },
    {
      "cell_type": "code",
      "execution_count": 3,
      "metadata": {
        "id": "5EndKfVH01IE",
        "outputId": "c19af91a-578c-4992-fab6-93a64a66a805",
        "colab": {
          "base_uri": "https://localhost:8080/"
        }
      },
      "outputs": [
        {
          "output_type": "execute_result",
          "data": {
            "text/plain": [
              "(28, 28)"
            ]
          },
          "metadata": {},
          "execution_count": 3
        }
      ],
      "source": [
        "# train_X[0].shape\n",
        "train_X[0].shape"
      ],
      "id": "5EndKfVH01IE"
    },
    {
      "cell_type": "markdown",
      "metadata": {
        "id": "jFQbh7a801IF"
      },
      "source": [
        "### Subtask 2\n",
        "\n",
        "print the input image at sample 0 as a picture composed from dot and hash characters in text mode."
      ],
      "id": "jFQbh7a801IF"
    },
    {
      "cell_type": "code",
      "execution_count": 26,
      "metadata": {
        "id": "BsYWr2Hv01IF",
        "outputId": "486bb7c2-a92e-48f6-e0af-a371fd52c582",
        "colab": {
          "base_uri": "https://localhost:8080/",
          "height": 0
        }
      },
      "outputs": [
        {
          "output_type": "stream",
          "name": "stdout",
          "text": [
            "............................\n",
            "............................\n",
            "............................\n",
            "............................\n",
            "............................\n",
            "............############....\n",
            "........################....\n",
            ".......################.....\n",
            ".......###########..........\n",
            "........#######.##..........\n",
            ".........#####..............\n",
            "...........####.............\n",
            "...........####.............\n",
            "............######..........\n",
            ".............######.........\n",
            "..............######........\n",
            "...............#####........\n",
            ".................####.......\n",
            "..............#######.......\n",
            "............########........\n",
            "..........#########.........\n",
            "........##########..........\n",
            "......##########............\n",
            "....##########..............\n",
            "....########................\n",
            "............................\n",
            "............................\n",
            "............................\n"
          ]
        }
      ],
      "source": [
        "five = np.array(train_X[0])\n",
        "\n",
        "#five[0]\n",
        "\n",
        "for i in range(five[0].size):\n",
        "  for j in range(five[i].size):\n",
        "    if five[i][j] == 0:\n",
        "      print('.',end='')\n",
        "    else:\n",
        "      print('#',end='')\n",
        "  print()\n"
      ],
      "id": "BsYWr2Hv01IF"
    },
    {
      "cell_type": "markdown",
      "metadata": {
        "id": "_SLYWXy901IF"
      },
      "source": [
        "### Subtask 3\n",
        "\n",
        "print the input image at sample 0 as a picture using matplotlib library.\n"
      ],
      "id": "_SLYWXy901IF"
    },
    {
      "cell_type": "code",
      "execution_count": 25,
      "metadata": {
        "id": "YWrt9DLh01IG",
        "outputId": "1eeb8aa6-69d4-4906-f80e-dcb08611557f",
        "colab": {
          "base_uri": "https://localhost:8080/",
          "height": 265
        }
      },
      "outputs": [
        {
          "output_type": "display_data",
          "data": {
            "text/plain": [
              "<Figure size 432x288 with 1 Axes>"
            ],
            "image/png": "[encoded data removed]"
          },
          "metadata": {
            "needs_background": "light"
          }
        }
      ],
      "source": [
        "from matplotlib import pyplot\n",
        "\n",
        "plt.imshow(train_X[0],cmap='Greys')\n",
        "plt.show()"
      ],
      "id": "YWrt9DLh01IG"
    },
    {
      "cell_type": "markdown",
      "metadata": {
        "id": "Iz_MWZ7h01IG"
      },
      "source": [
        "### Subtask 4\n",
        "\n",
        "Display input images of the first 16 samples using the matplotlib library.\n"
      ],
      "id": "Iz_MWZ7h01IG"
    },
    {
      "cell_type": "code",
      "execution_count": 28,
      "metadata": {
        "id": "lXBhda_I01IG",
        "outputId": "0b55a3b7-5cad-4ca0-e08b-ca494d3fa675",
        "colab": {
          "base_uri": "https://localhost:8080/",
          "height": 268
        }
      },
      "outputs": [
        {
          "output_type": "display_data",
          "data": {
            "text/plain": [
              "<Figure size 288x288 with 16 Axes>"
            ],
            "image/png": "[encoded data removed]"
          },
          "metadata": {
            "needs_background": "light"
          }
        }
      ],
      "source": [
        "fig = plt.figure(figsize=(4, 4))\n",
        "\n",
        "noOfrows = 4\n",
        "noOfcolumns = 4\n",
        "\n",
        "for i in range(16):\n",
        "  fig.add_subplot(noOfrows, noOfcolumns, i+1)\n",
        "  plt.imshow(train_X[i],cmap='Greys')"
      ],
      "id": "lXBhda_I01IG"
    }
  ],
  "metadata": {
    "kernelspec": {
      "display_name": "Python 3",
      "language": "python",
      "name": "python3"
    },
    "language_info": {
      "codemirror_mode": {
        "name": "ipython",
        "version": 3
      },
      "file_extension": ".py",
      "mimetype": "text/x-python",
      "name": "python",
      "nbconvert_exporter": "python",
      "pygments_lexer": "ipython3",
      "version": "3.7.4"
    },
    "colab": {
      "provenance": [],
      "collapsed_sections": []
    }
  },
  "nbformat": 4,
  "nbformat_minor": 5
}